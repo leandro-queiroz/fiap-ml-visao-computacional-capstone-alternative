{
 "cells": [
  {
   "cell_type": "markdown",
   "metadata": {
    "colab_type": "text",
    "id": "99vZuz_VLUpN"
   },
   "source": [
    "# MBA FIAP Inteligência Artificial & Machine Learning\n",
    "\n",
    "## Visão Computacional: Análise de Imagens Médicas\n",
    "\n",
    "## 1. Introdução\n",
    "\n",
    "As tecnologias de imagens médicas estão cada vez mais integradas aos sitemas de visão computacional, incluindo as imagens de raio-x.\n",
    "\n",
    "Modelos de equipamentos modernos geram imagens digitais deste tipo de exame, proporcionando análises mais completas e menos _ad-hoc_, com isso algumas pré-análises podem ser realizadas por aplicações baseadas em inteligência artificial para confirmar ou sugerir diagnósticos ao profissional responsável pelo exame.\n",
    "\n",
    "No campo dos diagósticos por raios-x, a pnenumonia é uma das enfermidades onde seu uso é um dos mais aplicados para determinar o curso de tratamento.\n",
    "\n",
    "<p align=\"center\">\n",
    "    <img src=\"imagens/NORMAL2-IM-1422-0001.jpeg\">\n",
    "</p>\n",
    "\n",
    "## 2. Instruções\n",
    "\n",
    "Este projeto final tem como objetivo explorar os conhecimentos adquiridos nas aulas práticas.\n",
    "\n",
    "Por meio de uma trilha guiada, iremos constuir um modelo que seja capaz de classificar imagens de raio-x para determinar se a determinada pessoa está com alguma condição que necessita maiores cuidados.\n",
    "\n",
    "De acordo com as imagens disponíveis para o treinamento e validação, será de critério do grupo selecionar as quantidades ideais ou até mesmo pré-processar as imagens para obter o melhor resultado, nos principais indicadores de performance, como precisão, sensibilidade e pontuação F1.\n",
    "\n",
    "Este projeto poderá ser feita por grupos de até 4 pessoas.\n",
    "Caso este projeto seja substitutivo, deverá ser realizado por apenas uma pessoa.\n",
    "\n",
    "| Nome dos Integrantes              | RM             | Turma   |\n",
    "| :-----------------------          | :------------- | :-----: |\n",
    "| Eduardo Rodrigo Ferreira          | RM 335756      | `10IA`  |\n",
    "| Josenilton Sergio Silva Fernandes | RM 335527      | `10IA`  |\n",
    "| Leandro Queiroz Santos Silva      | RM 335535      | `10IA`  |\n",
    "\n",
    "Por ser um projeto guiado, fique atento quando houver as marcações **Implementação** indica que é necessário realizar alguma implementação em Python no bloco a seguir onde há a inscrição ```##IMPLEMENTAR``` e **Resposta** indica que é esperado uma resposta objetiva relacionado a algum questionamento. \n",
    "\n",
    "**Cada grupo pode utilizar nas respostas objetivas quaisquer itens necessários que enriqueçam seu ponto vista, como gráficos, fotos e, até mesmo, trechos de código-fonte.**\n",
    "\n",
    "Pode-se utilizar quantos blocos forem necessários para realizar determinadas implementações ou utilizá-las para justificar as respostas. Não é obrigatório utilizar somente o bloco indicado.\n",
    "\n",
    "Ao final não se esqueça de subir os arquivos do projeto nas contas do GitHub de cada membro, ou subir na do representante do grupo e os membros realizarem o fork do projeto.\n",
    "\n",
    "A avaliação terá mais ênfase nos seguintes tópicos de desenvolvimento do projeto:\n",
    " \n",
    "1. __Pré-Processamento__\n",
    "2. __Classificação__\n",
    "3. __Performance__\n",
    "4. __Conclusões Finais__"
   ]
  },
  {
   "cell_type": "markdown",
   "metadata": {
    "colab_type": "text",
    "id": "5_4uTSeQLUpP"
   },
   "source": [
    "## 3.1 Detalhe do problema: a pneunomia\n",
    "\n",
    "Fonte: [artigo](https://drauziovarella.uol.com.br/doencas-e-sintomas/pneumonia) do Dr. Drauzio Varella.\n",
    "\n",
    "Pneumonias são infecções que se instalam nos pulmões, órgãos duplos localizados um de cada lado da caixa torácica. Podem acometer a região dos alvéolos pulmonares onde desembocam as ramificações terminais dos brônquios e, às vezes, os interstícios (espaço entre um alvéolo e outro).\n",
    "\n",
    "Basicamente, pneumonia é provocada pela penetração de um agente infeccioso ou irritante (bactérias, vírus, fungos e por reações alérgicas) no espaço alveolar, onde ocorre a troca gasosa. Esse local deve estar sempre muito limpo, livre de substâncias que possam impedir o contato do ar com o sangue.\n",
    "\n",
    "Exame clínico, auscultação dos pulmões e radiografias de tórax são recursos essenciais para o diagnóstico de pneumonia.\n",
    "\n",
    "<p align=\"center\">\n",
    "    <img src=\"imagens/pneumonia.jpeg\">\n",
    "</p>"
   ]
  },
  {
   "cell_type": "markdown",
   "metadata": {
    "colab_type": "text",
    "id": "6cagv_vKLUpP"
   },
   "source": [
    "## 3.2 Diagnóstico por raio-x"
   ]
  },
  {
   "cell_type": "markdown",
   "metadata": {
    "colab_type": "text",
    "id": "NtQt-4B1LUpQ"
   },
   "source": [
    "O exame de raio-x traz diferenças em cada tipo de diagnóstico, sendo considerado os seguintes grupos de análise: **normal** (ou controle) onde não há nenhuma condição de infeção, **bacterial pneumonia** (pneumonia bacteriana) que representa a condição de infecção bacteriana e **viral pneumonia** que indica a condição de infecção vira. "
   ]
  },
  {
   "cell_type": "markdown",
   "metadata": {
    "colab_type": "text",
    "id": "Oc9CDSVCLUpR"
   },
   "source": [
    "<p align=\"center\">\n",
    "<img src=\"imagens/raiox.png\" height=\"60%\" width=\"60%\">\n",
    "</p>"
   ]
  },
  {
   "cell_type": "markdown",
   "metadata": {
    "colab_type": "text",
    "id": "26EOb2XcLUpR"
   },
   "source": [
    "As imagens de controle não são mais brancas ao centro que é onde fica o coração. Já nas imagens com pneumonia é possível notar regiões brancas ao redor dos pulmões, que é como o exame identifica as secreções responsáveis pela infeçcão.\n",
    "\n",
    "Quando mais regiões brancas ao redor do pulmão mais severa é a inflamação e menos se observa dos detalhes dos pulmões, ficando um pouco esmaecido diante desta condição."
   ]
  },
  {
   "cell_type": "markdown",
   "metadata": {
    "colab_type": "text",
    "id": "OOWIjp_lLUpS"
   },
   "source": [
    "## 4.1 Problema\n",
    "\n",
    "Construir um classificador utilizando _transfer learning_ para identificar as seguintes classes: **controle**, **pneumonia bacteriana** e **pneumonia viral**.\n",
    "\n",
    "Para construir este classificador, utilize o dataset do [Kaggle Chest Ray Pneumonia](https://www.kaggle.com/paultimothymooney/chest-xray-pneumonia) e organize os dados de forma a separar em cada uma das classes que já estão definidas no diretório ```raiox```, sendo ```controle``` para as imagens normais (sem inflamação), ```bacteria``` para as imagens de pneumonia bacteriana e ```viral``` para as imagens de pneumonia viral.\n",
    "\n",
    "Determine a quantidade de imagens a serem treinadas e validadas. Utiliza pelo menos, 100 imagens para cada classe.\n",
    "\n",
    "Compare os resultados com pelo menos 3 classificadores, obtendo os valores de **precisão (precision)**, **sensibilidade (recall)** e **pontuação F1 (F1 Score)**. No guia abaixo, foi indicado os seguintes modelos: ResNet50, VGG16 e VGG19. \n",
    "\n",
    ">Importante: a escolha do número de imagens devem ser o suficiente para alcançar o valor de **precisão** mínima de 70%.\n",
    "\n",
    "A construção do modelo será utilizada o framework Keras."
   ]
  },
  {
   "cell_type": "markdown",
   "metadata": {
    "colab_type": "text",
    "id": "fC9BGZuLLUpS"
   },
   "source": [
    "**Pergunta**: Qual o número de imagens que foram selecionadas para cada classe?"
   ]
  },
  {
   "cell_type": "markdown",
   "metadata": {
    "colab_type": "text",
    "id": "yQdcIBooLUpT"
   },
   "source": [
    "**Resposta**: ```1490``` imagens para cada classe"
   ]
  },
  {
   "cell_type": "code",
   "execution_count": null,
   "metadata": {
    "colab": {
     "base_uri": "https://localhost:8080/",
     "height": 34
    },
    "colab_type": "code",
    "id": "K_VZ9YKy_8Wd",
    "outputId": "62de6b5a-84af-4717-a27c-7034909464f7"
   },
   "outputs": [
    {
     "name": "stdout",
     "output_type": "stream",
     "text": [
      "1491\n"
     ]
    }
   ],
   "source": [
    "!echo \"Quantidade de imagens bacteria\" && find /content/fiap-ml-visao-computacional-capstone-alternative/projeto-final/raiox/bacteria/*.jpeg -ls | wc -l"
   ]
  },
  {
   "cell_type": "code",
   "execution_count": null,
   "metadata": {
    "colab": {
     "base_uri": "https://localhost:8080/",
     "height": 34
    },
    "colab_type": "code",
    "id": "kxReUwwo__tk",
    "outputId": "1fc46e6c-ffc8-4e92-e110-2608672f11e0"
   },
   "outputs": [
    {
     "name": "stdout",
     "output_type": "stream",
     "text": [
      "1491\n"
     ]
    }
   ],
   "source": [
    "!echo \"Quantidade de imagens controle\" && find /content/fiap-ml-visao-computacional-capstone-alternative/projeto-final/raiox/controle/*.jpeg -ls | wc -l"
   ]
  },
  {
   "cell_type": "code",
   "execution_count": null,
   "metadata": {
    "colab": {
     "base_uri": "https://localhost:8080/",
     "height": 34
    },
    "colab_type": "code",
    "id": "ZLfV8kQG__hY",
    "outputId": "cbdcbf10-b964-4cb2-b12c-beb1329f08ad"
   },
   "outputs": [
    {
     "name": "stdout",
     "output_type": "stream",
     "text": [
      "1491\n"
     ]
    }
   ],
   "source": [
    "!echo \"Quantidade de imagens viral\" && find /content/fiap-ml-visao-computacional-capstone-alternative/projeto-final/raiox/viral/*.jpeg -ls | wc -l"
   ]
  },
  {
   "cell_type": "markdown",
   "metadata": {
    "colab_type": "text",
    "id": "ptu8TUT1LUpU"
   },
   "source": [
    "## 4.2 Componentes obrigatórios\n",
    "\n",
    "Este projeto requer a instalação dos seguintes componentes, via ```conda install```:\n",
    "\n",
    "* Keras\n",
    "* Tensorflow\n",
    "* Pillow\n",
    "* Matplotlib"
   ]
  },
  {
   "cell_type": "code",
   "execution_count": null,
   "metadata": {
    "colab": {},
    "colab_type": "code",
    "id": "hPyyQd_ILUpU"
   },
   "outputs": [],
   "source": [
    "import os\n",
    "\n",
    "import numpy as np\n",
    "import matplotlib.pyplot as plt\n",
    "from PIL import Image\n",
    "\n",
    "%matplotlib inline\n",
    "\n",
    "import keras\n",
    "from keras.preprocessing.image import ImageDataGenerator\n",
    "from keras.applications import ResNet50\n",
    "from keras.applications import VGG16, VGG19\n",
    "from keras.applications import Xception\n",
    "from keras.applications.xception import preprocess_input\n",
    "from keras.applications.resnet50 import preprocess_input\n",
    "from keras.applications.vgg16 import preprocess_input\n",
    "from keras import Model, layers\n",
    "from keras.models import load_model, model_from_json\n",
    "\n",
    "import keras.backend as K"
   ]
  },
  {
   "cell_type": "markdown",
   "metadata": {
    "colab_type": "text",
    "id": "nUe6HiHXLUpY"
   },
   "source": [
    "## 4.3 Carregando imagens de treinamento e validação\n",
    "\n",
    "Selecione a melhor divisão entre dados de treinamento e validação. O número deverá ser representado em número fracionário, 5% equivale a 0.05, por exemplo."
   ]
  },
  {
   "cell_type": "code",
   "execution_count": null,
   "metadata": {
    "colab": {},
    "colab_type": "code",
    "id": "YTgyMw6TLUpZ"
   },
   "outputs": [],
   "source": [
    "## IMPLEMENTE\n",
    "divisao_treino_validacao = 0.25"
   ]
  },
  {
   "cell_type": "code",
   "execution_count": null,
   "metadata": {
    "colab": {
     "base_uri": "https://localhost:8080/",
     "height": 34
    },
    "colab_type": "code",
    "id": "u1uo_yDZLUpb",
    "outputId": "df42ed67-8562-4d75-fa6a-f3180dc9502f"
   },
   "outputs": [
    {
     "name": "stdout",
     "output_type": "stream",
     "text": [
      "Found 3354 images belonging to 3 classes.\n"
     ]
    }
   ],
   "source": [
    "train_datagen = ImageDataGenerator(validation_split=divisao_treino_validacao)\n",
    "\n",
    "train_generator = train_datagen.flow_from_directory(\n",
    "    \"raiox/\",\n",
    "    batch_size=32,\n",
    "    class_mode=\"categorical\",\n",
    "    color_mode=\"rgb\",\n",
    "    target_size=(224,224),\n",
    "    subset=\"training\")"
   ]
  },
  {
   "cell_type": "code",
   "execution_count": null,
   "metadata": {
    "colab": {
     "base_uri": "https://localhost:8080/",
     "height": 34
    },
    "colab_type": "code",
    "id": "lljX_OWiLUpf",
    "outputId": "689b0c84-6699-4197-bbf7-60c5149eb191"
   },
   "outputs": [
    {
     "name": "stdout",
     "output_type": "stream",
     "text": [
      "Found 1116 images belonging to 3 classes.\n"
     ]
    }
   ],
   "source": [
    "val_generator = train_datagen.flow_from_directory(\n",
    "    \"raiox/\",\n",
    "    batch_size=32,\n",
    "    class_mode=\"categorical\",\n",
    "    color_mode=\"rgb\",\n",
    "    target_size=(224,224),\n",
    "    subset=\"validation\")"
   ]
  },
  {
   "cell_type": "code",
   "execution_count": null,
   "metadata": {
    "colab": {
     "base_uri": "https://localhost:8080/",
     "height": 51
    },
    "colab_type": "code",
    "id": "c0xPJR9mLUpi",
    "outputId": "8706f205-482e-4460-881b-ef0521dd85ef"
   },
   "outputs": [
    {
     "data": {
      "text/plain": [
       "({'bacteria': 0, 'controle': 1, 'viral': 2},\n",
       " {'bacteria': 0, 'controle': 1, 'viral': 2})"
      ]
     },
     "execution_count": 49,
     "metadata": {
      "tags": []
     },
     "output_type": "execute_result"
    }
   ],
   "source": [
    "train_generator.class_indices, val_generator.class_indices"
   ]
  },
  {
   "cell_type": "markdown",
   "metadata": {
    "colab_type": "text",
    "id": "fq68WKePLUpl"
   },
   "source": [
    "## 4.4 Modelos de transfer learning\n",
    "\n",
    "O Keras já possui classes especializadas para os seguintes modelos de deep-learning treinados com o conjunto de dados [ImageNet](http://www.image-net.org/):\n",
    "  \n",
    "* Xception\n",
    "* VGG16\n",
    "* VGG19\n",
    "* ResNet50\n",
    "* InceptionV3\n",
    "* InceptionResNetV2\n",
    "* MobileNet\n",
    "* DenseNet\n",
    "* NASNet\n",
    "* MobileNetV2\n",
    "\n",
    "Mais detalhes, veja na [documentação do Keras](https://keras.io/applications/)."
   ]
  },
  {
   "cell_type": "markdown",
   "metadata": {
    "colab_type": "text",
    "id": "ljwJ4QhELUpm"
   },
   "source": [
    "Para este estudo, vamos utilizar para avaliação as seguintes arquiteturas: RestNet50, VGG15 e VGG19."
   ]
  },
  {
   "cell_type": "markdown",
   "metadata": {
    "colab_type": "text",
    "id": "W2l7OKoYLUpn"
   },
   "source": [
    "## 4.5 Indicadores de desempenho\n",
    "\n",
    "O Keras não possui os indicadores de desempenho como precisão, sensibilidade e pontuação f1 por padrão, portanto precisamos implementar externamente."
   ]
  },
  {
   "cell_type": "code",
   "execution_count": null,
   "metadata": {
    "colab": {},
    "colab_type": "code",
    "id": "kzrROrZILUpn"
   },
   "outputs": [],
   "source": [
    "def recall_score(y_true, y_pred):\n",
    "    true_positives = K.sum(K.round(K.clip(y_true * y_pred, 0, 1)))\n",
    "    possible_positives = K.sum(K.round(K.clip(y_true, 0, 1)))\n",
    "    recall = true_positives / (possible_positives + K.epsilon())\n",
    "    return recall\n",
    "\n",
    "def precision_score(y_true, y_pred):\n",
    "    true_positives = K.sum(K.round(K.clip(y_true * y_pred, 0, 1)))\n",
    "    predicted_positives = K.sum(K.round(K.clip(y_pred, 0, 1)))\n",
    "    precision = true_positives / (predicted_positives + K.epsilon())\n",
    "    return precision\n",
    "\n",
    "def f1_score(y_true, y_pred):\n",
    "    precision = precision_score(y_true, y_pred)\n",
    "    recall = recall_score(y_true, y_pred)\n",
    "    return 2*((precision*recall)/(precision+recall+K.epsilon()))"
   ]
  },
  {
   "cell_type": "markdown",
   "metadata": {
    "colab_type": "text",
    "id": "5NcYeqqyLUpq"
   },
   "source": [
    "### 4.5.1 Arquitetura ResNet50"
   ]
  },
  {
   "cell_type": "markdown",
   "metadata": {
    "colab_type": "text",
    "id": "tYGUE3qgLUpq"
   },
   "source": [
    "**Pergunta**: Explique como é constituída a arquitetura do ResNet50? *Utilize, se necessário, gráficos, projetos que utilizam essa arquitetura. Detalhe também sua topologia em camadas e mostre quais as situações essa arquitetura pode ter mais êxito e quais cenários não tem.*"
   ]
  },
  {
   "cell_type": "markdown",
   "metadata": {
    "colab_type": "text",
    "id": "QwZBW8VhLUpr"
   },
   "source": [
    "**Resposta**:\n",
    "\n",
    "A arquitetura do ResNet50 possui 4 estágios. A rede pode pegar a imagem de entrada com altura, largura de múltiplos de 32 e 3 como largura de canal. Para fins de explicação, consideraremos o tamanho da entrada como 224 x 224 x 3. Toda arquitetura ResNet executa a convolução inicial e o pool máximo usando os tamanhos de kernel 7 × 7 e 3 × 3, respectivamente. Posteriormente, o estágio 1 da rede é iniciado e possui 3 blocos residuais contendo 3 camadas cada. O tamanho dos núcleos usados ​​para executar a operação de convolução nas três camadas do bloco do estágio 1 são 64, 64 e 128, respectivamente. As setas curvas se referem à conexão de identidade. A seta conectada tracejada representa que a operação de convolução no bloco residual é realizada com passo 2, portanto, o tamanho da entrada será reduzido à metade em termos de altura e largura, mas a largura do canal será duplicada. À medida que progredimos de um estágio para outro.\n",
    "\n",
    "Para redes mais profundas, como ResNet50, ResNet152, etc, é usado o design de gargalo. Para cada função residual F, três camadas são empilhadas uma sobre a outra. As três camadas são convoluções 1 × 1, 3 × 3, 1 × 1 . As camadas de convolução 1 × 1 são responsáveis ​​por reduzir e restaurar as dimensões. A camada 3 × 3 é deixada como um gargalo com dimensões menores de entrada / saída.\n",
    "\n",
    "Por fim, a rede possui uma camada Average Pooling seguida por uma camada totalmente conectada com 1000 neurônios (saída da classe ImageNet).\n",
    "\n",
    "<p align=\"center\">\n",
    "    <img src=\"imagens/ResNet50.png\">\n",
    "</p>"
   ]
  },
  {
   "cell_type": "markdown",
   "metadata": {
    "colab_type": "text",
    "id": "SgaTrSKpLUps"
   },
   "source": [
    "A técnica de transfer learning consiste de utilizar o mesmo modelo e treiná-lo para outas imagens. Por tal motivo, excluímos a última camada para modelar com as classes que definimos, ou seja, **controle**, **bacteriana** e **viral**."
   ]
  },
  {
   "cell_type": "markdown",
   "metadata": {
    "colab_type": "text",
    "id": "-bco37f8LUps"
   },
   "source": [
    "Informe a quantidade de classes a serem classificadas."
   ]
  },
  {
   "cell_type": "code",
   "execution_count": null,
   "metadata": {
    "colab": {},
    "colab_type": "code",
    "id": "Sd1CFcGELUpt"
   },
   "outputs": [],
   "source": [
    "## IMPLEMENTE\n",
    "qtde_classes = 3"
   ]
  },
  {
   "cell_type": "code",
   "execution_count": null,
   "metadata": {
    "colab": {
     "base_uri": "https://localhost:8080/",
     "height": 71
    },
    "colab_type": "code",
    "id": "MgNMG3nJLUpv",
    "outputId": "bd876b18-c3fc-4794-ad79-bddeb5c14a05"
   },
   "outputs": [
    {
     "name": "stderr",
     "output_type": "stream",
     "text": [
      "/usr/local/lib/python3.6/dist-packages/keras_applications/resnet50.py:265: UserWarning: The output shape of `ResNet50(include_top=False)` has been changed since Keras 2.2.0.\n",
      "  warnings.warn('The output shape of `ResNet50(include_top=False)` '\n"
     ]
    }
   ],
   "source": [
    "conv_base = ResNet50(include_top=False)\n",
    "\n",
    "for layer in conv_base.layers:\n",
    "    layer.trainable = False"
   ]
  },
  {
   "cell_type": "code",
   "execution_count": null,
   "metadata": {
    "colab": {
     "base_uri": "https://localhost:8080/",
     "height": 1000
    },
    "colab_type": "code",
    "id": "RGRKiNoGLUpz",
    "outputId": "dc303d3b-4b93-4bd0-ce1f-60df9fe41a8e"
   },
   "outputs": [
    {
     "name": "stdout",
     "output_type": "stream",
     "text": [
      "Model: \"model_4\"\n",
      "__________________________________________________________________________________________________\n",
      "Layer (type)                    Output Shape         Param #     Connected to                     \n",
      "==================================================================================================\n",
      "input_4 (InputLayer)            (None, None, None, 3 0                                            \n",
      "__________________________________________________________________________________________________\n",
      "conv1_pad (ZeroPadding2D)       (None, None, None, 3 0           input_4[0][0]                    \n",
      "__________________________________________________________________________________________________\n",
      "conv1 (Conv2D)                  (None, None, None, 6 9472        conv1_pad[0][0]                  \n",
      "__________________________________________________________________________________________________\n",
      "bn_conv1 (BatchNormalization)   (None, None, None, 6 256         conv1[0][0]                      \n",
      "__________________________________________________________________________________________________\n",
      "activation_50 (Activation)      (None, None, None, 6 0           bn_conv1[0][0]                   \n",
      "__________________________________________________________________________________________________\n",
      "pool1_pad (ZeroPadding2D)       (None, None, None, 6 0           activation_50[0][0]              \n",
      "__________________________________________________________________________________________________\n",
      "max_pooling2d_2 (MaxPooling2D)  (None, None, None, 6 0           pool1_pad[0][0]                  \n",
      "__________________________________________________________________________________________________\n",
      "res2a_branch2a (Conv2D)         (None, None, None, 6 4160        max_pooling2d_2[0][0]            \n",
      "__________________________________________________________________________________________________\n",
      "bn2a_branch2a (BatchNormalizati (None, None, None, 6 256         res2a_branch2a[0][0]             \n",
      "__________________________________________________________________________________________________\n",
      "activation_51 (Activation)      (None, None, None, 6 0           bn2a_branch2a[0][0]              \n",
      "__________________________________________________________________________________________________\n",
      "res2a_branch2b (Conv2D)         (None, None, None, 6 36928       activation_51[0][0]              \n",
      "__________________________________________________________________________________________________\n",
      "bn2a_branch2b (BatchNormalizati (None, None, None, 6 256         res2a_branch2b[0][0]             \n",
      "__________________________________________________________________________________________________\n",
      "activation_52 (Activation)      (None, None, None, 6 0           bn2a_branch2b[0][0]              \n",
      "__________________________________________________________________________________________________\n",
      "res2a_branch2c (Conv2D)         (None, None, None, 2 16640       activation_52[0][0]              \n",
      "__________________________________________________________________________________________________\n",
      "res2a_branch1 (Conv2D)          (None, None, None, 2 16640       max_pooling2d_2[0][0]            \n",
      "__________________________________________________________________________________________________\n",
      "bn2a_branch2c (BatchNormalizati (None, None, None, 2 1024        res2a_branch2c[0][0]             \n",
      "__________________________________________________________________________________________________\n",
      "bn2a_branch1 (BatchNormalizatio (None, None, None, 2 1024        res2a_branch1[0][0]              \n",
      "__________________________________________________________________________________________________\n",
      "add_17 (Add)                    (None, None, None, 2 0           bn2a_branch2c[0][0]              \n",
      "                                                                 bn2a_branch1[0][0]               \n",
      "__________________________________________________________________________________________________\n",
      "activation_53 (Activation)      (None, None, None, 2 0           add_17[0][0]                     \n",
      "__________________________________________________________________________________________________\n",
      "res2b_branch2a (Conv2D)         (None, None, None, 6 16448       activation_53[0][0]              \n",
      "__________________________________________________________________________________________________\n",
      "bn2b_branch2a (BatchNormalizati (None, None, None, 6 256         res2b_branch2a[0][0]             \n",
      "__________________________________________________________________________________________________\n",
      "activation_54 (Activation)      (None, None, None, 6 0           bn2b_branch2a[0][0]              \n",
      "__________________________________________________________________________________________________\n",
      "res2b_branch2b (Conv2D)         (None, None, None, 6 36928       activation_54[0][0]              \n",
      "__________________________________________________________________________________________________\n",
      "bn2b_branch2b (BatchNormalizati (None, None, None, 6 256         res2b_branch2b[0][0]             \n",
      "__________________________________________________________________________________________________\n",
      "activation_55 (Activation)      (None, None, None, 6 0           bn2b_branch2b[0][0]              \n",
      "__________________________________________________________________________________________________\n",
      "res2b_branch2c (Conv2D)         (None, None, None, 2 16640       activation_55[0][0]              \n",
      "__________________________________________________________________________________________________\n",
      "bn2b_branch2c (BatchNormalizati (None, None, None, 2 1024        res2b_branch2c[0][0]             \n",
      "__________________________________________________________________________________________________\n",
      "add_18 (Add)                    (None, None, None, 2 0           bn2b_branch2c[0][0]              \n",
      "                                                                 activation_53[0][0]              \n",
      "__________________________________________________________________________________________________\n",
      "activation_56 (Activation)      (None, None, None, 2 0           add_18[0][0]                     \n",
      "__________________________________________________________________________________________________\n",
      "res2c_branch2a (Conv2D)         (None, None, None, 6 16448       activation_56[0][0]              \n",
      "__________________________________________________________________________________________________\n",
      "bn2c_branch2a (BatchNormalizati (None, None, None, 6 256         res2c_branch2a[0][0]             \n",
      "__________________________________________________________________________________________________\n",
      "activation_57 (Activation)      (None, None, None, 6 0           bn2c_branch2a[0][0]              \n",
      "__________________________________________________________________________________________________\n",
      "res2c_branch2b (Conv2D)         (None, None, None, 6 36928       activation_57[0][0]              \n",
      "__________________________________________________________________________________________________\n",
      "bn2c_branch2b (BatchNormalizati (None, None, None, 6 256         res2c_branch2b[0][0]             \n",
      "__________________________________________________________________________________________________\n",
      "activation_58 (Activation)      (None, None, None, 6 0           bn2c_branch2b[0][0]              \n",
      "__________________________________________________________________________________________________\n",
      "res2c_branch2c (Conv2D)         (None, None, None, 2 16640       activation_58[0][0]              \n",
      "__________________________________________________________________________________________________\n",
      "bn2c_branch2c (BatchNormalizati (None, None, None, 2 1024        res2c_branch2c[0][0]             \n",
      "__________________________________________________________________________________________________\n",
      "add_19 (Add)                    (None, None, None, 2 0           bn2c_branch2c[0][0]              \n",
      "                                                                 activation_56[0][0]              \n",
      "__________________________________________________________________________________________________\n",
      "activation_59 (Activation)      (None, None, None, 2 0           add_19[0][0]                     \n",
      "__________________________________________________________________________________________________\n",
      "res3a_branch2a (Conv2D)         (None, None, None, 1 32896       activation_59[0][0]              \n",
      "__________________________________________________________________________________________________\n",
      "bn3a_branch2a (BatchNormalizati (None, None, None, 1 512         res3a_branch2a[0][0]             \n",
      "__________________________________________________________________________________________________\n",
      "activation_60 (Activation)      (None, None, None, 1 0           bn3a_branch2a[0][0]              \n",
      "__________________________________________________________________________________________________\n",
      "res3a_branch2b (Conv2D)         (None, None, None, 1 147584      activation_60[0][0]              \n",
      "__________________________________________________________________________________________________\n",
      "bn3a_branch2b (BatchNormalizati (None, None, None, 1 512         res3a_branch2b[0][0]             \n",
      "__________________________________________________________________________________________________\n",
      "activation_61 (Activation)      (None, None, None, 1 0           bn3a_branch2b[0][0]              \n",
      "__________________________________________________________________________________________________\n",
      "res3a_branch2c (Conv2D)         (None, None, None, 5 66048       activation_61[0][0]              \n",
      "__________________________________________________________________________________________________\n",
      "res3a_branch1 (Conv2D)          (None, None, None, 5 131584      activation_59[0][0]              \n",
      "__________________________________________________________________________________________________\n",
      "bn3a_branch2c (BatchNormalizati (None, None, None, 5 2048        res3a_branch2c[0][0]             \n",
      "__________________________________________________________________________________________________\n",
      "bn3a_branch1 (BatchNormalizatio (None, None, None, 5 2048        res3a_branch1[0][0]              \n",
      "__________________________________________________________________________________________________\n",
      "add_20 (Add)                    (None, None, None, 5 0           bn3a_branch2c[0][0]              \n",
      "                                                                 bn3a_branch1[0][0]               \n",
      "__________________________________________________________________________________________________\n",
      "activation_62 (Activation)      (None, None, None, 5 0           add_20[0][0]                     \n",
      "__________________________________________________________________________________________________\n",
      "res3b_branch2a (Conv2D)         (None, None, None, 1 65664       activation_62[0][0]              \n",
      "__________________________________________________________________________________________________\n",
      "bn3b_branch2a (BatchNormalizati (None, None, None, 1 512         res3b_branch2a[0][0]             \n",
      "__________________________________________________________________________________________________\n",
      "activation_63 (Activation)      (None, None, None, 1 0           bn3b_branch2a[0][0]              \n",
      "__________________________________________________________________________________________________\n",
      "res3b_branch2b (Conv2D)         (None, None, None, 1 147584      activation_63[0][0]              \n",
      "__________________________________________________________________________________________________\n",
      "bn3b_branch2b (BatchNormalizati (None, None, None, 1 512         res3b_branch2b[0][0]             \n",
      "__________________________________________________________________________________________________\n",
      "activation_64 (Activation)      (None, None, None, 1 0           bn3b_branch2b[0][0]              \n",
      "__________________________________________________________________________________________________\n",
      "res3b_branch2c (Conv2D)         (None, None, None, 5 66048       activation_64[0][0]              \n",
      "__________________________________________________________________________________________________\n",
      "bn3b_branch2c (BatchNormalizati (None, None, None, 5 2048        res3b_branch2c[0][0]             \n",
      "__________________________________________________________________________________________________\n",
      "add_21 (Add)                    (None, None, None, 5 0           bn3b_branch2c[0][0]              \n",
      "                                                                 activation_62[0][0]              \n",
      "__________________________________________________________________________________________________\n",
      "activation_65 (Activation)      (None, None, None, 5 0           add_21[0][0]                     \n",
      "__________________________________________________________________________________________________\n",
      "res3c_branch2a (Conv2D)         (None, None, None, 1 65664       activation_65[0][0]              \n",
      "__________________________________________________________________________________________________\n",
      "bn3c_branch2a (BatchNormalizati (None, None, None, 1 512         res3c_branch2a[0][0]             \n",
      "__________________________________________________________________________________________________\n",
      "activation_66 (Activation)      (None, None, None, 1 0           bn3c_branch2a[0][0]              \n",
      "__________________________________________________________________________________________________\n",
      "res3c_branch2b (Conv2D)         (None, None, None, 1 147584      activation_66[0][0]              \n",
      "__________________________________________________________________________________________________\n",
      "bn3c_branch2b (BatchNormalizati (None, None, None, 1 512         res3c_branch2b[0][0]             \n",
      "__________________________________________________________________________________________________\n",
      "activation_67 (Activation)      (None, None, None, 1 0           bn3c_branch2b[0][0]              \n",
      "__________________________________________________________________________________________________\n",
      "res3c_branch2c (Conv2D)         (None, None, None, 5 66048       activation_67[0][0]              \n",
      "__________________________________________________________________________________________________\n",
      "bn3c_branch2c (BatchNormalizati (None, None, None, 5 2048        res3c_branch2c[0][0]             \n",
      "__________________________________________________________________________________________________\n",
      "add_22 (Add)                    (None, None, None, 5 0           bn3c_branch2c[0][0]              \n",
      "                                                                 activation_65[0][0]              \n",
      "__________________________________________________________________________________________________\n",
      "activation_68 (Activation)      (None, None, None, 5 0           add_22[0][0]                     \n",
      "__________________________________________________________________________________________________\n",
      "res3d_branch2a (Conv2D)         (None, None, None, 1 65664       activation_68[0][0]              \n",
      "__________________________________________________________________________________________________\n",
      "bn3d_branch2a (BatchNormalizati (None, None, None, 1 512         res3d_branch2a[0][0]             \n",
      "__________________________________________________________________________________________________\n",
      "activation_69 (Activation)      (None, None, None, 1 0           bn3d_branch2a[0][0]              \n",
      "__________________________________________________________________________________________________\n",
      "res3d_branch2b (Conv2D)         (None, None, None, 1 147584      activation_69[0][0]              \n",
      "__________________________________________________________________________________________________\n",
      "bn3d_branch2b (BatchNormalizati (None, None, None, 1 512         res3d_branch2b[0][0]             \n",
      "__________________________________________________________________________________________________\n",
      "activation_70 (Activation)      (None, None, None, 1 0           bn3d_branch2b[0][0]              \n",
      "__________________________________________________________________________________________________\n",
      "res3d_branch2c (Conv2D)         (None, None, None, 5 66048       activation_70[0][0]              \n",
      "__________________________________________________________________________________________________\n",
      "bn3d_branch2c (BatchNormalizati (None, None, None, 5 2048        res3d_branch2c[0][0]             \n",
      "__________________________________________________________________________________________________\n",
      "add_23 (Add)                    (None, None, None, 5 0           bn3d_branch2c[0][0]              \n",
      "                                                                 activation_68[0][0]              \n",
      "__________________________________________________________________________________________________\n",
      "activation_71 (Activation)      (None, None, None, 5 0           add_23[0][0]                     \n",
      "__________________________________________________________________________________________________\n",
      "res4a_branch2a (Conv2D)         (None, None, None, 2 131328      activation_71[0][0]              \n",
      "__________________________________________________________________________________________________\n",
      "bn4a_branch2a (BatchNormalizati (None, None, None, 2 1024        res4a_branch2a[0][0]             \n",
      "__________________________________________________________________________________________________\n",
      "activation_72 (Activation)      (None, None, None, 2 0           bn4a_branch2a[0][0]              \n",
      "__________________________________________________________________________________________________\n",
      "res4a_branch2b (Conv2D)         (None, None, None, 2 590080      activation_72[0][0]              \n",
      "__________________________________________________________________________________________________\n",
      "bn4a_branch2b (BatchNormalizati (None, None, None, 2 1024        res4a_branch2b[0][0]             \n",
      "__________________________________________________________________________________________________\n",
      "activation_73 (Activation)      (None, None, None, 2 0           bn4a_branch2b[0][0]              \n",
      "__________________________________________________________________________________________________\n",
      "res4a_branch2c (Conv2D)         (None, None, None, 1 263168      activation_73[0][0]              \n",
      "__________________________________________________________________________________________________\n",
      "res4a_branch1 (Conv2D)          (None, None, None, 1 525312      activation_71[0][0]              \n",
      "__________________________________________________________________________________________________\n",
      "bn4a_branch2c (BatchNormalizati (None, None, None, 1 4096        res4a_branch2c[0][0]             \n",
      "__________________________________________________________________________________________________\n",
      "bn4a_branch1 (BatchNormalizatio (None, None, None, 1 4096        res4a_branch1[0][0]              \n",
      "__________________________________________________________________________________________________\n",
      "add_24 (Add)                    (None, None, None, 1 0           bn4a_branch2c[0][0]              \n",
      "                                                                 bn4a_branch1[0][0]               \n",
      "__________________________________________________________________________________________________\n",
      "activation_74 (Activation)      (None, None, None, 1 0           add_24[0][0]                     \n",
      "__________________________________________________________________________________________________\n",
      "res4b_branch2a (Conv2D)         (None, None, None, 2 262400      activation_74[0][0]              \n",
      "__________________________________________________________________________________________________\n",
      "bn4b_branch2a (BatchNormalizati (None, None, None, 2 1024        res4b_branch2a[0][0]             \n",
      "__________________________________________________________________________________________________\n",
      "activation_75 (Activation)      (None, None, None, 2 0           bn4b_branch2a[0][0]              \n",
      "__________________________________________________________________________________________________\n",
      "res4b_branch2b (Conv2D)         (None, None, None, 2 590080      activation_75[0][0]              \n",
      "__________________________________________________________________________________________________\n",
      "bn4b_branch2b (BatchNormalizati (None, None, None, 2 1024        res4b_branch2b[0][0]             \n",
      "__________________________________________________________________________________________________\n",
      "activation_76 (Activation)      (None, None, None, 2 0           bn4b_branch2b[0][0]              \n",
      "__________________________________________________________________________________________________\n",
      "res4b_branch2c (Conv2D)         (None, None, None, 1 263168      activation_76[0][0]              \n",
      "__________________________________________________________________________________________________\n",
      "bn4b_branch2c (BatchNormalizati (None, None, None, 1 4096        res4b_branch2c[0][0]             \n",
      "__________________________________________________________________________________________________\n",
      "add_25 (Add)                    (None, None, None, 1 0           bn4b_branch2c[0][0]              \n",
      "                                                                 activation_74[0][0]              \n",
      "__________________________________________________________________________________________________\n",
      "activation_77 (Activation)      (None, None, None, 1 0           add_25[0][0]                     \n",
      "__________________________________________________________________________________________________\n",
      "res4c_branch2a (Conv2D)         (None, None, None, 2 262400      activation_77[0][0]              \n",
      "__________________________________________________________________________________________________\n",
      "bn4c_branch2a (BatchNormalizati (None, None, None, 2 1024        res4c_branch2a[0][0]             \n",
      "__________________________________________________________________________________________________\n",
      "activation_78 (Activation)      (None, None, None, 2 0           bn4c_branch2a[0][0]              \n",
      "__________________________________________________________________________________________________\n",
      "res4c_branch2b (Conv2D)         (None, None, None, 2 590080      activation_78[0][0]              \n",
      "__________________________________________________________________________________________________\n",
      "bn4c_branch2b (BatchNormalizati (None, None, None, 2 1024        res4c_branch2b[0][0]             \n",
      "__________________________________________________________________________________________________\n",
      "activation_79 (Activation)      (None, None, None, 2 0           bn4c_branch2b[0][0]              \n",
      "__________________________________________________________________________________________________\n",
      "res4c_branch2c (Conv2D)         (None, None, None, 1 263168      activation_79[0][0]              \n",
      "__________________________________________________________________________________________________\n",
      "bn4c_branch2c (BatchNormalizati (None, None, None, 1 4096        res4c_branch2c[0][0]             \n",
      "__________________________________________________________________________________________________\n",
      "add_26 (Add)                    (None, None, None, 1 0           bn4c_branch2c[0][0]              \n",
      "                                                                 activation_77[0][0]              \n",
      "__________________________________________________________________________________________________\n",
      "activation_80 (Activation)      (None, None, None, 1 0           add_26[0][0]                     \n",
      "__________________________________________________________________________________________________\n",
      "res4d_branch2a (Conv2D)         (None, None, None, 2 262400      activation_80[0][0]              \n",
      "__________________________________________________________________________________________________\n",
      "bn4d_branch2a (BatchNormalizati (None, None, None, 2 1024        res4d_branch2a[0][0]             \n",
      "__________________________________________________________________________________________________\n",
      "activation_81 (Activation)      (None, None, None, 2 0           bn4d_branch2a[0][0]              \n",
      "__________________________________________________________________________________________________\n",
      "res4d_branch2b (Conv2D)         (None, None, None, 2 590080      activation_81[0][0]              \n",
      "__________________________________________________________________________________________________\n",
      "bn4d_branch2b (BatchNormalizati (None, None, None, 2 1024        res4d_branch2b[0][0]             \n",
      "__________________________________________________________________________________________________\n",
      "activation_82 (Activation)      (None, None, None, 2 0           bn4d_branch2b[0][0]              \n",
      "__________________________________________________________________________________________________\n",
      "res4d_branch2c (Conv2D)         (None, None, None, 1 263168      activation_82[0][0]              \n",
      "__________________________________________________________________________________________________\n",
      "bn4d_branch2c (BatchNormalizati (None, None, None, 1 4096        res4d_branch2c[0][0]             \n",
      "__________________________________________________________________________________________________\n",
      "add_27 (Add)                    (None, None, None, 1 0           bn4d_branch2c[0][0]              \n",
      "                                                                 activation_80[0][0]              \n",
      "__________________________________________________________________________________________________\n",
      "activation_83 (Activation)      (None, None, None, 1 0           add_27[0][0]                     \n",
      "__________________________________________________________________________________________________\n",
      "res4e_branch2a (Conv2D)         (None, None, None, 2 262400      activation_83[0][0]              \n",
      "__________________________________________________________________________________________________\n",
      "bn4e_branch2a (BatchNormalizati (None, None, None, 2 1024        res4e_branch2a[0][0]             \n",
      "__________________________________________________________________________________________________\n",
      "activation_84 (Activation)      (None, None, None, 2 0           bn4e_branch2a[0][0]              \n",
      "__________________________________________________________________________________________________\n",
      "res4e_branch2b (Conv2D)         (None, None, None, 2 590080      activation_84[0][0]              \n",
      "__________________________________________________________________________________________________\n",
      "bn4e_branch2b (BatchNormalizati (None, None, None, 2 1024        res4e_branch2b[0][0]             \n",
      "__________________________________________________________________________________________________\n",
      "activation_85 (Activation)      (None, None, None, 2 0           bn4e_branch2b[0][0]              \n",
      "__________________________________________________________________________________________________\n",
      "res4e_branch2c (Conv2D)         (None, None, None, 1 263168      activation_85[0][0]              \n",
      "__________________________________________________________________________________________________\n",
      "bn4e_branch2c (BatchNormalizati (None, None, None, 1 4096        res4e_branch2c[0][0]             \n",
      "__________________________________________________________________________________________________\n",
      "add_28 (Add)                    (None, None, None, 1 0           bn4e_branch2c[0][0]              \n",
      "                                                                 activation_83[0][0]              \n",
      "__________________________________________________________________________________________________\n",
      "activation_86 (Activation)      (None, None, None, 1 0           add_28[0][0]                     \n",
      "__________________________________________________________________________________________________\n",
      "res4f_branch2a (Conv2D)         (None, None, None, 2 262400      activation_86[0][0]              \n",
      "__________________________________________________________________________________________________\n",
      "bn4f_branch2a (BatchNormalizati (None, None, None, 2 1024        res4f_branch2a[0][0]             \n",
      "__________________________________________________________________________________________________\n",
      "activation_87 (Activation)      (None, None, None, 2 0           bn4f_branch2a[0][0]              \n",
      "__________________________________________________________________________________________________\n",
      "res4f_branch2b (Conv2D)         (None, None, None, 2 590080      activation_87[0][0]              \n",
      "__________________________________________________________________________________________________\n",
      "bn4f_branch2b (BatchNormalizati (None, None, None, 2 1024        res4f_branch2b[0][0]             \n",
      "__________________________________________________________________________________________________\n",
      "activation_88 (Activation)      (None, None, None, 2 0           bn4f_branch2b[0][0]              \n",
      "__________________________________________________________________________________________________\n",
      "res4f_branch2c (Conv2D)         (None, None, None, 1 263168      activation_88[0][0]              \n",
      "__________________________________________________________________________________________________\n",
      "bn4f_branch2c (BatchNormalizati (None, None, None, 1 4096        res4f_branch2c[0][0]             \n",
      "__________________________________________________________________________________________________\n",
      "add_29 (Add)                    (None, None, None, 1 0           bn4f_branch2c[0][0]              \n",
      "                                                                 activation_86[0][0]              \n",
      "__________________________________________________________________________________________________\n",
      "activation_89 (Activation)      (None, None, None, 1 0           add_29[0][0]                     \n",
      "__________________________________________________________________________________________________\n",
      "res5a_branch2a (Conv2D)         (None, None, None, 5 524800      activation_89[0][0]              \n",
      "__________________________________________________________________________________________________\n",
      "bn5a_branch2a (BatchNormalizati (None, None, None, 5 2048        res5a_branch2a[0][0]             \n",
      "__________________________________________________________________________________________________\n",
      "activation_90 (Activation)      (None, None, None, 5 0           bn5a_branch2a[0][0]              \n",
      "__________________________________________________________________________________________________\n",
      "res5a_branch2b (Conv2D)         (None, None, None, 5 2359808     activation_90[0][0]              \n",
      "__________________________________________________________________________________________________\n",
      "bn5a_branch2b (BatchNormalizati (None, None, None, 5 2048        res5a_branch2b[0][0]             \n",
      "__________________________________________________________________________________________________\n",
      "activation_91 (Activation)      (None, None, None, 5 0           bn5a_branch2b[0][0]              \n",
      "__________________________________________________________________________________________________\n",
      "res5a_branch2c (Conv2D)         (None, None, None, 2 1050624     activation_91[0][0]              \n",
      "__________________________________________________________________________________________________\n",
      "res5a_branch1 (Conv2D)          (None, None, None, 2 2099200     activation_89[0][0]              \n",
      "__________________________________________________________________________________________________\n",
      "bn5a_branch2c (BatchNormalizati (None, None, None, 2 8192        res5a_branch2c[0][0]             \n",
      "__________________________________________________________________________________________________\n",
      "bn5a_branch1 (BatchNormalizatio (None, None, None, 2 8192        res5a_branch1[0][0]              \n",
      "__________________________________________________________________________________________________\n",
      "add_30 (Add)                    (None, None, None, 2 0           bn5a_branch2c[0][0]              \n",
      "                                                                 bn5a_branch1[0][0]               \n",
      "__________________________________________________________________________________________________\n",
      "activation_92 (Activation)      (None, None, None, 2 0           add_30[0][0]                     \n",
      "__________________________________________________________________________________________________\n",
      "res5b_branch2a (Conv2D)         (None, None, None, 5 1049088     activation_92[0][0]              \n",
      "__________________________________________________________________________________________________\n",
      "bn5b_branch2a (BatchNormalizati (None, None, None, 5 2048        res5b_branch2a[0][0]             \n",
      "__________________________________________________________________________________________________\n",
      "activation_93 (Activation)      (None, None, None, 5 0           bn5b_branch2a[0][0]              \n",
      "__________________________________________________________________________________________________\n",
      "res5b_branch2b (Conv2D)         (None, None, None, 5 2359808     activation_93[0][0]              \n",
      "__________________________________________________________________________________________________\n",
      "bn5b_branch2b (BatchNormalizati (None, None, None, 5 2048        res5b_branch2b[0][0]             \n",
      "__________________________________________________________________________________________________\n",
      "activation_94 (Activation)      (None, None, None, 5 0           bn5b_branch2b[0][0]              \n",
      "__________________________________________________________________________________________________\n",
      "res5b_branch2c (Conv2D)         (None, None, None, 2 1050624     activation_94[0][0]              \n",
      "__________________________________________________________________________________________________\n",
      "bn5b_branch2c (BatchNormalizati (None, None, None, 2 8192        res5b_branch2c[0][0]             \n",
      "__________________________________________________________________________________________________\n",
      "add_31 (Add)                    (None, None, None, 2 0           bn5b_branch2c[0][0]              \n",
      "                                                                 activation_92[0][0]              \n",
      "__________________________________________________________________________________________________\n",
      "activation_95 (Activation)      (None, None, None, 2 0           add_31[0][0]                     \n",
      "__________________________________________________________________________________________________\n",
      "res5c_branch2a (Conv2D)         (None, None, None, 5 1049088     activation_95[0][0]              \n",
      "__________________________________________________________________________________________________\n",
      "bn5c_branch2a (BatchNormalizati (None, None, None, 5 2048        res5c_branch2a[0][0]             \n",
      "__________________________________________________________________________________________________\n",
      "activation_96 (Activation)      (None, None, None, 5 0           bn5c_branch2a[0][0]              \n",
      "__________________________________________________________________________________________________\n",
      "res5c_branch2b (Conv2D)         (None, None, None, 5 2359808     activation_96[0][0]              \n",
      "__________________________________________________________________________________________________\n",
      "bn5c_branch2b (BatchNormalizati (None, None, None, 5 2048        res5c_branch2b[0][0]             \n",
      "__________________________________________________________________________________________________\n",
      "activation_97 (Activation)      (None, None, None, 5 0           bn5c_branch2b[0][0]              \n",
      "__________________________________________________________________________________________________\n",
      "res5c_branch2c (Conv2D)         (None, None, None, 2 1050624     activation_97[0][0]              \n",
      "__________________________________________________________________________________________________\n",
      "bn5c_branch2c (BatchNormalizati (None, None, None, 2 8192        res5c_branch2c[0][0]             \n",
      "__________________________________________________________________________________________________\n",
      "add_32 (Add)                    (None, None, None, 2 0           bn5c_branch2c[0][0]              \n",
      "                                                                 activation_95[0][0]              \n",
      "__________________________________________________________________________________________________\n",
      "activation_98 (Activation)      (None, None, None, 2 0           add_32[0][0]                     \n",
      "__________________________________________________________________________________________________\n",
      "global_average_pooling2d_4 (Glo (None, 2048)         0           activation_98[0][0]              \n",
      "__________________________________________________________________________________________________\n",
      "dense_7 (Dense)                 (None, 128)          262272      global_average_pooling2d_4[0][0] \n",
      "__________________________________________________________________________________________________\n",
      "dense_8 (Dense)                 (None, 3)            387         dense_7[0][0]                    \n",
      "==================================================================================================\n",
      "Total params: 23,850,371\n",
      "Trainable params: 262,659\n",
      "Non-trainable params: 23,587,712\n",
      "__________________________________________________________________________________________________\n"
     ]
    }
   ],
   "source": [
    "x = conv_base.output\n",
    "x = layers.GlobalAveragePooling2D()(x)\n",
    "x = layers.Dense(128, activation='relu')(x) \n",
    "\n",
    "predictions = layers.Dense(qtde_classes, activation='softmax')(x)\n",
    "model = Model(conv_base.input, predictions)\n",
    "\n",
    "model.summary()"
   ]
  },
  {
   "cell_type": "code",
   "execution_count": null,
   "metadata": {
    "colab": {},
    "colab_type": "code",
    "id": "xs95GSpQLUp2"
   },
   "outputs": [],
   "source": [
    "optimizer = keras.optimizers.Adam()\n",
    "model.compile(loss='categorical_crossentropy', optimizer=optimizer, metrics=[precision_score, recall_score, f1_score])"
   ]
  },
  {
   "cell_type": "markdown",
   "metadata": {
    "colab_type": "text",
    "id": "60xCkt0bLUp4"
   },
   "source": [
    "O número de épocas define quantas vezes o modelo irá treinar e validar o erro, assim ajustando os pesos para melhor convergência.\n",
    "Escolha o número adequado de épocas para alcançarmos pelo menos **70% de precisão de validação**."
   ]
  },
  {
   "cell_type": "code",
   "execution_count": null,
   "metadata": {
    "colab": {},
    "colab_type": "code",
    "id": "AxaFKZgLLUp5"
   },
   "outputs": [],
   "source": [
    "## IMPLEMENTE\n",
    "qtde_epocas = 20"
   ]
  },
  {
   "cell_type": "code",
   "execution_count": null,
   "metadata": {
    "colab": {
     "base_uri": "https://localhost:8080/",
     "height": 717
    },
    "colab_type": "code",
    "id": "oDIVKJZeLUp7",
    "outputId": "e0afd289-4009-4680-bd55-0b1c20fe5c4d"
   },
   "outputs": [
    {
     "name": "stdout",
     "output_type": "stream",
     "text": [
      "Epoch 1/20\n",
      "5/5 [==============================] - 12s 2s/step - loss: 1.1701 - precision_score: 0.4250 - recall_score: 0.3562 - f1_score: 0.3873 - val_loss: 0.8773 - val_precision_score: 0.5126 - val_recall_score: 0.4313 - val_f1_score: 0.4681\n",
      "Epoch 2/20\n",
      "5/5 [==============================] - 10s 2s/step - loss: 0.7754 - precision_score: 0.7197 - recall_score: 0.6250 - f1_score: 0.6688 - val_loss: 1.0007 - val_precision_score: 0.5670 - val_recall_score: 0.5063 - val_f1_score: 0.5345\n",
      "Epoch 3/20\n",
      "5/5 [==============================] - 9s 2s/step - loss: 0.7314 - precision_score: 0.7151 - recall_score: 0.6438 - f1_score: 0.6770 - val_loss: 1.1112 - val_precision_score: 0.5921 - val_recall_score: 0.5063 - val_f1_score: 0.5453\n",
      "Epoch 4/20\n",
      "5/5 [==============================] - 10s 2s/step - loss: 0.6430 - precision_score: 0.7925 - recall_score: 0.7250 - f1_score: 0.7566 - val_loss: 0.6830 - val_precision_score: 0.7220 - val_recall_score: 0.6438 - val_f1_score: 0.6801\n",
      "Epoch 5/20\n",
      "5/5 [==============================] - 10s 2s/step - loss: 0.6592 - precision_score: 0.7022 - recall_score: 0.6375 - f1_score: 0.6679 - val_loss: 0.6942 - val_precision_score: 0.7667 - val_recall_score: 0.5938 - val_f1_score: 0.6688\n",
      "Epoch 6/20\n",
      "5/5 [==============================] - 9s 2s/step - loss: 0.4811 - precision_score: 0.8443 - recall_score: 0.7812 - f1_score: 0.8111 - val_loss: 0.8001 - val_precision_score: 0.4819 - val_recall_score: 0.4563 - val_f1_score: 0.4687\n",
      "Epoch 7/20\n",
      "5/5 [==============================] - 9s 2s/step - loss: 0.6496 - precision_score: 0.7489 - recall_score: 0.7000 - f1_score: 0.7233 - val_loss: 0.7274 - val_precision_score: 0.5778 - val_recall_score: 0.4634 - val_f1_score: 0.5139\n",
      "Epoch 8/20\n",
      "5/5 [==============================] - 9s 2s/step - loss: 0.5972 - precision_score: 0.7633 - recall_score: 0.7000 - f1_score: 0.7300 - val_loss: 0.7769 - val_precision_score: 0.6176 - val_recall_score: 0.5125 - val_f1_score: 0.5595\n",
      "Epoch 9/20\n",
      "5/5 [==============================] - 8s 2s/step - loss: 0.5492 - precision_score: 0.7704 - recall_score: 0.6938 - f1_score: 0.7293 - val_loss: 0.6483 - val_precision_score: 0.6264 - val_recall_score: 0.5250 - val_f1_score: 0.5689\n",
      "Epoch 10/20\n",
      "5/5 [==============================] - 7s 1s/step - loss: 0.5841 - precision_score: 0.8120 - recall_score: 0.7688 - f1_score: 0.7895 - val_loss: 0.7385 - val_precision_score: 0.7285 - val_recall_score: 0.6375 - val_f1_score: 0.6794\n",
      "Epoch 11/20\n",
      "5/5 [==============================] - 7s 1s/step - loss: 0.5130 - precision_score: 0.8191 - recall_score: 0.7937 - f1_score: 0.8061 - val_loss: 0.4545 - val_precision_score: 0.8483 - val_recall_score: 0.7688 - val_f1_score: 0.8066\n",
      "Epoch 12/20\n",
      "5/5 [==============================] - 10s 2s/step - loss: 0.4522 - precision_score: 0.8061 - recall_score: 0.7688 - f1_score: 0.7867 - val_loss: 0.6810 - val_precision_score: 0.7268 - val_recall_score: 0.6500 - val_f1_score: 0.6858\n",
      "Epoch 13/20\n",
      "5/5 [==============================] - 10s 2s/step - loss: 0.3921 - precision_score: 0.8581 - recall_score: 0.8313 - f1_score: 0.8444 - val_loss: 0.6093 - val_precision_score: 0.8462 - val_recall_score: 0.7688 - val_f1_score: 0.8043\n",
      "Epoch 14/20\n",
      "5/5 [==============================] - 9s 2s/step - loss: 0.4599 - precision_score: 0.8261 - recall_score: 0.8062 - f1_score: 0.8159 - val_loss: 0.7916 - val_precision_score: 0.6562 - val_recall_score: 0.5929 - val_f1_score: 0.6228\n",
      "Epoch 15/20\n",
      "5/5 [==============================] - 10s 2s/step - loss: 0.5000 - precision_score: 0.7962 - recall_score: 0.7563 - f1_score: 0.7755 - val_loss: 0.6010 - val_precision_score: 0.7325 - val_recall_score: 0.6500 - val_f1_score: 0.6884\n",
      "Epoch 16/20\n",
      "5/5 [==============================] - 9s 2s/step - loss: 0.3835 - precision_score: 0.8699 - recall_score: 0.8192 - f1_score: 0.8434 - val_loss: 0.6226 - val_precision_score: 0.7311 - val_recall_score: 0.6125 - val_f1_score: 0.6655\n",
      "Epoch 17/20\n",
      "5/5 [==============================] - 9s 2s/step - loss: 0.3843 - precision_score: 0.8876 - recall_score: 0.8375 - f1_score: 0.8615 - val_loss: 0.6277 - val_precision_score: 0.6957 - val_recall_score: 0.6125 - val_f1_score: 0.6511\n",
      "Epoch 18/20\n",
      "5/5 [==============================] - 8s 2s/step - loss: 0.4033 - precision_score: 0.8365 - recall_score: 0.7688 - f1_score: 0.8010 - val_loss: 0.5160 - val_precision_score: 0.7667 - val_recall_score: 0.6625 - val_f1_score: 0.7095\n",
      "Epoch 19/20\n",
      "5/5 [==============================] - 8s 2s/step - loss: 0.4730 - precision_score: 0.8499 - recall_score: 0.8188 - f1_score: 0.8339 - val_loss: 0.8803 - val_precision_score: 0.6805 - val_recall_score: 0.5250 - val_f1_score: 0.5922\n",
      "Epoch 20/20\n",
      "5/5 [==============================] - 9s 2s/step - loss: 0.3850 - precision_score: 0.8634 - recall_score: 0.8250 - f1_score: 0.8432 - val_loss: 0.5173 - val_precision_score: 0.6987 - val_recall_score: 0.6000 - val_f1_score: 0.6447\n"
     ]
    }
   ],
   "source": [
    "history = model.fit_generator(generator=train_generator, \n",
    "                              epochs=qtde_epocas, \n",
    "                              validation_steps=5, \n",
    "                              steps_per_epoch=5, \n",
    "                              validation_data=val_generator)"
   ]
  },
  {
   "cell_type": "markdown",
   "metadata": {
    "colab_type": "text",
    "id": "ZFDYKavFLUp-"
   },
   "source": [
    "Um modelo que converge bem possui o gráfico de perda (*loss*) descendente e os gráfico de precisão (*precision*), sensibilidade (*recall*) e pontuação f1 (*f1 score*) em acendente."
   ]
  },
  {
   "cell_type": "code",
   "execution_count": null,
   "metadata": {
    "colab": {
     "base_uri": "https://localhost:8080/",
     "height": 1000
    },
    "colab_type": "code",
    "id": "i_sSdT8QLUp_",
    "outputId": "6acd0062-354f-47c8-beed-737829a8eba1"
   },
   "outputs": [
    {
     "data": {
      "image/png": "[encoded data removed]",
      "text/plain": [
       "<Figure size 432x288 with 1 Axes>"
      ]
     },
     "metadata": {
      "needs_background": "light",
      "tags": []
     },
     "output_type": "display_data"
    },
    {
     "data": {
      "image/png": "[encoded data removed]",
      "text/plain": [
       "<Figure size 432x288 with 1 Axes>"
      ]
     },
     "metadata": {
      "needs_background": "light",
      "tags": []
     },
     "output_type": "display_data"
    },
    {
     "data": {
      "image/png": "[encoded data removed]",
      "text/plain": [
       "<Figure size 432x288 with 1 Axes>"
      ]
     },
     "metadata": {
      "needs_background": "light",
      "tags": []
     },
     "output_type": "display_data"
    },
    {
     "data": {
      "image/png": "[encoded data removed]",
      "text/plain": [
       "<Figure size 432x288 with 1 Axes>"
      ]
     },
     "metadata": {
      "needs_background": "light",
      "tags": []
     },
     "output_type": "display_data"
    }
   ],
   "source": [
    "# Exibindo dados de Precisão\n",
    "plt.plot(history.history['precision_score'])\n",
    "plt.plot(history.history['val_precision_score'])\n",
    "plt.title('model precision')\n",
    "plt.ylabel('precision')\n",
    "plt.xlabel('epoch')\n",
    "plt.legend(['train', 'test'], loc='upper left')\n",
    "plt.show()\n",
    "\n",
    "# Exibindo dados de Sensibilidade\n",
    "plt.plot(history.history['recall_score'])\n",
    "plt.plot(history.history['val_recall_score'])\n",
    "plt.title('model recall')\n",
    "plt.ylabel('recall')\n",
    "plt.xlabel('epoch')\n",
    "plt.legend(['train', 'test'], loc='upper left')\n",
    "plt.show()\n",
    "\n",
    "# Exibindo dados de F1 Score\n",
    "plt.plot(history.history['f1_score'])\n",
    "plt.plot(history.history['val_f1_score'])\n",
    "plt.title('model f1_score')\n",
    "plt.ylabel('f1_score')\n",
    "plt.xlabel('epoch')\n",
    "plt.legend(['train', 'test'], loc='upper left')\n",
    "plt.show()\n",
    "\n",
    "# Exibindo dados de Perda\n",
    "plt.plot(history.history['loss'])\n",
    "plt.plot(history.history['val_loss'])\n",
    "plt.title('model loss')\n",
    "plt.ylabel('loss')\n",
    "plt.xlabel('epoch')\n",
    "plt.legend(['train', 'test'], loc='upper left')\n",
    "plt.show()"
   ]
  },
  {
   "cell_type": "markdown",
   "metadata": {
    "colab_type": "text",
    "id": "zVPr9fKsLUqB"
   },
   "source": [
    "**Pergunta**: Avalie os gráficos de perda (*loss*), precisão (*precision*), sensibilidade (*recall*) e pontuação f1 (*f1 score*)  e explique o comportamento de ambos no que tange a convergência do modelo."
   ]
  },
  {
   "cell_type": "markdown",
   "metadata": {
    "colab_type": "text",
    "id": "kEttg584LUqC"
   },
   "source": [
    "**Resposta**:\n",
    "\n",
    "\n",
    "Com o ResNet50, podemos observar que no gráfico de perda (loss), tanto para treino como para teste, estão com a tendência de serem decrecentes e os gráficos de precisão (precision), de sensibilidade (recall) e de pontuação f1 (f1_score), tanto no treino como no teste, estão com a tendência de serem crescentes, acreditamos que o medelo está convergindo bem com os dados e o modelo."
   ]
  },
  {
   "cell_type": "markdown",
   "metadata": {
    "colab_type": "text",
    "id": "0zRXhAD8LUqE"
   },
   "source": [
    "**Pergunta**: Quais são os valores de **precisão (precision)**, **sensibilidade (recall)** de validação? \n",
    "\n",
    "*Estes valores são exibidos durante o treinamento, utilize a última saída, exemplo:*\n",
    "\n",
    "```\n",
    "Epoch 10/10 [==============================] - 45s 9s/step - loss: 0.1234 - precision_score: 0.9742 - recall_score: 0.9683 - f1_score: 0.9712 - val_loss: 0.8819 - val_precision_score: 0.6912 - val_recall_score: 0.5649 - val_f1_score: 0.6216```\n",
    "\n",
    "No caso acima, o valor de precisão, sensibilidade e pontuação de validação são, respectivamente, 69,12%, 56,49% e 62,16%."
   ]
  },
  {
   "cell_type": "markdown",
   "metadata": {
    "colab_type": "text",
    "id": "vSTpK4ZbLUqE"
   },
   "source": [
    "**Resposta**: O valor de precisão, sensibilidade e pontuação de validação são, respectivamente, 63,68%, 63,68%, 63,68%\n",
    "\n",
    "2500 imagens -> 0.25 split -> 2 classes ```Epoch 10/10 [==============================] - 43s 9s/step - loss: 0.1767 - precision_score: 0.9375 - recall_score: 0.9375 - f1_score: 0.9375 - val_loss: 0.7949 - val_precision_score: 0.6368 - val_recall_score: 0.6368 - val_f1_score: 0.6368```\n",
    "\n",
    "1490 imagens -> 0.25 split -> 3 classes ```Epoch 10/10 [==============================] - 41s 8s/step - loss: 0.5896 - precision_score: 0.7717 - recall_score: 0.7375 - f1_score: 0.7541 - val_loss: 0.8978 - val_precision_score: 0.5075 - val_recall_score: 0.4437 - val_f1_score: 0.4734```\n",
    "\n",
    "1490 imagens -> 0.30 split -> 3 classes ```Epoch 10/10 [==============================] - 45s 9s/step - loss: 0.6021 - precision_score: 0.8333 - recall_score: 0.7500 - f1_score: 0.7894 - val_loss: 0.8663 - val_precision_score: 0.4261 - val_recall_score: 0.3625 - val_f1_score: 0.3917```\n",
    "\n",
    "1000 imagens -> 0.25 split -> 3 classes ```Epoch 10/10 [==============================] - 46s 9s/step - loss: 0.5418 - precision_score: 0.8150 - recall_score: 0.7688 - f1_score: 0.7911 - val_loss: 1.2037 - val_precision_score: 0.5998 - val_recall_score: 0.5786 - val_f1_score: 0.5889```\n",
    "\n",
    "1000 imagens -> 0.30 split -> 3 classes ```Epoch 10/10 [==============================] - 44s 9s/step - loss: 0.6114 - precision_score: 0.7754 - recall_score: 0.7375 - f1_score: 0.7555 - val_loss: 0.9359 - val_precision_score: 0.3896 - val_recall_score: 0.3812 - val_f1_score: 0.3853```"
   ]
  },
  {
   "cell_type": "markdown",
   "metadata": {
    "colab_type": "text",
    "id": "yZpLjFZuLUqF"
   },
   "source": [
    "### 4.5.2 Arquitetura VGG16"
   ]
  },
  {
   "cell_type": "markdown",
   "metadata": {
    "colab_type": "text",
    "id": "E3Uox9bHLUqF"
   },
   "source": [
    "**Pergunta**: Explique como é constituída a arquitetura do VGG16? *Utilize, se necessário, gráficos, projetos que utilizam essa arquitetura. Detalhe também sua topologia em camadas e mostre quais as situações essa arquitetura pode ter mais êxito e quais cenários não tem.*"
   ]
  },
  {
   "cell_type": "markdown",
   "metadata": {
    "colab_type": "text",
    "id": "56kEI8X9LUqG"
   },
   "source": [
    "**Resposta**:\n",
    "\n",
    "Essa rede é caracterizada por sua simplicidade, usando apenas camadas convolucionais 3 × 3 empilhadas umas sobre as outras em profundidade crescente. A redução do tamanho do volume é realizada pelo pool máximo. Duas camadas totalmente conectadas, cada uma com 4.096 nós são seguidas por um classificador softmax.\n",
    "\n",
    "<p align=\"center\">\n",
    "    <img src=\"imagens/vgg16.png\">\n",
    "</p>\n",
    "\n",
    "Infelizmente, existem duas desvantagens principais com a VGGNet:\n",
    "\n",
    "\n",
    "\n",
    "*   É dolorosamente lento para treinar.\n",
    "*   Os pesos da arquitetura de rede são bastante grandes (em termos de largura de disco / banda).\n",
    "\n"
   ]
  },
  {
   "cell_type": "code",
   "execution_count": null,
   "metadata": {
    "colab": {},
    "colab_type": "code",
    "id": "7qodh7NwLUqG"
   },
   "outputs": [],
   "source": [
    "conv_base = VGG16(include_top=False)\n",
    "\n",
    "for layer in conv_base.layers:\n",
    "    layer.trainable = False"
   ]
  },
  {
   "cell_type": "code",
   "execution_count": null,
   "metadata": {
    "colab": {
     "base_uri": "https://localhost:8080/",
     "height": 901
    },
    "colab_type": "code",
    "id": "vhnbAcwQLUqJ",
    "outputId": "3d61aa65-9524-4dee-845e-be9b55212641"
   },
   "outputs": [
    {
     "name": "stdout",
     "output_type": "stream",
     "text": [
      "Model: \"model_5\"\n",
      "_________________________________________________________________\n",
      "Layer (type)                 Output Shape              Param #   \n",
      "=================================================================\n",
      "input_5 (InputLayer)         (None, None, None, 3)     0         \n",
      "_________________________________________________________________\n",
      "block1_conv1 (Conv2D)        (None, None, None, 64)    1792      \n",
      "_________________________________________________________________\n",
      "block1_conv2 (Conv2D)        (None, None, None, 64)    36928     \n",
      "_________________________________________________________________\n",
      "block1_pool (MaxPooling2D)   (None, None, None, 64)    0         \n",
      "_________________________________________________________________\n",
      "block2_conv1 (Conv2D)        (None, None, None, 128)   73856     \n",
      "_________________________________________________________________\n",
      "block2_conv2 (Conv2D)        (None, None, None, 128)   147584    \n",
      "_________________________________________________________________\n",
      "block2_pool (MaxPooling2D)   (None, None, None, 128)   0         \n",
      "_________________________________________________________________\n",
      "block3_conv1 (Conv2D)        (None, None, None, 256)   295168    \n",
      "_________________________________________________________________\n",
      "block3_conv2 (Conv2D)        (None, None, None, 256)   590080    \n",
      "_________________________________________________________________\n",
      "block3_conv3 (Conv2D)        (None, None, None, 256)   590080    \n",
      "_________________________________________________________________\n",
      "block3_pool (MaxPooling2D)   (None, None, None, 256)   0         \n",
      "_________________________________________________________________\n",
      "block4_conv1 (Conv2D)        (None, None, None, 512)   1180160   \n",
      "_________________________________________________________________\n",
      "block4_conv2 (Conv2D)        (None, None, None, 512)   2359808   \n",
      "_________________________________________________________________\n",
      "block4_conv3 (Conv2D)        (None, None, None, 512)   2359808   \n",
      "_________________________________________________________________\n",
      "block4_pool (MaxPooling2D)   (None, None, None, 512)   0         \n",
      "_________________________________________________________________\n",
      "block5_conv1 (Conv2D)        (None, None, None, 512)   2359808   \n",
      "_________________________________________________________________\n",
      "block5_conv2 (Conv2D)        (None, None, None, 512)   2359808   \n",
      "_________________________________________________________________\n",
      "block5_conv3 (Conv2D)        (None, None, None, 512)   2359808   \n",
      "_________________________________________________________________\n",
      "block5_pool (MaxPooling2D)   (None, None, None, 512)   0         \n",
      "_________________________________________________________________\n",
      "global_average_pooling2d_5 ( (None, 512)               0         \n",
      "_________________________________________________________________\n",
      "dense_9 (Dense)              (None, 128)               65664     \n",
      "_________________________________________________________________\n",
      "dense_10 (Dense)             (None, 3)                 387       \n",
      "=================================================================\n",
      "Total params: 14,780,739\n",
      "Trainable params: 66,051\n",
      "Non-trainable params: 14,714,688\n",
      "_________________________________________________________________\n"
     ]
    }
   ],
   "source": [
    "x = conv_base.output\n",
    "x = layers.GlobalAveragePooling2D()(x)\n",
    "x = layers.Dense(128, activation='relu')(x) \n",
    "\n",
    "predictions = layers.Dense(qtde_classes, activation='softmax')(x)\n",
    "model = Model(conv_base.input, predictions)\n",
    "\n",
    "model.summary()"
   ]
  },
  {
   "cell_type": "code",
   "execution_count": null,
   "metadata": {
    "colab": {},
    "colab_type": "code",
    "id": "sEt9tza5LUqL"
   },
   "outputs": [],
   "source": [
    "optimizer = keras.optimizers.Adam()\n",
    "model.compile(loss='categorical_crossentropy', optimizer=optimizer, metrics=[precision_score, recall_score, f1_score])"
   ]
  },
  {
   "cell_type": "code",
   "execution_count": null,
   "metadata": {
    "colab": {
     "base_uri": "https://localhost:8080/",
     "height": 717
    },
    "colab_type": "code",
    "id": "kLBix_E7LUqN",
    "outputId": "32df0ac5-2415-4c3f-cd30-14dcfbb1710c"
   },
   "outputs": [
    {
     "name": "stdout",
     "output_type": "stream",
     "text": [
      "Epoch 1/20\n",
      "5/5 [==============================] - 11s 2s/step - loss: 6.8588 - precision_score: 0.3846 - recall_score: 0.3630 - f1_score: 0.3727 - val_loss: 5.7991 - val_precision_score: 0.3187 - val_recall_score: 0.3187 - val_f1_score: 0.3187\n",
      "Epoch 2/20\n",
      "5/5 [==============================] - 10s 2s/step - loss: 2.9176 - precision_score: 0.3989 - recall_score: 0.3938 - f1_score: 0.3962 - val_loss: 1.5002 - val_precision_score: 0.5786 - val_recall_score: 0.5437 - val_f1_score: 0.5604\n",
      "Epoch 3/20\n",
      "5/5 [==============================] - 10s 2s/step - loss: 1.6407 - precision_score: 0.6253 - recall_score: 0.6125 - f1_score: 0.6187 - val_loss: 1.7691 - val_precision_score: 0.5833 - val_recall_score: 0.5688 - val_f1_score: 0.5759\n",
      "Epoch 4/20\n",
      "5/5 [==============================] - 10s 2s/step - loss: 1.3024 - precision_score: 0.5844 - recall_score: 0.5750 - f1_score: 0.5796 - val_loss: 1.4877 - val_precision_score: 0.5258 - val_recall_score: 0.5125 - val_f1_score: 0.5190\n",
      "Epoch 5/20\n",
      "5/5 [==============================] - 10s 2s/step - loss: 1.2183 - precision_score: 0.6750 - recall_score: 0.6625 - f1_score: 0.6687 - val_loss: 0.6627 - val_precision_score: 0.7351 - val_recall_score: 0.7188 - val_f1_score: 0.7267\n",
      "Epoch 6/20\n",
      "5/5 [==============================] - 10s 2s/step - loss: 1.0101 - precision_score: 0.6900 - recall_score: 0.6687 - f1_score: 0.6791 - val_loss: 1.0060 - val_precision_score: 0.7089 - val_recall_score: 0.6812 - val_f1_score: 0.6945\n",
      "Epoch 7/20\n",
      "5/5 [==============================] - 10s 2s/step - loss: 1.3705 - precision_score: 0.6859 - recall_score: 0.6687 - f1_score: 0.6772 - val_loss: 0.6075 - val_precision_score: 0.7518 - val_recall_score: 0.7250 - val_f1_score: 0.7380\n",
      "Epoch 8/20\n",
      "5/5 [==============================] - 10s 2s/step - loss: 0.7490 - precision_score: 0.7695 - recall_score: 0.7500 - f1_score: 0.7595 - val_loss: 0.6113 - val_precision_score: 0.6900 - val_recall_score: 0.6687 - val_f1_score: 0.6791\n",
      "Epoch 9/20\n",
      "5/5 [==============================] - 10s 2s/step - loss: 0.5533 - precision_score: 0.8011 - recall_score: 0.7625 - f1_score: 0.7809 - val_loss: 1.0886 - val_precision_score: 0.7425 - val_recall_score: 0.7250 - val_f1_score: 0.7335\n",
      "Epoch 10/20\n",
      "5/5 [==============================] - 10s 2s/step - loss: 0.8418 - precision_score: 0.7325 - recall_score: 0.7188 - f1_score: 0.7255 - val_loss: 1.0953 - val_precision_score: 0.7867 - val_recall_score: 0.7437 - val_f1_score: 0.7644\n",
      "Epoch 11/20\n",
      "5/5 [==============================] - 10s 2s/step - loss: 0.6814 - precision_score: 0.7878 - recall_score: 0.7625 - f1_score: 0.7748 - val_loss: 0.5438 - val_precision_score: 0.7178 - val_recall_score: 0.7000 - val_f1_score: 0.7085\n",
      "Epoch 12/20\n",
      "5/5 [==============================] - 11s 2s/step - loss: 0.5932 - precision_score: 0.7739 - recall_score: 0.7437 - f1_score: 0.7584 - val_loss: 0.4900 - val_precision_score: 0.8052 - val_recall_score: 0.7750 - val_f1_score: 0.7898\n",
      "Epoch 13/20\n",
      "5/5 [==============================] - 10s 2s/step - loss: 0.6567 - precision_score: 0.7983 - recall_score: 0.7625 - f1_score: 0.7799 - val_loss: 0.6545 - val_precision_score: 0.7569 - val_recall_score: 0.7437 - val_f1_score: 0.7502\n",
      "Epoch 14/20\n",
      "5/5 [==============================] - 10s 2s/step - loss: 0.5953 - precision_score: 0.7967 - recall_score: 0.7812 - f1_score: 0.7888 - val_loss: 0.7192 - val_precision_score: 0.7892 - val_recall_score: 0.7688 - val_f1_score: 0.7788\n",
      "Epoch 15/20\n",
      "5/5 [==============================] - 10s 2s/step - loss: 0.4038 - precision_score: 0.8559 - recall_score: 0.8250 - f1_score: 0.8400 - val_loss: 0.4675 - val_precision_score: 0.7945 - val_recall_score: 0.7750 - val_f1_score: 0.7844\n",
      "Epoch 16/20\n",
      "5/5 [==============================] - 10s 2s/step - loss: 0.5985 - precision_score: 0.7673 - recall_score: 0.7625 - f1_score: 0.7649 - val_loss: 0.7112 - val_precision_score: 0.8038 - val_recall_score: 0.7937 - val_f1_score: 0.7987\n",
      "Epoch 17/20\n",
      "5/5 [==============================] - 10s 2s/step - loss: 0.5593 - precision_score: 0.8278 - recall_score: 0.7812 - f1_score: 0.8035 - val_loss: 0.6128 - val_precision_score: 0.8014 - val_recall_score: 0.7812 - val_f1_score: 0.7912\n",
      "Epoch 18/20\n",
      "5/5 [==============================] - 10s 2s/step - loss: 0.6848 - precision_score: 0.7464 - recall_score: 0.6938 - f1_score: 0.7189 - val_loss: 0.5902 - val_precision_score: 0.8083 - val_recall_score: 0.7563 - val_f1_score: 0.7811\n",
      "Epoch 19/20\n",
      "5/5 [==============================] - 10s 2s/step - loss: 0.6423 - precision_score: 0.7976 - recall_score: 0.7625 - f1_score: 0.7794 - val_loss: 0.4964 - val_precision_score: 0.7913 - val_recall_score: 0.7688 - val_f1_score: 0.7796\n",
      "Epoch 20/20\n",
      "5/5 [==============================] - 10s 2s/step - loss: 0.5872 - precision_score: 0.7684 - recall_score: 0.7500 - f1_score: 0.7590 - val_loss: 0.6273 - val_precision_score: 0.7671 - val_recall_score: 0.7375 - val_f1_score: 0.7518\n"
     ]
    }
   ],
   "source": [
    "history = model.fit_generator(generator=train_generator, \n",
    "                              epochs=qtde_epocas, \n",
    "                              validation_steps=5, \n",
    "                              steps_per_epoch=5, \n",
    "                              validation_data=val_generator)"
   ]
  },
  {
   "cell_type": "markdown",
   "metadata": {
    "colab_type": "text",
    "id": "FzOaRah4LUqP"
   },
   "source": [
    "Um modelo que converge bem possui o gráfico de perda (*loss*) descendente e os gráfico de precisão (*precision*), sensibilidade (*recall*) e pontuação f1 (*f1 score*) em acendente."
   ]
  },
  {
   "cell_type": "code",
   "execution_count": null,
   "metadata": {
    "colab": {
     "base_uri": "https://localhost:8080/",
     "height": 1000
    },
    "colab_type": "code",
    "id": "h7QFIJrWLUqQ",
    "outputId": "d716a296-830d-42a7-b092-e5d02190c23f"
   },
   "outputs": [
    {
     "data": {
      "image/png": "[encoded data removed]",
      "text/plain": [
       "<Figure size 432x288 with 1 Axes>"
      ]
     },
     "metadata": {
      "needs_background": "light",
      "tags": []
     },
     "output_type": "display_data"
    },
    {
     "data": {
      "image/png": "[encoded data removed]",
      "text/plain": [
       "<Figure size 432x288 with 1 Axes>"
      ]
     },
     "metadata": {
      "needs_background": "light",
      "tags": []
     },
     "output_type": "display_data"
    },
    {
     "data": {
      "image/png": "[encoded data removed]",
      "text/plain": [
       "<Figure size 432x288 with 1 Axes>"
      ]
     },
     "metadata": {
      "needs_background": "light",
      "tags": []
     },
     "output_type": "display_data"
    },
    {
     "data": {
      "image/png": "[encoded data removed]",
      "text/plain": [
       "<Figure size 432x288 with 1 Axes>"
      ]
     },
     "metadata": {
      "needs_background": "light",
      "tags": []
     },
     "output_type": "display_data"
    }
   ],
   "source": [
    "# Exibindo dados de Precisão\n",
    "plt.plot(history.history['precision_score'])\n",
    "plt.plot(history.history['val_precision_score'])\n",
    "plt.title('model precision')\n",
    "plt.ylabel('precision')\n",
    "plt.xlabel('epoch')\n",
    "plt.legend(['train', 'test'], loc='upper left')\n",
    "plt.show()\n",
    "\n",
    "# Exibindo dados de Sensibilidade\n",
    "plt.plot(history.history['recall_score'])\n",
    "plt.plot(history.history['val_recall_score'])\n",
    "plt.title('model recall')\n",
    "plt.ylabel('recall')\n",
    "plt.xlabel('epoch')\n",
    "plt.legend(['train', 'test'], loc='upper left')\n",
    "plt.show()\n",
    "\n",
    "# Exibindo dados de F1 Score\n",
    "plt.plot(history.history['f1_score'])\n",
    "plt.plot(history.history['val_f1_score'])\n",
    "plt.title('model f1_score')\n",
    "plt.ylabel('f1_score')\n",
    "plt.xlabel('epoch')\n",
    "plt.legend(['train', 'test'], loc='upper left')\n",
    "plt.show()\n",
    "\n",
    "# Exibindo dados de Perda\n",
    "plt.plot(history.history['loss'])\n",
    "plt.plot(history.history['val_loss'])\n",
    "plt.title('model loss')\n",
    "plt.ylabel('loss')\n",
    "plt.xlabel('epoch')\n",
    "plt.legend(['train', 'test'], loc='upper left')\n",
    "plt.show()"
   ]
  },
  {
   "cell_type": "markdown",
   "metadata": {
    "colab_type": "text",
    "id": "9asIoYiILUqS"
   },
   "source": [
    "**Pergunta**: Avalie os gráficos de perda (*loss*), precisão (*precision*), sensibilidade (*recall*) e pontuação f1 (*f1 score*)  e explique o comportamento de ambos no que tange a convergência do modelo."
   ]
  },
  {
   "cell_type": "markdown",
   "metadata": {
    "colab_type": "text",
    "id": "X4wXdDvRLUqT"
   },
   "source": [
    "**Resposta**:\n",
    "\n",
    "Com o VGG16, podemos observar que no gráfico de perda (loss), tanto para treino como para teste, estão com a tendência de serem decrescentes e os gráficos de precisão (precision), de sensibilidade (recall) e de pontuação f1(f1_score), tanto no treino como no teste, estão com a tendência de serem crescentes, acreditamos que o medelo está convergindo bem com os dados e o modelo.\n"
   ]
  },
  {
   "cell_type": "markdown",
   "metadata": {
    "colab_type": "text",
    "id": "wtf-9oM9LUqT"
   },
   "source": [
    "**Pergunta**: Quais são os valores de **precisão (precision)**, **sensibilidade (recall)** de validação? \n"
   ]
  },
  {
   "cell_type": "markdown",
   "metadata": {
    "colab_type": "text",
    "id": "qNZnqYruLUqU"
   },
   "source": [
    "**Resposta**: O valor de precisão, sensibilidade e pontuação de validação são, respectivamente, 69,12%, 56,49%, 62,16%\n",
    "\n",
    "2500 imagens -> 0.25 split -> 2 classes ```Epoch 10/10 [==============================] - 45s 9s/step - loss: 0.1234 - precision_score: 0.9742 - recall_score: 0.9683 - f1_score: 0.9712 - val_loss: 0.8819 - val_precision_score: 0.6912 - val_recall_score: 0.5649 - val_f1_score: 0.6216```\n",
    "\n",
    "1490 NOVO -> 0.25 split -> 3 classes ```Epoch 10/10 [==============================] - 61s 12s/step - loss: 0.5527 - precision_score: 0.7742 - recall_score: 0.7500 - f1_score: 0.7619 - val_loss: 0.9563 - val_precision_score: 0.6553 - val_recall_score: 0.6187 - val_f1_score: 0.6364```\n",
    "\n",
    "1490 NOVO -> 0.30 split -> 3 classes ```Epoch 10/10 [==============================] - 68s 14s/step - loss: 0.6209 - precision_score: 0.8165 - recall_score: 0.8062 - f1_score: 0.8113 - val_loss: 0.5929 - val_precision_score: 0.7345 - val_recall_score: 0.7250 - val_f1_score: 0.7297```\n",
    "\n",
    "1000 NOVO -> 0.25 split -> 3 classes ```Epoch 10/10 [==============================] - 67s 13s/step - loss: 0.5734 - precision_score: 0.7697 - recall_score: 0.7500 - f1_score: 0.7596 - val_loss: 0.4463 - val_precision_score: 0.7135 - val_recall_score: 0.7036 - val_f1_score: 0.7084```\n",
    "\n",
    "1000 NOVO -> 0.30 split -> 3 classes ```Epoch 10/10 [==============================] - 70s 14s/step - loss: 1.0538 - precision_score: 0.6986 - recall_score: 0.6812 - f1_score: 0.6897 - val_loss: 0.5713 - val_precision_score: 0.7345 - val_recall_score: 0.7250 - val_f1_score: 0.7297```\n",
    "\n",
    "No caso acima, o valor de precisão, sensibilidade e pontuação de validação são, respectivamente, 69,12%, 56,49% e 62,16%."
   ]
  },
  {
   "cell_type": "markdown",
   "metadata": {
    "colab_type": "text",
    "id": "H6cdjLbuLUqU"
   },
   "source": [
    "### 4.5.3 Arquitetura VGG19"
   ]
  },
  {
   "cell_type": "markdown",
   "metadata": {
    "colab_type": "text",
    "id": "TbVnwy_bLUqV"
   },
   "source": [
    "**Pergunta**: Explique como é constituída a arquitetura do VGG19? *Utilize, se necessário, gráficos, projetos que utilizam essa arquitetura. Detalhe também sua topologia em camadas e mostre quais as situações essa arquitetura pode ter mais êxito e quais cenários não tem.*"
   ]
  },
  {
   "cell_type": "markdown",
   "metadata": {
    "colab_type": "text",
    "id": "9rSxAGIcLUqV"
   },
   "source": [
    "**Resposta**:\n",
    "\n",
    "O VGG19 é um modelo de arquitetura semelhante ao VGG16, com três camadas convolucionais adicionais; consiste em um total de 16 camadas de convolução e três camadas densas. A seguir, é apresentada a arquitetura do modelo VGG19. Nas redes VGG, o uso de convoluções 3 x 3 com o passo 1 fornece um efetivo receptor arquivado equivalente a 7 * 7. Isso significa que há menos parâmetros para treinar. Ela aprende a combinar informações de alto nível com informações finas e de baixo nível usando pulos da terceira e quarta camada de pool. As camadas ocultas são equipadas com unidades lineares retificadas (ReLUs) e o número de canais para as camadas convolucionais aumenta com a profundidade da rede. Durante o treinamento, a imagem de entrada possui um tamanho fixo de 224 × 224 pixels, enquanto os campos receptivos para todos os filtros são de 3 × 3 pixels em toda a rede. Essa configuração permite que a FCN (Fully Convolutional Networks) aprenda aproximadamente 140 milhões de parâmetros. A previsão é realizada usando camadas de upsampling com quatro canais para todas as classes nos dados de referência. As camadas de upsampling são fundidas com convoluções 1 × 1 da terceira e quarta camadas de pool com a mesma dimensão de canal.\n",
    "\n",
    "<p align=\"center\">\n",
    "    <img src=\"imagens/vgg19.png\">\n",
    "</p>"
   ]
  },
  {
   "cell_type": "code",
   "execution_count": null,
   "metadata": {
    "colab": {},
    "colab_type": "code",
    "id": "_b7kqnAILUqW"
   },
   "outputs": [],
   "source": [
    "conv_base = VGG19(include_top=False)\n",
    "\n",
    "for layer in conv_base.layers:\n",
    "    layer.trainable = False"
   ]
  },
  {
   "cell_type": "code",
   "execution_count": null,
   "metadata": {
    "colab": {
     "base_uri": "https://localhost:8080/",
     "height": 1000
    },
    "colab_type": "code",
    "id": "CjJhNOoiLUqZ",
    "outputId": "eb77be1a-09d1-43d2-c665-ce2e88309f6f"
   },
   "outputs": [
    {
     "name": "stdout",
     "output_type": "stream",
     "text": [
      "Model: \"model_6\"\n",
      "_________________________________________________________________\n",
      "Layer (type)                 Output Shape              Param #   \n",
      "=================================================================\n",
      "input_6 (InputLayer)         (None, None, None, 3)     0         \n",
      "_________________________________________________________________\n",
      "block1_conv1 (Conv2D)        (None, None, None, 64)    1792      \n",
      "_________________________________________________________________\n",
      "block1_conv2 (Conv2D)        (None, None, None, 64)    36928     \n",
      "_________________________________________________________________\n",
      "block1_pool (MaxPooling2D)   (None, None, None, 64)    0         \n",
      "_________________________________________________________________\n",
      "block2_conv1 (Conv2D)        (None, None, None, 128)   73856     \n",
      "_________________________________________________________________\n",
      "block2_conv2 (Conv2D)        (None, None, None, 128)   147584    \n",
      "_________________________________________________________________\n",
      "block2_pool (MaxPooling2D)   (None, None, None, 128)   0         \n",
      "_________________________________________________________________\n",
      "block3_conv1 (Conv2D)        (None, None, None, 256)   295168    \n",
      "_________________________________________________________________\n",
      "block3_conv2 (Conv2D)        (None, None, None, 256)   590080    \n",
      "_________________________________________________________________\n",
      "block3_conv3 (Conv2D)        (None, None, None, 256)   590080    \n",
      "_________________________________________________________________\n",
      "block3_conv4 (Conv2D)        (None, None, None, 256)   590080    \n",
      "_________________________________________________________________\n",
      "block3_pool (MaxPooling2D)   (None, None, None, 256)   0         \n",
      "_________________________________________________________________\n",
      "block4_conv1 (Conv2D)        (None, None, None, 512)   1180160   \n",
      "_________________________________________________________________\n",
      "block4_conv2 (Conv2D)        (None, None, None, 512)   2359808   \n",
      "_________________________________________________________________\n",
      "block4_conv3 (Conv2D)        (None, None, None, 512)   2359808   \n",
      "_________________________________________________________________\n",
      "block4_conv4 (Conv2D)        (None, None, None, 512)   2359808   \n",
      "_________________________________________________________________\n",
      "block4_pool (MaxPooling2D)   (None, None, None, 512)   0         \n",
      "_________________________________________________________________\n",
      "block5_conv1 (Conv2D)        (None, None, None, 512)   2359808   \n",
      "_________________________________________________________________\n",
      "block5_conv2 (Conv2D)        (None, None, None, 512)   2359808   \n",
      "_________________________________________________________________\n",
      "block5_conv3 (Conv2D)        (None, None, None, 512)   2359808   \n",
      "_________________________________________________________________\n",
      "block5_conv4 (Conv2D)        (None, None, None, 512)   2359808   \n",
      "_________________________________________________________________\n",
      "block5_pool (MaxPooling2D)   (None, None, None, 512)   0         \n",
      "_________________________________________________________________\n",
      "global_average_pooling2d_6 ( (None, 512)               0         \n",
      "_________________________________________________________________\n",
      "dense_11 (Dense)             (None, 128)               65664     \n",
      "_________________________________________________________________\n",
      "dense_12 (Dense)             (None, 3)                 387       \n",
      "=================================================================\n",
      "Total params: 20,090,435\n",
      "Trainable params: 66,051\n",
      "Non-trainable params: 20,024,384\n",
      "_________________________________________________________________\n"
     ]
    }
   ],
   "source": [
    "x = conv_base.output\n",
    "x = layers.GlobalAveragePooling2D()(x)\n",
    "x = layers.Dense(128, activation='relu')(x) \n",
    "\n",
    "predictions = layers.Dense(qtde_classes, activation='softmax')(x)\n",
    "model = Model(conv_base.input, predictions)\n",
    "\n",
    "model.summary()"
   ]
  },
  {
   "cell_type": "code",
   "execution_count": null,
   "metadata": {
    "colab": {},
    "colab_type": "code",
    "id": "5px96AxxLUqb"
   },
   "outputs": [],
   "source": [
    "optimizer = keras.optimizers.Adam()\n",
    "model.compile(loss='categorical_crossentropy', optimizer=optimizer, metrics=[precision_score, recall_score, f1_score])"
   ]
  },
  {
   "cell_type": "code",
   "execution_count": null,
   "metadata": {
    "colab": {
     "base_uri": "https://localhost:8080/",
     "height": 717
    },
    "colab_type": "code",
    "id": "2sfNf3w9LUqd",
    "outputId": "c996371d-811f-4899-d2a2-40c20bd40b33"
   },
   "outputs": [
    {
     "name": "stdout",
     "output_type": "stream",
     "text": [
      "Epoch 1/20\n",
      "5/5 [==============================] - 14s 3s/step - loss: 3.0764 - precision_score: 0.3555 - recall_score: 0.3375 - f1_score: 0.3461 - val_loss: 2.0610 - val_precision_score: 0.4327 - val_recall_score: 0.4187 - val_f1_score: 0.4254\n",
      "Epoch 2/20\n",
      "5/5 [==============================] - 13s 3s/step - loss: 1.4953 - precision_score: 0.5320 - recall_score: 0.5125 - f1_score: 0.5221 - val_loss: 1.4516 - val_precision_score: 0.6341 - val_recall_score: 0.6062 - val_f1_score: 0.6197\n",
      "Epoch 3/20\n",
      "5/5 [==============================] - 13s 3s/step - loss: 1.1257 - precision_score: 0.6430 - recall_score: 0.6187 - f1_score: 0.6306 - val_loss: 0.9277 - val_precision_score: 0.7630 - val_recall_score: 0.7437 - val_f1_score: 0.7532\n",
      "Epoch 4/20\n",
      "5/5 [==============================] - 13s 3s/step - loss: 1.1519 - precision_score: 0.6254 - recall_score: 0.6125 - f1_score: 0.6188 - val_loss: 1.2351 - val_precision_score: 0.5954 - val_recall_score: 0.5875 - val_f1_score: 0.5914\n",
      "Epoch 5/20\n",
      "5/5 [==============================] - 13s 3s/step - loss: 1.6494 - precision_score: 0.6125 - recall_score: 0.5938 - f1_score: 0.6029 - val_loss: 1.1155 - val_precision_score: 0.7085 - val_recall_score: 0.7000 - val_f1_score: 0.7042\n",
      "Epoch 6/20\n",
      "5/5 [==============================] - 13s 3s/step - loss: 1.1061 - precision_score: 0.7086 - recall_score: 0.6938 - f1_score: 0.7010 - val_loss: 0.8844 - val_precision_score: 0.6642 - val_recall_score: 0.6438 - val_f1_score: 0.6537\n",
      "Epoch 7/20\n",
      "5/5 [==============================] - 12s 2s/step - loss: 1.2656 - precision_score: 0.6187 - recall_score: 0.6187 - f1_score: 0.6187 - val_loss: 1.1325 - val_precision_score: 0.6742 - val_recall_score: 0.6393 - val_f1_score: 0.6561\n",
      "Epoch 8/20\n",
      "5/5 [==============================] - 13s 3s/step - loss: 0.6856 - precision_score: 0.7814 - recall_score: 0.7563 - f1_score: 0.7685 - val_loss: 1.4683 - val_precision_score: 0.7249 - val_recall_score: 0.7063 - val_f1_score: 0.7154\n",
      "Epoch 9/20\n",
      "5/5 [==============================] - 12s 2s/step - loss: 0.5615 - precision_score: 0.7901 - recall_score: 0.7750 - f1_score: 0.7824 - val_loss: 0.4155 - val_precision_score: 0.7636 - val_recall_score: 0.7437 - val_f1_score: 0.7535\n",
      "Epoch 10/20\n",
      "5/5 [==============================] - 12s 2s/step - loss: 0.8934 - precision_score: 0.7563 - recall_score: 0.7312 - f1_score: 0.7434 - val_loss: 0.5225 - val_precision_score: 0.7401 - val_recall_score: 0.7312 - val_f1_score: 0.7356\n",
      "Epoch 11/20\n",
      "5/5 [==============================] - 13s 3s/step - loss: 0.6150 - precision_score: 0.7558 - recall_score: 0.7375 - f1_score: 0.7465 - val_loss: 0.8453 - val_precision_score: 0.7663 - val_recall_score: 0.7563 - val_f1_score: 0.7611\n",
      "Epoch 12/20\n",
      "5/5 [==============================] - 13s 3s/step - loss: 0.5836 - precision_score: 0.8005 - recall_score: 0.7812 - f1_score: 0.7906 - val_loss: 0.4311 - val_precision_score: 0.7923 - val_recall_score: 0.7812 - val_f1_score: 0.7867\n",
      "Epoch 13/20\n",
      "5/5 [==============================] - 13s 3s/step - loss: 0.6177 - precision_score: 0.8261 - recall_score: 0.8062 - f1_score: 0.8160 - val_loss: 0.4149 - val_precision_score: 0.7800 - val_recall_score: 0.7750 - val_f1_score: 0.7775\n",
      "Epoch 14/20\n",
      "5/5 [==============================] - 12s 2s/step - loss: 0.6196 - precision_score: 0.7746 - recall_score: 0.7630 - f1_score: 0.7687 - val_loss: 0.8680 - val_precision_score: 0.7797 - val_recall_score: 0.7589 - val_f1_score: 0.7691\n",
      "Epoch 15/20\n",
      "5/5 [==============================] - 12s 2s/step - loss: 0.7630 - precision_score: 0.7330 - recall_score: 0.7188 - f1_score: 0.7257 - val_loss: 0.4984 - val_precision_score: 0.8633 - val_recall_score: 0.8313 - val_f1_score: 0.8468\n",
      "Epoch 16/20\n",
      "5/5 [==============================] - 12s 2s/step - loss: 0.4352 - precision_score: 0.8459 - recall_score: 0.8250 - f1_score: 0.8352 - val_loss: 1.0290 - val_precision_score: 0.7966 - val_recall_score: 0.7875 - val_f1_score: 0.7920\n",
      "Epoch 17/20\n",
      "5/5 [==============================] - 12s 2s/step - loss: 0.6658 - precision_score: 0.7703 - recall_score: 0.7500 - f1_score: 0.7599 - val_loss: 0.8919 - val_precision_score: 0.7008 - val_recall_score: 0.6875 - val_f1_score: 0.6940\n",
      "Epoch 18/20\n",
      "5/5 [==============================] - 12s 2s/step - loss: 0.5765 - precision_score: 0.7786 - recall_score: 0.7625 - f1_score: 0.7703 - val_loss: 0.6912 - val_precision_score: 0.7753 - val_recall_score: 0.7563 - val_f1_score: 0.7655\n",
      "Epoch 19/20\n",
      "5/5 [==============================] - 13s 3s/step - loss: 0.5815 - precision_score: 0.8148 - recall_score: 0.8000 - f1_score: 0.8072 - val_loss: 0.7294 - val_precision_score: 0.8268 - val_recall_score: 0.8062 - val_f1_score: 0.8164\n",
      "Epoch 20/20\n",
      "5/5 [==============================] - 12s 2s/step - loss: 0.5117 - precision_score: 0.8062 - recall_score: 0.7812 - f1_score: 0.7933 - val_loss: 0.6485 - val_precision_score: 0.7517 - val_recall_score: 0.7375 - val_f1_score: 0.7444\n"
     ]
    }
   ],
   "source": [
    "history = model.fit_generator(generator=train_generator, \n",
    "                              epochs=qtde_epocas, \n",
    "                              validation_steps=5, \n",
    "                              steps_per_epoch=5, \n",
    "                              validation_data=val_generator)"
   ]
  },
  {
   "cell_type": "markdown",
   "metadata": {
    "colab_type": "text",
    "id": "VdNqQSWXLUqf"
   },
   "source": [
    "Um modelo que converge bem possui o gráfico de perda (*loss*) descendente e os gráfico de precisão (*precision*), sensibilidade (*recall*) e pontuação f1 (*f1 score*) em acendente."
   ]
  },
  {
   "cell_type": "code",
   "execution_count": null,
   "metadata": {
    "colab": {
     "base_uri": "https://localhost:8080/",
     "height": 1000
    },
    "colab_type": "code",
    "id": "G3mfzW43LUqg",
    "outputId": "86c9f347-9b2c-4471-dd84-5ca7d1066197"
   },
   "outputs": [
    {
     "data": {
      "image/png": "[encoded data removed]",
      "text/plain": [
       "<Figure size 432x288 with 1 Axes>"
      ]
     },
     "metadata": {
      "needs_background": "light",
      "tags": []
     },
     "output_type": "display_data"
    },
    {
     "data": {
      "image/png": "[encoded data removed]",
      "text/plain": [
       "<Figure size 432x288 with 1 Axes>"
      ]
     },
     "metadata": {
      "needs_background": "light",
      "tags": []
     },
     "output_type": "display_data"
    },
    {
     "data": {
      "image/png": "[encoded data removed]",
      "text/plain": [
       "<Figure size 432x288 with 1 Axes>"
      ]
     },
     "metadata": {
      "needs_background": "light",
      "tags": []
     },
     "output_type": "display_data"
    },
    {
     "data": {
      "image/png": "[encoded data removed]",
      "text/plain": [
       "<Figure size 432x288 with 1 Axes>"
      ]
     },
     "metadata": {
      "needs_background": "light",
      "tags": []
     },
     "output_type": "display_data"
    }
   ],
   "source": [
    "# Exibindo dados de Precisão\n",
    "plt.plot(history.history['precision_score'])\n",
    "plt.plot(history.history['val_precision_score'])\n",
    "plt.title('model precision')\n",
    "plt.ylabel('precision')\n",
    "plt.xlabel('epoch')\n",
    "plt.legend(['train', 'test'], loc='upper left')\n",
    "plt.show()\n",
    "\n",
    "# Exibindo dados de Sensibilidade\n",
    "plt.plot(history.history['recall_score'])\n",
    "plt.plot(history.history['val_recall_score'])\n",
    "plt.title('model recall')\n",
    "plt.ylabel('recall')\n",
    "plt.xlabel('epoch')\n",
    "plt.legend(['train', 'test'], loc='upper left')\n",
    "plt.show()\n",
    "\n",
    "# Exibindo dados de F1 Score\n",
    "plt.plot(history.history['f1_score'])\n",
    "plt.plot(history.history['val_f1_score'])\n",
    "plt.title('model f1_score')\n",
    "plt.ylabel('f1_score')\n",
    "plt.xlabel('epoch')\n",
    "plt.legend(['train', 'test'], loc='upper left')\n",
    "plt.show()\n",
    "\n",
    "# Exibindo dados de Perda\n",
    "plt.plot(history.history['loss'])\n",
    "plt.plot(history.history['val_loss'])\n",
    "plt.title('model loss')\n",
    "plt.ylabel('loss')\n",
    "plt.xlabel('epoch')\n",
    "plt.legend(['train', 'test'], loc='upper left')\n",
    "plt.show()"
   ]
  },
  {
   "cell_type": "markdown",
   "metadata": {
    "colab_type": "text",
    "id": "XxS7da0rLUqi"
   },
   "source": [
    "**Pergunta**: Avalie os gráficos de perda (*loss*), precisão (*precision*), sensibilidade (*recall*) e pontuação f1 (*f1 score*)  e explique o comportamento de ambos no que tange a convergência do modelo."
   ]
  },
  {
   "cell_type": "markdown",
   "metadata": {
    "colab_type": "text",
    "id": "fQ_yYIqiLUqi"
   },
   "source": [
    "**Resposta**:\n",
    "\n",
    "Com o VGG19, podemos observar que no gráfico de perda (loss), tanto para treino como para teste, estão com a tendência de serem decrescentes e os gráficos de precisão (precision), de sensibilidade (recall) e de pontuação f1(f1_score), tanto no treino como no teste, estão com a tendência de serem crescentes, acreditamos que o medelo está convergindo bem com os dados e o modelo."
   ]
  },
  {
   "cell_type": "markdown",
   "metadata": {
    "colab_type": "text",
    "id": "BGJmZw8WLUqj"
   },
   "source": [
    "**Pergunta**: Quais são os valores de **precisão (precision)**, **sensibilidade (recall)** de validação? \n",
    "\n"
   ]
  },
  {
   "cell_type": "markdown",
   "metadata": {
    "colab_type": "text",
    "id": "W9OOxuxKLUqk"
   },
   "source": [
    "**Resposta**: O valor de precisão, sensibilidade e pontuação de validação são, respectivamente, 63,68%, 63,68%, 63,68%\n",
    "\n",
    "ANTIGO -> 0.25 split -> 2 classes ```Epoch 10/10 [==============================] - 45s 9s/step - loss: 0.1234 - precision_score: 0.9742 - recall_score: 0.9683 - f1_score: 0.9712 - val_loss: 0.8819 - val_precision_score: 0.6912 - val_recall_score: 0.5649 - val_f1_score: 0.6216```\n",
    "\n",
    "1490 NOVO -> 0.25 split -> 3 classes ```Epoch 10/10 [==============================] - 85s 17s/step - loss: 0.5781 - precision_score: 0.7851 - recall_score: 0.7750 - f1_score: 0.7800 - val_loss: 0.8631 - val_precision_score: 0.7469 - val_recall_score: 0.7250 - val_f1_score: 0.7355```\n",
    "\n",
    "1490 NOVO -> 0.30 split -> 3 classes ```Epoch 10/10 [==============================] - 83s 17s/step - loss: 0.6114 - precision_score: 0.7689 - recall_score: 0.7500 - f1_score: 0.7592 - val_loss: 0.8826 - val_precision_score: 0.7175 - val_recall_score: 0.7125 - val_f1_score: 0.7150```\n",
    "\n",
    "1000 NOVO -> 0.25 split -> 3 classes ```Epoch 10/10 [==============================] - 76s 15s/step - loss: 0.7469 - precision_score: 0.7450 - recall_score: 0.7400 - f1_score: 0.7425 - val_loss: 0.3582 - val_precision_score: 0.8194 - val_recall_score: 0.7991 - val_f1_score: 0.8089```\n",
    "\n",
    "1000 NOVO -> 0.30 split -> 3 classes ```Epoch 10/10 [==============================] - 91s 18s/step - loss: 0.7745 - precision_score: 0.7016 - recall_score: 0.6750 - f1_score: 0.6879 - val_loss: 0.3762 - val_precision_score: 0.7901 - val_recall_score: 0.7750 - val_f1_score: 0.7824```\n",
    "\n",
    "No caso acima, o valor de precisão, sensibilidade e pontuação de validação são, respectivamente, 69,12%, 56,49% e 62,16%."
   ]
  },
  {
   "cell_type": "markdown",
   "metadata": {
    "colab_type": "text",
    "id": "sQMXbKqnLUqk"
   },
   "source": [
    "## 4.6 Compartivo de arquiteturas\n",
    "\n",
    "Preencha a tabela abaixo com os valores dos indicadores de performance apresentados.\n",
    "\n",
    "_O cálculo do F1-Score é dado por 2 * (Precisão * Sensibilidade) / (Precisão + Sensibilidade)._"
   ]
  },
  {
   "cell_type": "markdown",
   "metadata": {
    "colab_type": "text",
    "id": "v2LfrXsLLUqk"
   },
   "source": [
    "| Modelo   | Precisão (*Precision*) | Sensibilidade (*Recall*) | F1-Score |\n",
    "|----------|----------|---------------|----------|\n",
    "| ResNet50 | XX %     | XX %          | XX %     |\n",
    "| VGG16    | XX %     | XX %          | XX %     |\n",
    "| VGG19    | XX %     | XX %          | XX %     |"
   ]
  },
  {
   "cell_type": "markdown",
   "metadata": {
    "colab_type": "text",
    "id": "6ri6Vx6kLUql"
   },
   "source": [
    "## 4.7 Conclusões\n",
    "\n",
    "Analise os resultados da tabela de indicadores do comparativo de arquiteturas e explique os principais motivos pelos quais cada modelo obteve cada resultado."
   ]
  },
  {
   "cell_type": "markdown",
   "metadata": {
    "colab_type": "text",
    "id": "4x_BKDWRLUql"
   },
   "source": [
    "**Respota**:"
   ]
  },
  {
   "cell_type": "markdown",
   "metadata": {
    "colab_type": "text",
    "id": "qNWlhBGALUqm"
   },
   "source": [
    "## 4.8 Abordagem Extra\n",
    "\n",
    "Considerando os outros classificadores, escolha outro que ainda não foi utilizado, implemente abaixo. Ao final compare os resultados e explique os resultados.\n",
    "\n",
    "_Não se esquece de utilizar as importações adequadas para cada modelo.\n",
    "A forma de implementação deve respeitar as mesmas condições como valor de split e quantidade de imagens para poder comparar os modelos._"
   ]
  },
  {
   "cell_type": "code",
   "execution_count": null,
   "metadata": {
    "colab": {},
    "colab_type": "code",
    "id": "Mb6dcNY7LUqm"
   },
   "outputs": [],
   "source": [
    "#IMPLEMENTE"
   ]
  },
  {
   "cell_type": "code",
   "execution_count": null,
   "metadata": {
    "colab": {},
    "colab_type": "code",
    "id": "WjMYnP4lLUqp"
   },
   "outputs": [],
   "source": [
    "# imports\n",
    "import keras\n",
    "\n",
    "from keras.applications import ResNet50V2\n",
    "from keras import Model, layers\n",
    "from keras.models import load_model, model_from_json\n",
    "\n",
    "import keras.backend as K"
   ]
  },
  {
   "cell_type": "code",
   "execution_count": null,
   "metadata": {
    "colab": {},
    "colab_type": "code",
    "id": "Xa-xGGKyLUqr"
   },
   "outputs": [],
   "source": [
    "## IMPLEMENTE\n",
    "divisao_treino_validacao = 0.25"
   ]
  },
  {
   "cell_type": "code",
   "execution_count": null,
   "metadata": {
    "colab": {
     "base_uri": "https://localhost:8080/",
     "height": 34
    },
    "colab_type": "code",
    "id": "M1DRHFMHLUqu",
    "outputId": "6558f8e6-0a90-4873-f5d0-d2059726a8dd"
   },
   "outputs": [
    {
     "name": "stdout",
     "output_type": "stream",
     "text": [
      "Found 3354 images belonging to 3 classes.\n"
     ]
    }
   ],
   "source": [
    "train_datagen = ImageDataGenerator(validation_split=divisao_treino_validacao)\n",
    "\n",
    "train_generator = train_datagen.flow_from_directory(\n",
    "    \"raiox/\",\n",
    "    batch_size=32,\n",
    "    class_mode=\"categorical\",\n",
    "    color_mode=\"rgb\",\n",
    "    target_size=(224,224),\n",
    "    subset=\"training\")"
   ]
  },
  {
   "cell_type": "code",
   "execution_count": null,
   "metadata": {
    "colab": {
     "base_uri": "https://localhost:8080/",
     "height": 34
    },
    "colab_type": "code",
    "id": "BgOXfYFXLUqw",
    "outputId": "5737603a-79ef-41d1-9e3d-c15bce60bf04"
   },
   "outputs": [
    {
     "name": "stdout",
     "output_type": "stream",
     "text": [
      "Found 1116 images belonging to 3 classes.\n"
     ]
    }
   ],
   "source": [
    "val_generator = train_datagen.flow_from_directory(\n",
    "    \"raiox/\",\n",
    "    batch_size=32,\n",
    "    class_mode=\"categorical\",\n",
    "    color_mode=\"rgb\",\n",
    "    target_size=(224,224),\n",
    "    subset=\"validation\")"
   ]
  },
  {
   "cell_type": "code",
   "execution_count": null,
   "metadata": {
    "colab": {
     "base_uri": "https://localhost:8080/",
     "height": 51
    },
    "colab_type": "code",
    "id": "ozK403pGLUqz",
    "outputId": "eb844038-2c1f-4011-f113-4c6a3a3881d6"
   },
   "outputs": [
    {
     "name": "stdout",
     "output_type": "stream",
     "text": [
      "Downloading data from https://github.com/keras-team/keras-applications/releases/download/resnet/resnet50v2_weights_tf_dim_ordering_tf_kernels_notop.h5\n",
      "94674944/94668760 [==============================] - 1s 0us/step\n"
     ]
    }
   ],
   "source": [
    "conv_base = ResNet50V2(include_top=False)\n",
    "\n",
    "for layer in conv_base.layers:\n",
    "    layer.trainable = False"
   ]
  },
  {
   "cell_type": "code",
   "execution_count": null,
   "metadata": {
    "colab": {},
    "colab_type": "code",
    "id": "xKLZcU-PLUq1"
   },
   "outputs": [],
   "source": [
    "## IMPLEMENTE\n",
    "\n",
    "qtde_classes = 3"
   ]
  },
  {
   "cell_type": "code",
   "execution_count": null,
   "metadata": {
    "colab": {
     "base_uri": "https://localhost:8080/",
     "height": 1000
    },
    "colab_type": "code",
    "id": "oZchuMIgLUq4",
    "outputId": "4e082402-c481-486f-d445-abddd97d3c4d"
   },
   "outputs": [
    {
     "name": "stdout",
     "output_type": "stream",
     "text": [
      "Model: \"model_7\"\n",
      "__________________________________________________________________________________________________\n",
      "Layer (type)                    Output Shape         Param #     Connected to                     \n",
      "==================================================================================================\n",
      "input_7 (InputLayer)            (None, None, None, 3 0                                            \n",
      "__________________________________________________________________________________________________\n",
      "conv1_pad (ZeroPadding2D)       (None, None, None, 3 0           input_7[0][0]                    \n",
      "__________________________________________________________________________________________________\n",
      "conv1_conv (Conv2D)             (None, None, None, 6 9472        conv1_pad[0][0]                  \n",
      "__________________________________________________________________________________________________\n",
      "pool1_pad (ZeroPadding2D)       (None, None, None, 6 0           conv1_conv[0][0]                 \n",
      "__________________________________________________________________________________________________\n",
      "pool1_pool (MaxPooling2D)       (None, None, None, 6 0           pool1_pad[0][0]                  \n",
      "__________________________________________________________________________________________________\n",
      "conv2_block1_preact_bn (BatchNo (None, None, None, 6 256         pool1_pool[0][0]                 \n",
      "__________________________________________________________________________________________________\n",
      "conv2_block1_preact_relu (Activ (None, None, None, 6 0           conv2_block1_preact_bn[0][0]     \n",
      "__________________________________________________________________________________________________\n",
      "conv2_block1_1_conv (Conv2D)    (None, None, None, 6 4096        conv2_block1_preact_relu[0][0]   \n",
      "__________________________________________________________________________________________________\n",
      "conv2_block1_1_bn (BatchNormali (None, None, None, 6 256         conv2_block1_1_conv[0][0]        \n",
      "__________________________________________________________________________________________________\n",
      "conv2_block1_1_relu (Activation (None, None, None, 6 0           conv2_block1_1_bn[0][0]          \n",
      "__________________________________________________________________________________________________\n",
      "conv2_block1_2_pad (ZeroPadding (None, None, None, 6 0           conv2_block1_1_relu[0][0]        \n",
      "__________________________________________________________________________________________________\n",
      "conv2_block1_2_conv (Conv2D)    (None, None, None, 6 36864       conv2_block1_2_pad[0][0]         \n",
      "__________________________________________________________________________________________________\n",
      "conv2_block1_2_bn (BatchNormali (None, None, None, 6 256         conv2_block1_2_conv[0][0]        \n",
      "__________________________________________________________________________________________________\n",
      "conv2_block1_2_relu (Activation (None, None, None, 6 0           conv2_block1_2_bn[0][0]          \n",
      "__________________________________________________________________________________________________\n",
      "conv2_block1_0_conv (Conv2D)    (None, None, None, 2 16640       conv2_block1_preact_relu[0][0]   \n",
      "__________________________________________________________________________________________________\n",
      "conv2_block1_3_conv (Conv2D)    (None, None, None, 2 16640       conv2_block1_2_relu[0][0]        \n",
      "__________________________________________________________________________________________________\n",
      "conv2_block1_out (Add)          (None, None, None, 2 0           conv2_block1_0_conv[0][0]        \n",
      "                                                                 conv2_block1_3_conv[0][0]        \n",
      "__________________________________________________________________________________________________\n",
      "conv2_block2_preact_bn (BatchNo (None, None, None, 2 1024        conv2_block1_out[0][0]           \n",
      "__________________________________________________________________________________________________\n",
      "conv2_block2_preact_relu (Activ (None, None, None, 2 0           conv2_block2_preact_bn[0][0]     \n",
      "__________________________________________________________________________________________________\n",
      "conv2_block2_1_conv (Conv2D)    (None, None, None, 6 16384       conv2_block2_preact_relu[0][0]   \n",
      "__________________________________________________________________________________________________\n",
      "conv2_block2_1_bn (BatchNormali (None, None, None, 6 256         conv2_block2_1_conv[0][0]        \n",
      "__________________________________________________________________________________________________\n",
      "conv2_block2_1_relu (Activation (None, None, None, 6 0           conv2_block2_1_bn[0][0]          \n",
      "__________________________________________________________________________________________________\n",
      "conv2_block2_2_pad (ZeroPadding (None, None, None, 6 0           conv2_block2_1_relu[0][0]        \n",
      "__________________________________________________________________________________________________\n",
      "conv2_block2_2_conv (Conv2D)    (None, None, None, 6 36864       conv2_block2_2_pad[0][0]         \n",
      "__________________________________________________________________________________________________\n",
      "conv2_block2_2_bn (BatchNormali (None, None, None, 6 256         conv2_block2_2_conv[0][0]        \n",
      "__________________________________________________________________________________________________\n",
      "conv2_block2_2_relu (Activation (None, None, None, 6 0           conv2_block2_2_bn[0][0]          \n",
      "__________________________________________________________________________________________________\n",
      "conv2_block2_3_conv (Conv2D)    (None, None, None, 2 16640       conv2_block2_2_relu[0][0]        \n",
      "__________________________________________________________________________________________________\n",
      "conv2_block2_out (Add)          (None, None, None, 2 0           conv2_block1_out[0][0]           \n",
      "                                                                 conv2_block2_3_conv[0][0]        \n",
      "__________________________________________________________________________________________________\n",
      "conv2_block3_preact_bn (BatchNo (None, None, None, 2 1024        conv2_block2_out[0][0]           \n",
      "__________________________________________________________________________________________________\n",
      "conv2_block3_preact_relu (Activ (None, None, None, 2 0           conv2_block3_preact_bn[0][0]     \n",
      "__________________________________________________________________________________________________\n",
      "conv2_block3_1_conv (Conv2D)    (None, None, None, 6 16384       conv2_block3_preact_relu[0][0]   \n",
      "__________________________________________________________________________________________________\n",
      "conv2_block3_1_bn (BatchNormali (None, None, None, 6 256         conv2_block3_1_conv[0][0]        \n",
      "__________________________________________________________________________________________________\n",
      "conv2_block3_1_relu (Activation (None, None, None, 6 0           conv2_block3_1_bn[0][0]          \n",
      "__________________________________________________________________________________________________\n",
      "conv2_block3_2_pad (ZeroPadding (None, None, None, 6 0           conv2_block3_1_relu[0][0]        \n",
      "__________________________________________________________________________________________________\n",
      "conv2_block3_2_conv (Conv2D)    (None, None, None, 6 36864       conv2_block3_2_pad[0][0]         \n",
      "__________________________________________________________________________________________________\n",
      "conv2_block3_2_bn (BatchNormali (None, None, None, 6 256         conv2_block3_2_conv[0][0]        \n",
      "__________________________________________________________________________________________________\n",
      "conv2_block3_2_relu (Activation (None, None, None, 6 0           conv2_block3_2_bn[0][0]          \n",
      "__________________________________________________________________________________________________\n",
      "max_pooling2d_3 (MaxPooling2D)  (None, None, None, 2 0           conv2_block2_out[0][0]           \n",
      "__________________________________________________________________________________________________\n",
      "conv2_block3_3_conv (Conv2D)    (None, None, None, 2 16640       conv2_block3_2_relu[0][0]        \n",
      "__________________________________________________________________________________________________\n",
      "conv2_block3_out (Add)          (None, None, None, 2 0           max_pooling2d_3[0][0]            \n",
      "                                                                 conv2_block3_3_conv[0][0]        \n",
      "__________________________________________________________________________________________________\n",
      "conv3_block1_preact_bn (BatchNo (None, None, None, 2 1024        conv2_block3_out[0][0]           \n",
      "__________________________________________________________________________________________________\n",
      "conv3_block1_preact_relu (Activ (None, None, None, 2 0           conv3_block1_preact_bn[0][0]     \n",
      "__________________________________________________________________________________________________\n",
      "conv3_block1_1_conv (Conv2D)    (None, None, None, 1 32768       conv3_block1_preact_relu[0][0]   \n",
      "__________________________________________________________________________________________________\n",
      "conv3_block1_1_bn (BatchNormali (None, None, None, 1 512         conv3_block1_1_conv[0][0]        \n",
      "__________________________________________________________________________________________________\n",
      "conv3_block1_1_relu (Activation (None, None, None, 1 0           conv3_block1_1_bn[0][0]          \n",
      "__________________________________________________________________________________________________\n",
      "conv3_block1_2_pad (ZeroPadding (None, None, None, 1 0           conv3_block1_1_relu[0][0]        \n",
      "__________________________________________________________________________________________________\n",
      "conv3_block1_2_conv (Conv2D)    (None, None, None, 1 147456      conv3_block1_2_pad[0][0]         \n",
      "__________________________________________________________________________________________________\n",
      "conv3_block1_2_bn (BatchNormali (None, None, None, 1 512         conv3_block1_2_conv[0][0]        \n",
      "__________________________________________________________________________________________________\n",
      "conv3_block1_2_relu (Activation (None, None, None, 1 0           conv3_block1_2_bn[0][0]          \n",
      "__________________________________________________________________________________________________\n",
      "conv3_block1_0_conv (Conv2D)    (None, None, None, 5 131584      conv3_block1_preact_relu[0][0]   \n",
      "__________________________________________________________________________________________________\n",
      "conv3_block1_3_conv (Conv2D)    (None, None, None, 5 66048       conv3_block1_2_relu[0][0]        \n",
      "__________________________________________________________________________________________________\n",
      "conv3_block1_out (Add)          (None, None, None, 5 0           conv3_block1_0_conv[0][0]        \n",
      "                                                                 conv3_block1_3_conv[0][0]        \n",
      "__________________________________________________________________________________________________\n",
      "conv3_block2_preact_bn (BatchNo (None, None, None, 5 2048        conv3_block1_out[0][0]           \n",
      "__________________________________________________________________________________________________\n",
      "conv3_block2_preact_relu (Activ (None, None, None, 5 0           conv3_block2_preact_bn[0][0]     \n",
      "__________________________________________________________________________________________________\n",
      "conv3_block2_1_conv (Conv2D)    (None, None, None, 1 65536       conv3_block2_preact_relu[0][0]   \n",
      "__________________________________________________________________________________________________\n",
      "conv3_block2_1_bn (BatchNormali (None, None, None, 1 512         conv3_block2_1_conv[0][0]        \n",
      "__________________________________________________________________________________________________\n",
      "conv3_block2_1_relu (Activation (None, None, None, 1 0           conv3_block2_1_bn[0][0]          \n",
      "__________________________________________________________________________________________________\n",
      "conv3_block2_2_pad (ZeroPadding (None, None, None, 1 0           conv3_block2_1_relu[0][0]        \n",
      "__________________________________________________________________________________________________\n",
      "conv3_block2_2_conv (Conv2D)    (None, None, None, 1 147456      conv3_block2_2_pad[0][0]         \n",
      "__________________________________________________________________________________________________\n",
      "conv3_block2_2_bn (BatchNormali (None, None, None, 1 512         conv3_block2_2_conv[0][0]        \n",
      "__________________________________________________________________________________________________\n",
      "conv3_block2_2_relu (Activation (None, None, None, 1 0           conv3_block2_2_bn[0][0]          \n",
      "__________________________________________________________________________________________________\n",
      "conv3_block2_3_conv (Conv2D)    (None, None, None, 5 66048       conv3_block2_2_relu[0][0]        \n",
      "__________________________________________________________________________________________________\n",
      "conv3_block2_out (Add)          (None, None, None, 5 0           conv3_block1_out[0][0]           \n",
      "                                                                 conv3_block2_3_conv[0][0]        \n",
      "__________________________________________________________________________________________________\n",
      "conv3_block3_preact_bn (BatchNo (None, None, None, 5 2048        conv3_block2_out[0][0]           \n",
      "__________________________________________________________________________________________________\n",
      "conv3_block3_preact_relu (Activ (None, None, None, 5 0           conv3_block3_preact_bn[0][0]     \n",
      "__________________________________________________________________________________________________\n",
      "conv3_block3_1_conv (Conv2D)    (None, None, None, 1 65536       conv3_block3_preact_relu[0][0]   \n",
      "__________________________________________________________________________________________________\n",
      "conv3_block3_1_bn (BatchNormali (None, None, None, 1 512         conv3_block3_1_conv[0][0]        \n",
      "__________________________________________________________________________________________________\n",
      "conv3_block3_1_relu (Activation (None, None, None, 1 0           conv3_block3_1_bn[0][0]          \n",
      "__________________________________________________________________________________________________\n",
      "conv3_block3_2_pad (ZeroPadding (None, None, None, 1 0           conv3_block3_1_relu[0][0]        \n",
      "__________________________________________________________________________________________________\n",
      "conv3_block3_2_conv (Conv2D)    (None, None, None, 1 147456      conv3_block3_2_pad[0][0]         \n",
      "__________________________________________________________________________________________________\n",
      "conv3_block3_2_bn (BatchNormali (None, None, None, 1 512         conv3_block3_2_conv[0][0]        \n",
      "__________________________________________________________________________________________________\n",
      "conv3_block3_2_relu (Activation (None, None, None, 1 0           conv3_block3_2_bn[0][0]          \n",
      "__________________________________________________________________________________________________\n",
      "conv3_block3_3_conv (Conv2D)    (None, None, None, 5 66048       conv3_block3_2_relu[0][0]        \n",
      "__________________________________________________________________________________________________\n",
      "conv3_block3_out (Add)          (None, None, None, 5 0           conv3_block2_out[0][0]           \n",
      "                                                                 conv3_block3_3_conv[0][0]        \n",
      "__________________________________________________________________________________________________\n",
      "conv3_block4_preact_bn (BatchNo (None, None, None, 5 2048        conv3_block3_out[0][0]           \n",
      "__________________________________________________________________________________________________\n",
      "conv3_block4_preact_relu (Activ (None, None, None, 5 0           conv3_block4_preact_bn[0][0]     \n",
      "__________________________________________________________________________________________________\n",
      "conv3_block4_1_conv (Conv2D)    (None, None, None, 1 65536       conv3_block4_preact_relu[0][0]   \n",
      "__________________________________________________________________________________________________\n",
      "conv3_block4_1_bn (BatchNormali (None, None, None, 1 512         conv3_block4_1_conv[0][0]        \n",
      "__________________________________________________________________________________________________\n",
      "conv3_block4_1_relu (Activation (None, None, None, 1 0           conv3_block4_1_bn[0][0]          \n",
      "__________________________________________________________________________________________________\n",
      "conv3_block4_2_pad (ZeroPadding (None, None, None, 1 0           conv3_block4_1_relu[0][0]        \n",
      "__________________________________________________________________________________________________\n",
      "conv3_block4_2_conv (Conv2D)    (None, None, None, 1 147456      conv3_block4_2_pad[0][0]         \n",
      "__________________________________________________________________________________________________\n",
      "conv3_block4_2_bn (BatchNormali (None, None, None, 1 512         conv3_block4_2_conv[0][0]        \n",
      "__________________________________________________________________________________________________\n",
      "conv3_block4_2_relu (Activation (None, None, None, 1 0           conv3_block4_2_bn[0][0]          \n",
      "__________________________________________________________________________________________________\n",
      "max_pooling2d_4 (MaxPooling2D)  (None, None, None, 5 0           conv3_block3_out[0][0]           \n",
      "__________________________________________________________________________________________________\n",
      "conv3_block4_3_conv (Conv2D)    (None, None, None, 5 66048       conv3_block4_2_relu[0][0]        \n",
      "__________________________________________________________________________________________________\n",
      "conv3_block4_out (Add)          (None, None, None, 5 0           max_pooling2d_4[0][0]            \n",
      "                                                                 conv3_block4_3_conv[0][0]        \n",
      "__________________________________________________________________________________________________\n",
      "conv4_block1_preact_bn (BatchNo (None, None, None, 5 2048        conv3_block4_out[0][0]           \n",
      "__________________________________________________________________________________________________\n",
      "conv4_block1_preact_relu (Activ (None, None, None, 5 0           conv4_block1_preact_bn[0][0]     \n",
      "__________________________________________________________________________________________________\n",
      "conv4_block1_1_conv (Conv2D)    (None, None, None, 2 131072      conv4_block1_preact_relu[0][0]   \n",
      "__________________________________________________________________________________________________\n",
      "conv4_block1_1_bn (BatchNormali (None, None, None, 2 1024        conv4_block1_1_conv[0][0]        \n",
      "__________________________________________________________________________________________________\n",
      "conv4_block1_1_relu (Activation (None, None, None, 2 0           conv4_block1_1_bn[0][0]          \n",
      "__________________________________________________________________________________________________\n",
      "conv4_block1_2_pad (ZeroPadding (None, None, None, 2 0           conv4_block1_1_relu[0][0]        \n",
      "__________________________________________________________________________________________________\n",
      "conv4_block1_2_conv (Conv2D)    (None, None, None, 2 589824      conv4_block1_2_pad[0][0]         \n",
      "__________________________________________________________________________________________________\n",
      "conv4_block1_2_bn (BatchNormali (None, None, None, 2 1024        conv4_block1_2_conv[0][0]        \n",
      "__________________________________________________________________________________________________\n",
      "conv4_block1_2_relu (Activation (None, None, None, 2 0           conv4_block1_2_bn[0][0]          \n",
      "__________________________________________________________________________________________________\n",
      "conv4_block1_0_conv (Conv2D)    (None, None, None, 1 525312      conv4_block1_preact_relu[0][0]   \n",
      "__________________________________________________________________________________________________\n",
      "conv4_block1_3_conv (Conv2D)    (None, None, None, 1 263168      conv4_block1_2_relu[0][0]        \n",
      "__________________________________________________________________________________________________\n",
      "conv4_block1_out (Add)          (None, None, None, 1 0           conv4_block1_0_conv[0][0]        \n",
      "                                                                 conv4_block1_3_conv[0][0]        \n",
      "__________________________________________________________________________________________________\n",
      "conv4_block2_preact_bn (BatchNo (None, None, None, 1 4096        conv4_block1_out[0][0]           \n",
      "__________________________________________________________________________________________________\n",
      "conv4_block2_preact_relu (Activ (None, None, None, 1 0           conv4_block2_preact_bn[0][0]     \n",
      "__________________________________________________________________________________________________\n",
      "conv4_block2_1_conv (Conv2D)    (None, None, None, 2 262144      conv4_block2_preact_relu[0][0]   \n",
      "__________________________________________________________________________________________________\n",
      "conv4_block2_1_bn (BatchNormali (None, None, None, 2 1024        conv4_block2_1_conv[0][0]        \n",
      "__________________________________________________________________________________________________\n",
      "conv4_block2_1_relu (Activation (None, None, None, 2 0           conv4_block2_1_bn[0][0]          \n",
      "__________________________________________________________________________________________________\n",
      "conv4_block2_2_pad (ZeroPadding (None, None, None, 2 0           conv4_block2_1_relu[0][0]        \n",
      "__________________________________________________________________________________________________\n",
      "conv4_block2_2_conv (Conv2D)    (None, None, None, 2 589824      conv4_block2_2_pad[0][0]         \n",
      "__________________________________________________________________________________________________\n",
      "conv4_block2_2_bn (BatchNormali (None, None, None, 2 1024        conv4_block2_2_conv[0][0]        \n",
      "__________________________________________________________________________________________________\n",
      "conv4_block2_2_relu (Activation (None, None, None, 2 0           conv4_block2_2_bn[0][0]          \n",
      "__________________________________________________________________________________________________\n",
      "conv4_block2_3_conv (Conv2D)    (None, None, None, 1 263168      conv4_block2_2_relu[0][0]        \n",
      "__________________________________________________________________________________________________\n",
      "conv4_block2_out (Add)          (None, None, None, 1 0           conv4_block1_out[0][0]           \n",
      "                                                                 conv4_block2_3_conv[0][0]        \n",
      "__________________________________________________________________________________________________\n",
      "conv4_block3_preact_bn (BatchNo (None, None, None, 1 4096        conv4_block2_out[0][0]           \n",
      "__________________________________________________________________________________________________\n",
      "conv4_block3_preact_relu (Activ (None, None, None, 1 0           conv4_block3_preact_bn[0][0]     \n",
      "__________________________________________________________________________________________________\n",
      "conv4_block3_1_conv (Conv2D)    (None, None, None, 2 262144      conv4_block3_preact_relu[0][0]   \n",
      "__________________________________________________________________________________________________\n",
      "conv4_block3_1_bn (BatchNormali (None, None, None, 2 1024        conv4_block3_1_conv[0][0]        \n",
      "__________________________________________________________________________________________________\n",
      "conv4_block3_1_relu (Activation (None, None, None, 2 0           conv4_block3_1_bn[0][0]          \n",
      "__________________________________________________________________________________________________\n",
      "conv4_block3_2_pad (ZeroPadding (None, None, None, 2 0           conv4_block3_1_relu[0][0]        \n",
      "__________________________________________________________________________________________________\n",
      "conv4_block3_2_conv (Conv2D)    (None, None, None, 2 589824      conv4_block3_2_pad[0][0]         \n",
      "__________________________________________________________________________________________________\n",
      "conv4_block3_2_bn (BatchNormali (None, None, None, 2 1024        conv4_block3_2_conv[0][0]        \n",
      "__________________________________________________________________________________________________\n",
      "conv4_block3_2_relu (Activation (None, None, None, 2 0           conv4_block3_2_bn[0][0]          \n",
      "__________________________________________________________________________________________________\n",
      "conv4_block3_3_conv (Conv2D)    (None, None, None, 1 263168      conv4_block3_2_relu[0][0]        \n",
      "__________________________________________________________________________________________________\n",
      "conv4_block3_out (Add)          (None, None, None, 1 0           conv4_block2_out[0][0]           \n",
      "                                                                 conv4_block3_3_conv[0][0]        \n",
      "__________________________________________________________________________________________________\n",
      "conv4_block4_preact_bn (BatchNo (None, None, None, 1 4096        conv4_block3_out[0][0]           \n",
      "__________________________________________________________________________________________________\n",
      "conv4_block4_preact_relu (Activ (None, None, None, 1 0           conv4_block4_preact_bn[0][0]     \n",
      "__________________________________________________________________________________________________\n",
      "conv4_block4_1_conv (Conv2D)    (None, None, None, 2 262144      conv4_block4_preact_relu[0][0]   \n",
      "__________________________________________________________________________________________________\n",
      "conv4_block4_1_bn (BatchNormali (None, None, None, 2 1024        conv4_block4_1_conv[0][0]        \n",
      "__________________________________________________________________________________________________\n",
      "conv4_block4_1_relu (Activation (None, None, None, 2 0           conv4_block4_1_bn[0][0]          \n",
      "__________________________________________________________________________________________________\n",
      "conv4_block4_2_pad (ZeroPadding (None, None, None, 2 0           conv4_block4_1_relu[0][0]        \n",
      "__________________________________________________________________________________________________\n",
      "conv4_block4_2_conv (Conv2D)    (None, None, None, 2 589824      conv4_block4_2_pad[0][0]         \n",
      "__________________________________________________________________________________________________\n",
      "conv4_block4_2_bn (BatchNormali (None, None, None, 2 1024        conv4_block4_2_conv[0][0]        \n",
      "__________________________________________________________________________________________________\n",
      "conv4_block4_2_relu (Activation (None, None, None, 2 0           conv4_block4_2_bn[0][0]          \n",
      "__________________________________________________________________________________________________\n",
      "conv4_block4_3_conv (Conv2D)    (None, None, None, 1 263168      conv4_block4_2_relu[0][0]        \n",
      "__________________________________________________________________________________________________\n",
      "conv4_block4_out (Add)          (None, None, None, 1 0           conv4_block3_out[0][0]           \n",
      "                                                                 conv4_block4_3_conv[0][0]        \n",
      "__________________________________________________________________________________________________\n",
      "conv4_block5_preact_bn (BatchNo (None, None, None, 1 4096        conv4_block4_out[0][0]           \n",
      "__________________________________________________________________________________________________\n",
      "conv4_block5_preact_relu (Activ (None, None, None, 1 0           conv4_block5_preact_bn[0][0]     \n",
      "__________________________________________________________________________________________________\n",
      "conv4_block5_1_conv (Conv2D)    (None, None, None, 2 262144      conv4_block5_preact_relu[0][0]   \n",
      "__________________________________________________________________________________________________\n",
      "conv4_block5_1_bn (BatchNormali (None, None, None, 2 1024        conv4_block5_1_conv[0][0]        \n",
      "__________________________________________________________________________________________________\n",
      "conv4_block5_1_relu (Activation (None, None, None, 2 0           conv4_block5_1_bn[0][0]          \n",
      "__________________________________________________________________________________________________\n",
      "conv4_block5_2_pad (ZeroPadding (None, None, None, 2 0           conv4_block5_1_relu[0][0]        \n",
      "__________________________________________________________________________________________________\n",
      "conv4_block5_2_conv (Conv2D)    (None, None, None, 2 589824      conv4_block5_2_pad[0][0]         \n",
      "__________________________________________________________________________________________________\n",
      "conv4_block5_2_bn (BatchNormali (None, None, None, 2 1024        conv4_block5_2_conv[0][0]        \n",
      "__________________________________________________________________________________________________\n",
      "conv4_block5_2_relu (Activation (None, None, None, 2 0           conv4_block5_2_bn[0][0]          \n",
      "__________________________________________________________________________________________________\n",
      "conv4_block5_3_conv (Conv2D)    (None, None, None, 1 263168      conv4_block5_2_relu[0][0]        \n",
      "__________________________________________________________________________________________________\n",
      "conv4_block5_out (Add)          (None, None, None, 1 0           conv4_block4_out[0][0]           \n",
      "                                                                 conv4_block5_3_conv[0][0]        \n",
      "__________________________________________________________________________________________________\n",
      "conv4_block6_preact_bn (BatchNo (None, None, None, 1 4096        conv4_block5_out[0][0]           \n",
      "__________________________________________________________________________________________________\n",
      "conv4_block6_preact_relu (Activ (None, None, None, 1 0           conv4_block6_preact_bn[0][0]     \n",
      "__________________________________________________________________________________________________\n",
      "conv4_block6_1_conv (Conv2D)    (None, None, None, 2 262144      conv4_block6_preact_relu[0][0]   \n",
      "__________________________________________________________________________________________________\n",
      "conv4_block6_1_bn (BatchNormali (None, None, None, 2 1024        conv4_block6_1_conv[0][0]        \n",
      "__________________________________________________________________________________________________\n",
      "conv4_block6_1_relu (Activation (None, None, None, 2 0           conv4_block6_1_bn[0][0]          \n",
      "__________________________________________________________________________________________________\n",
      "conv4_block6_2_pad (ZeroPadding (None, None, None, 2 0           conv4_block6_1_relu[0][0]        \n",
      "__________________________________________________________________________________________________\n",
      "conv4_block6_2_conv (Conv2D)    (None, None, None, 2 589824      conv4_block6_2_pad[0][0]         \n",
      "__________________________________________________________________________________________________\n",
      "conv4_block6_2_bn (BatchNormali (None, None, None, 2 1024        conv4_block6_2_conv[0][0]        \n",
      "__________________________________________________________________________________________________\n",
      "conv4_block6_2_relu (Activation (None, None, None, 2 0           conv4_block6_2_bn[0][0]          \n",
      "__________________________________________________________________________________________________\n",
      "max_pooling2d_5 (MaxPooling2D)  (None, None, None, 1 0           conv4_block5_out[0][0]           \n",
      "__________________________________________________________________________________________________\n",
      "conv4_block6_3_conv (Conv2D)    (None, None, None, 1 263168      conv4_block6_2_relu[0][0]        \n",
      "__________________________________________________________________________________________________\n",
      "conv4_block6_out (Add)          (None, None, None, 1 0           max_pooling2d_5[0][0]            \n",
      "                                                                 conv4_block6_3_conv[0][0]        \n",
      "__________________________________________________________________________________________________\n",
      "conv5_block1_preact_bn (BatchNo (None, None, None, 1 4096        conv4_block6_out[0][0]           \n",
      "__________________________________________________________________________________________________\n",
      "conv5_block1_preact_relu (Activ (None, None, None, 1 0           conv5_block1_preact_bn[0][0]     \n",
      "__________________________________________________________________________________________________\n",
      "conv5_block1_1_conv (Conv2D)    (None, None, None, 5 524288      conv5_block1_preact_relu[0][0]   \n",
      "__________________________________________________________________________________________________\n",
      "conv5_block1_1_bn (BatchNormali (None, None, None, 5 2048        conv5_block1_1_conv[0][0]        \n",
      "__________________________________________________________________________________________________\n",
      "conv5_block1_1_relu (Activation (None, None, None, 5 0           conv5_block1_1_bn[0][0]          \n",
      "__________________________________________________________________________________________________\n",
      "conv5_block1_2_pad (ZeroPadding (None, None, None, 5 0           conv5_block1_1_relu[0][0]        \n",
      "__________________________________________________________________________________________________\n",
      "conv5_block1_2_conv (Conv2D)    (None, None, None, 5 2359296     conv5_block1_2_pad[0][0]         \n",
      "__________________________________________________________________________________________________\n",
      "conv5_block1_2_bn (BatchNormali (None, None, None, 5 2048        conv5_block1_2_conv[0][0]        \n",
      "__________________________________________________________________________________________________\n",
      "conv5_block1_2_relu (Activation (None, None, None, 5 0           conv5_block1_2_bn[0][0]          \n",
      "__________________________________________________________________________________________________\n",
      "conv5_block1_0_conv (Conv2D)    (None, None, None, 2 2099200     conv5_block1_preact_relu[0][0]   \n",
      "__________________________________________________________________________________________________\n",
      "conv5_block1_3_conv (Conv2D)    (None, None, None, 2 1050624     conv5_block1_2_relu[0][0]        \n",
      "__________________________________________________________________________________________________\n",
      "conv5_block1_out (Add)          (None, None, None, 2 0           conv5_block1_0_conv[0][0]        \n",
      "                                                                 conv5_block1_3_conv[0][0]        \n",
      "__________________________________________________________________________________________________\n",
      "conv5_block2_preact_bn (BatchNo (None, None, None, 2 8192        conv5_block1_out[0][0]           \n",
      "__________________________________________________________________________________________________\n",
      "conv5_block2_preact_relu (Activ (None, None, None, 2 0           conv5_block2_preact_bn[0][0]     \n",
      "__________________________________________________________________________________________________\n",
      "conv5_block2_1_conv (Conv2D)    (None, None, None, 5 1048576     conv5_block2_preact_relu[0][0]   \n",
      "__________________________________________________________________________________________________\n",
      "conv5_block2_1_bn (BatchNormali (None, None, None, 5 2048        conv5_block2_1_conv[0][0]        \n",
      "__________________________________________________________________________________________________\n",
      "conv5_block2_1_relu (Activation (None, None, None, 5 0           conv5_block2_1_bn[0][0]          \n",
      "__________________________________________________________________________________________________\n",
      "conv5_block2_2_pad (ZeroPadding (None, None, None, 5 0           conv5_block2_1_relu[0][0]        \n",
      "__________________________________________________________________________________________________\n",
      "conv5_block2_2_conv (Conv2D)    (None, None, None, 5 2359296     conv5_block2_2_pad[0][0]         \n",
      "__________________________________________________________________________________________________\n",
      "conv5_block2_2_bn (BatchNormali (None, None, None, 5 2048        conv5_block2_2_conv[0][0]        \n",
      "__________________________________________________________________________________________________\n",
      "conv5_block2_2_relu (Activation (None, None, None, 5 0           conv5_block2_2_bn[0][0]          \n",
      "__________________________________________________________________________________________________\n",
      "conv5_block2_3_conv (Conv2D)    (None, None, None, 2 1050624     conv5_block2_2_relu[0][0]        \n",
      "__________________________________________________________________________________________________\n",
      "conv5_block2_out (Add)          (None, None, None, 2 0           conv5_block1_out[0][0]           \n",
      "                                                                 conv5_block2_3_conv[0][0]        \n",
      "__________________________________________________________________________________________________\n",
      "conv5_block3_preact_bn (BatchNo (None, None, None, 2 8192        conv5_block2_out[0][0]           \n",
      "__________________________________________________________________________________________________\n",
      "conv5_block3_preact_relu (Activ (None, None, None, 2 0           conv5_block3_preact_bn[0][0]     \n",
      "__________________________________________________________________________________________________\n",
      "conv5_block3_1_conv (Conv2D)    (None, None, None, 5 1048576     conv5_block3_preact_relu[0][0]   \n",
      "__________________________________________________________________________________________________\n",
      "conv5_block3_1_bn (BatchNormali (None, None, None, 5 2048        conv5_block3_1_conv[0][0]        \n",
      "__________________________________________________________________________________________________\n",
      "conv5_block3_1_relu (Activation (None, None, None, 5 0           conv5_block3_1_bn[0][0]          \n",
      "__________________________________________________________________________________________________\n",
      "conv5_block3_2_pad (ZeroPadding (None, None, None, 5 0           conv5_block3_1_relu[0][0]        \n",
      "__________________________________________________________________________________________________\n",
      "conv5_block3_2_conv (Conv2D)    (None, None, None, 5 2359296     conv5_block3_2_pad[0][0]         \n",
      "__________________________________________________________________________________________________\n",
      "conv5_block3_2_bn (BatchNormali (None, None, None, 5 2048        conv5_block3_2_conv[0][0]        \n",
      "__________________________________________________________________________________________________\n",
      "conv5_block3_2_relu (Activation (None, None, None, 5 0           conv5_block3_2_bn[0][0]          \n",
      "__________________________________________________________________________________________________\n",
      "conv5_block3_3_conv (Conv2D)    (None, None, None, 2 1050624     conv5_block3_2_relu[0][0]        \n",
      "__________________________________________________________________________________________________\n",
      "conv5_block3_out (Add)          (None, None, None, 2 0           conv5_block2_out[0][0]           \n",
      "                                                                 conv5_block3_3_conv[0][0]        \n",
      "__________________________________________________________________________________________________\n",
      "post_bn (BatchNormalization)    (None, None, None, 2 8192        conv5_block3_out[0][0]           \n",
      "__________________________________________________________________________________________________\n",
      "post_relu (Activation)          (None, None, None, 2 0           post_bn[0][0]                    \n",
      "__________________________________________________________________________________________________\n",
      "global_average_pooling2d_7 (Glo (None, 2048)         0           post_relu[0][0]                  \n",
      "__________________________________________________________________________________________________\n",
      "dense_13 (Dense)                (None, 128)          262272      global_average_pooling2d_7[0][0] \n",
      "__________________________________________________________________________________________________\n",
      "dense_14 (Dense)                (None, 3)            387         dense_13[0][0]                   \n",
      "==================================================================================================\n",
      "Total params: 23,827,459\n",
      "Trainable params: 262,659\n",
      "Non-trainable params: 23,564,800\n",
      "__________________________________________________________________________________________________\n"
     ]
    }
   ],
   "source": [
    "x = conv_base.output\n",
    "x = layers.GlobalAveragePooling2D()(x)\n",
    "x = layers.Dense(128, activation='relu')(x) \n",
    "\n",
    "predictions = layers.Dense(qtde_classes, activation='softmax')(x)\n",
    "model = Model(conv_base.input, predictions)\n",
    "\n",
    "model.summary()"
   ]
  },
  {
   "cell_type": "code",
   "execution_count": null,
   "metadata": {
    "colab": {},
    "colab_type": "code",
    "id": "3XA_tpSxLUq6"
   },
   "outputs": [],
   "source": [
    "optimizer = keras.optimizers.Adam()\n",
    "model.compile(loss='categorical_crossentropy', optimizer=optimizer, metrics=[precision_score, recall_score, f1_score])"
   ]
  },
  {
   "cell_type": "code",
   "execution_count": null,
   "metadata": {
    "colab": {},
    "colab_type": "code",
    "id": "Mh2SqMAsLUrA"
   },
   "outputs": [],
   "source": [
    "## IMPLEMENTE\n",
    "\n",
    "qtde_epocas = 20"
   ]
  },
  {
   "cell_type": "code",
   "execution_count": null,
   "metadata": {
    "colab": {
     "base_uri": "https://localhost:8080/",
     "height": 717
    },
    "colab_type": "code",
    "id": "DQQdjoESLUrE",
    "outputId": "ece6535e-6913-4c8f-fd19-61df49990067"
   },
   "outputs": [
    {
     "name": "stdout",
     "output_type": "stream",
     "text": [
      "Epoch 1/20\n",
      "5/5 [==============================] - 12s 2s/step - loss: 1.0526 - precision_score: 0.5703 - recall_score: 0.3625 - f1_score: 0.4384 - val_loss: 27.9349 - val_precision_score: 0.4062 - val_recall_score: 0.4062 - val_f1_score: 0.4062\n",
      "Epoch 2/20\n",
      "5/5 [==============================] - 8s 2s/step - loss: 0.7002 - precision_score: 0.7889 - recall_score: 0.6562 - f1_score: 0.7153 - val_loss: 84.0490 - val_precision_score: 0.3562 - val_recall_score: 0.3562 - val_f1_score: 0.3562\n",
      "Epoch 3/20\n",
      "5/5 [==============================] - 8s 2s/step - loss: 0.5154 - precision_score: 0.8062 - recall_score: 0.7188 - f1_score: 0.7589 - val_loss: 87.0654 - val_precision_score: 0.3187 - val_recall_score: 0.3187 - val_f1_score: 0.3187\n",
      "Epoch 4/20\n",
      "5/5 [==============================] - 11s 2s/step - loss: 0.4914 - precision_score: 0.8371 - recall_score: 0.7750 - f1_score: 0.8046 - val_loss: 132.3243 - val_precision_score: 0.3125 - val_recall_score: 0.3125 - val_f1_score: 0.3125\n",
      "Epoch 5/20\n",
      "5/5 [==============================] - 10s 2s/step - loss: 0.5725 - precision_score: 0.8263 - recall_score: 0.7937 - f1_score: 0.8096 - val_loss: 129.5074 - val_precision_score: 0.3313 - val_recall_score: 0.3313 - val_f1_score: 0.3312\n",
      "Epoch 6/20\n",
      "5/5 [==============================] - 9s 2s/step - loss: 0.6220 - precision_score: 0.7836 - recall_score: 0.7312 - f1_score: 0.7558 - val_loss: 113.9444 - val_precision_score: 0.3313 - val_recall_score: 0.3313 - val_f1_score: 0.3312\n",
      "Epoch 7/20\n",
      "5/5 [==============================] - 8s 2s/step - loss: 0.4598 - precision_score: 0.8434 - recall_score: 0.8062 - f1_score: 0.8244 - val_loss: 131.4201 - val_precision_score: 0.3598 - val_recall_score: 0.3598 - val_f1_score: 0.3598\n",
      "Epoch 8/20\n",
      "5/5 [==============================] - 9s 2s/step - loss: 0.6459 - precision_score: 0.7492 - recall_score: 0.7125 - f1_score: 0.7304 - val_loss: 240.9302 - val_precision_score: 0.3375 - val_recall_score: 0.3375 - val_f1_score: 0.3375\n",
      "Epoch 9/20\n",
      "5/5 [==============================] - 10s 2s/step - loss: 0.5121 - precision_score: 0.8094 - recall_score: 0.7437 - f1_score: 0.7751 - val_loss: 119.1486 - val_precision_score: 0.3187 - val_recall_score: 0.3187 - val_f1_score: 0.3187\n",
      "Epoch 10/20\n",
      "5/5 [==============================] - 11s 2s/step - loss: 0.5519 - precision_score: 0.7593 - recall_score: 0.7063 - f1_score: 0.7314 - val_loss: 166.5145 - val_precision_score: 0.3500 - val_recall_score: 0.3500 - val_f1_score: 0.3500\n",
      "Epoch 11/20\n",
      "5/5 [==============================] - 10s 2s/step - loss: 0.4717 - precision_score: 0.8324 - recall_score: 0.8062 - f1_score: 0.8188 - val_loss: 207.3170 - val_precision_score: 0.3625 - val_recall_score: 0.3625 - val_f1_score: 0.3625\n",
      "Epoch 12/20\n",
      "5/5 [==============================] - 9s 2s/step - loss: 0.4468 - precision_score: 0.8025 - recall_score: 0.7625 - f1_score: 0.7819 - val_loss: 121.7539 - val_precision_score: 0.3500 - val_recall_score: 0.3500 - val_f1_score: 0.3500\n",
      "Epoch 13/20\n",
      "5/5 [==============================] - 8s 2s/step - loss: 0.5254 - precision_score: 0.8091 - recall_score: 0.7437 - f1_score: 0.7749 - val_loss: 171.4528 - val_precision_score: 0.2812 - val_recall_score: 0.2812 - val_f1_score: 0.2812\n",
      "Epoch 14/20\n",
      "5/5 [==============================] - 8s 2s/step - loss: 0.6174 - precision_score: 0.7639 - recall_score: 0.7500 - f1_score: 0.7568 - val_loss: 94.1287 - val_precision_score: 0.3348 - val_recall_score: 0.3348 - val_f1_score: 0.3348\n",
      "Epoch 15/20\n",
      "5/5 [==============================] - 8s 2s/step - loss: 0.4450 - precision_score: 0.8520 - recall_score: 0.7937 - f1_score: 0.8215 - val_loss: 134.2230 - val_precision_score: 0.4125 - val_recall_score: 0.4125 - val_f1_score: 0.4125\n",
      "Epoch 16/20\n",
      "5/5 [==============================] - 9s 2s/step - loss: 0.4293 - precision_score: 0.8206 - recall_score: 0.7937 - f1_score: 0.8068 - val_loss: 162.5959 - val_precision_score: 0.3000 - val_recall_score: 0.3000 - val_f1_score: 0.3000\n",
      "Epoch 17/20\n",
      "5/5 [==============================] - 10s 2s/step - loss: 0.4893 - precision_score: 0.8219 - recall_score: 0.7750 - f1_score: 0.7976 - val_loss: 294.4084 - val_precision_score: 0.3187 - val_recall_score: 0.3187 - val_f1_score: 0.3187\n",
      "Epoch 18/20\n",
      "5/5 [==============================] - 7s 1s/step - loss: 0.6264 - precision_score: 0.7965 - recall_score: 0.7750 - f1_score: 0.7853 - val_loss: 244.3634 - val_precision_score: 0.3000 - val_recall_score: 0.3000 - val_f1_score: 0.3000\n",
      "Epoch 19/20\n",
      "5/5 [==============================] - 6s 1s/step - loss: 0.4902 - precision_score: 0.8183 - recall_score: 0.7875 - f1_score: 0.8024 - val_loss: 83.3936 - val_precision_score: 0.3438 - val_recall_score: 0.3438 - val_f1_score: 0.3437\n",
      "Epoch 20/20\n",
      "5/5 [==============================] - 6s 1s/step - loss: 0.7472 - precision_score: 0.7678 - recall_score: 0.7312 - f1_score: 0.7490 - val_loss: 111.4287 - val_precision_score: 0.3250 - val_recall_score: 0.3250 - val_f1_score: 0.3250\n"
     ]
    }
   ],
   "source": [
    "history = model.fit_generator(generator=train_generator, \n",
    "                              epochs=qtde_epocas, \n",
    "                              validation_steps=5, \n",
    "                              steps_per_epoch=5, \n",
    "                              validation_data=val_generator)"
   ]
  },
  {
   "cell_type": "code",
   "execution_count": null,
   "metadata": {
    "colab": {
     "base_uri": "https://localhost:8080/",
     "height": 1000
    },
    "colab_type": "code",
    "id": "_v9l_1lwLUrH",
    "outputId": "af44effc-8eda-48af-9ac1-4881c37aad6e"
   },
   "outputs": [
    {
     "data": {
      "image/png": "[encoded data removed]",
      "text/plain": [
       "<Figure size 432x288 with 1 Axes>"
      ]
     },
     "metadata": {
      "needs_background": "light",
      "tags": []
     },
     "output_type": "display_data"
    },
    {
     "data": {
      "image/png": "[encoded data removed]",
      "text/plain": [
       "<Figure size 432x288 with 1 Axes>"
      ]
     },
     "metadata": {
      "needs_background": "light",
      "tags": []
     },
     "output_type": "display_data"
    },
    {
     "data": {
      "image/png": "[encoded data removed]",
      "text/plain": [
       "<Figure size 432x288 with 1 Axes>"
      ]
     },
     "metadata": {
      "needs_background": "light",
      "tags": []
     },
     "output_type": "display_data"
    },
    {
     "data": {
      "image/png": "[encoded data removed]",
      "text/plain": [
       "<Figure size 432x288 with 1 Axes>"
      ]
     },
     "metadata": {
      "needs_background": "light",
      "tags": []
     },
     "output_type": "display_data"
    }
   ],
   "source": [
    "# Exibindo dados de Precisão\n",
    "plt.plot(history.history['precision_score'])\n",
    "plt.plot(history.history['val_precision_score'])\n",
    "plt.title('model precision')\n",
    "plt.ylabel('precision')\n",
    "plt.xlabel('epoch')\n",
    "plt.legend(['train', 'test'], loc='upper left')\n",
    "plt.show()\n",
    "\n",
    "# Exibindo dados de Sensibilidade\n",
    "plt.plot(history.history['recall_score'])\n",
    "plt.plot(history.history['val_recall_score'])\n",
    "plt.title('model recall')\n",
    "plt.ylabel('recall')\n",
    "plt.xlabel('epoch')\n",
    "plt.legend(['train', 'test'], loc='upper left')\n",
    "plt.show()\n",
    "\n",
    "# Exibindo dados de F1 Score\n",
    "plt.plot(history.history['f1_score'])\n",
    "plt.plot(history.history['val_f1_score'])\n",
    "plt.title('model f1_score')\n",
    "plt.ylabel('f1_score')\n",
    "plt.xlabel('epoch')\n",
    "plt.legend(['train', 'test'], loc='upper left')\n",
    "plt.show()\n",
    "\n",
    "# Exibindo dados de Perda\n",
    "plt.plot(history.history['loss'])\n",
    "plt.plot(history.history['val_loss'])\n",
    "plt.title('model loss')\n",
    "plt.ylabel('loss')\n",
    "plt.xlabel('epoch')\n",
    "plt.legend(['train', 'test'], loc='upper left')\n",
    "plt.show()"
   ]
  },
  {
   "cell_type": "markdown",
   "metadata": {
    "colab_type": "text",
    "id": "DNRJDSOoLUrK"
   },
   "source": [
    "### 4.8.1 Conclusões sobre a abordagem extra\n",
    "\n",
    "Como seu modelo performou em comparação com os demais modelos anteriores? Justifique sua resposta levando em consideração a arquitetura respectiva."
   ]
  },
  {
   "cell_type": "markdown",
   "metadata": {
    "colab_type": "text",
    "id": "bb6vjLGfLUrK"
   },
   "source": [
    "**Resposta**:"
   ]
  },
  {
   "cell_type": "code",
   "execution_count": null,
   "metadata": {
    "colab": {},
    "colab_type": "code",
    "id": "bXnqP2Z6LUrL"
   },
   "outputs": [],
   "source": []
  }
 ],
 "metadata": {
  "colab": {
   "collapsed_sections": [],
   "machine_shape": "hm",
   "name": "analise-imagens-medicas.ipynb",
   "provenance": [],
   "toc_visible": true
  },
  "kernelspec": {
   "display_name": "Python 3",
   "language": "python",
   "name": "python3"
  },
  "language_info": {
   "codemirror_mode": {
    "name": "ipython",
    "version": 3
   },
   "file_extension": ".py",
   "mimetype": "text/x-python",
   "name": "python",
   "nbconvert_exporter": "python",
   "pygments_lexer": "ipython3",
   "version": "3.7.4"
  }
 },
 "nbformat": 4,
 "nbformat_minor": 4
}
