{
  "nbformat": 4,
  "nbformat_minor": 0,
  "metadata": {
    "accelerator": "TPU",
    "colab": {
      "name": "analise-imagens-medicas-colab.ipynb",
      "provenance": [],
      "collapsed_sections": [],
      "machine_shape": "hm"
    },
    "kernelspec": {
      "display_name": "Python 3",
      "language": "python",
      "name": "python3"
    },
    "language_info": {
      "codemirror_mode": {
        "name": "ipython",
        "version": 3
      },
      "file_extension": ".py",
      "mimetype": "text/x-python",
      "name": "python",
      "nbconvert_exporter": "python",
      "pygments_lexer": "ipython3",
      "version": "3.7.4"
    }
  },
  "cells": [
    {
      "cell_type": "markdown",
      "metadata": {
        "colab_type": "text",
        "id": "DytEyL6Ymrkx"
      },
      "source": [
        "# MBA FIAP Inteligência Artificial & Machine Learning\n",
        "\n",
        "## Visão Computacional: Análise de Imagens Médicas\n",
        "\n",
        "> Atenção: este notebook foi desenhado para funcionar no **Google Collab**. Se pretende executar localmente prefira a versão local deste notebook, sem o sufixo ```-collab```.\n",
        "\n",
        "\n",
        "## 1. Introdução\n",
        "\n",
        "As tecnologias de imagens médicas estão cada vez mais integradas aos sitemas de visão computacional, incluindo as imagens de raio-x.\n",
        "\n",
        "Modelos de equipamentos modernos geram imagens digitais deste tipo de exame, proporcionando análises mais completas e menos _ad-hoc_, com isso algumas pré-análises podem ser realizadas por aplicações baseadas em inteligência artificial para confirmar ou sugerir diagnósticos ao profissional responsável pelo exame.\n",
        "\n",
        "No campo dos diagósticos por raios-x, a pnenumonia é uma das enfermidades onde seu uso é um dos mais aplicados para determinar o curso de tratamento.\n",
        "\n",
        "<p align=\"center\">\n",
        "    <img src=\"https://github.com/jssfernandes/fiap-ml-visao-computacional-capstone-alternative/blob/master/projeto-final/imagens/NORMAL2-IM-1422-0001.jpeg?raw=1\">\n",
        "</p>\n",
        "\n",
        "## 2. Instruções\n",
        "\n",
        "Este projeto final tem como objetivo explorar os conhecimentos adquiridos nas aulas práticas.\n",
        "\n",
        "Por meio de uma trilha guiada, iremos constuir um modelo que seja capaz de classificar imagens de raio-x para determinar se a determinada pessoa está com alguma condição que necessita maiores cuidados.\n",
        "\n",
        "De acordo com as imagens disponíveis para o treinamento e validação, será de critério do grupo selecionar as quantidades ideais ou até mesmo pré-processar as imagens para obter o melhor resultado, nos principais indicadores de performance, como precisão, sensibilidade e pontuação F1.\n",
        "\n",
        "Este projeto poderá ser feita por grupos de até 4 pessoas.\n",
        "Caso este projeto seja substitutivo, deverá ser realizado por apenas uma pessoa.\n",
        "\n",
        "| Nome dos Integrantes              | RM             | Turma   |\n",
        "| :-----------------------          | :------------- | :-----: |\n",
        "| Eduardo Rodrigo Ferreira          | RM 335756      | `10IA`  |\n",
        "| Josenilton Sergio Silva Fernandes | RM 335527      | `10IA`  |\n",
        "| Leandro Queiroz Santos Silva      | RM 335535      | `10IA`  |\n",
        "\n",
        "Por ser um projeto guiado, fique atento quando houver as marcações **Implementação** indica que é necessário realizar alguma implementação em Python no bloco a seguir onde há a inscrição ```##IMPLEMENTAR``` e **Resposta** indica que é esperado uma resposta objetiva relacionado a algum questionamento. \n",
        "\n",
        "**Cada grupo pode utilizar nas respostas objetivas quaisquer itens necessários que enriqueçam seu ponto vista, como gráficos, fotos e, até mesmo, trechos de código-fonte.**\n",
        "\n",
        "Pode-se utilizar quantos blocos forem necessários para realizar determinadas implementações ou utilizá-las para justificar as respostas. Não é obrigatório utilizar somente o bloco indicado.\n",
        "\n",
        "Ao final não se esqueça de subir os arquivos do projeto nas contas do GitHub de cada membro, ou subir na do representante do grupo e os membros realizarem o fork do projeto.\n",
        "\n",
        "A avaliação terá mais ênfase nos seguintes tópicos de desenvolvimento do projeto:\n",
        " \n",
        "1. __Pré-Processamento__\n",
        "2. __Classificação__\n",
        "3. __Performance__\n",
        "4. __Conclusões Finais__"
      ]
    },
    {
      "cell_type": "markdown",
      "metadata": {
        "colab_type": "text",
        "id": "zQUJ19uxmrky"
      },
      "source": [
        "## 3.1 Detalhe do problema: a pneunomia\n",
        "\n",
        "Fonte: [artigo](https://drauziovarella.uol.com.br/doencas-e-sintomas/pneumonia) do Dr. Drauzio Varella.\n",
        "\n",
        "Pneumonias são infecções que se instalam nos pulmões, órgãos duplos localizados um de cada lado da caixa torácica. Podem acometer a região dos alvéolos pulmonares onde desembocam as ramificações terminais dos brônquios e, às vezes, os interstícios (espaço entre um alvéolo e outro).\n",
        "\n",
        "Basicamente, pneumonia é provocada pela penetração de um agente infeccioso ou irritante (bactérias, vírus, fungos e por reações alérgicas) no espaço alveolar, onde ocorre a troca gasosa. Esse local deve estar sempre muito limpo, livre de substâncias que possam impedir o contato do ar com o sangue.\n",
        "\n",
        "Exame clínico, auscultação dos pulmões e radiografias de tórax são recursos essenciais para o diagnóstico de pneumonia.\n",
        "\n",
        "<p align=\"center\">\n",
        "    <img src=\"https://github.com/jssfernandes/fiap-ml-visao-computacional-capstone-alternative/blob/master/projeto-final/imagens/pneumonia.jpeg?raw=1\">\n",
        "</p>"
      ]
    },
    {
      "cell_type": "markdown",
      "metadata": {
        "colab_type": "text",
        "id": "gpMKn9dkmrkz"
      },
      "source": [
        "## 3.2 Diagnóstico por raio-x"
      ]
    },
    {
      "cell_type": "markdown",
      "metadata": {
        "colab_type": "text",
        "id": "-ihbeeBTmrkz"
      },
      "source": [
        "O exame de raio-x traz diferenças em cada tipo de diagnóstico, sendo considerado os seguintes grupos de análise: **normal** (ou controle) onde não há nenhuma condição de infeção, **bacterial pneumonia** (pneumonia bacteriana) que representa a condição de infecção bacteriana e **viral pneumonia** que indica a condição de infecção vira. "
      ]
    },
    {
      "cell_type": "markdown",
      "metadata": {
        "colab_type": "text",
        "id": "Nn9YdAlPmrk0"
      },
      "source": [
        "<p align=\"center\">\n",
        "<img src=\"https://github.com/jssfernandes/fiap-ml-visao-computacional-capstone-alternative/blob/master/projeto-final/imagens/raiox.png?raw=1\" height=\"60%\" width=\"60%\">\n",
        "</p>"
      ]
    },
    {
      "cell_type": "markdown",
      "metadata": {
        "colab_type": "text",
        "id": "i4fwpfehmrk1"
      },
      "source": [
        "As imagens de controle não são mais brancas ao centro que é onde fica o coração. Já nas imagens com pneumonia é possível notar regiões brancas ao redor dos pulmões, que é como o exame identifica as secreções responsáveis pela infeçcão.\n",
        "\n",
        "Quando mais regiões brancas ao redor do pulmão mais severa é a inflamação e menos se observa dos detalhes dos pulmões, ficando um pouco esmaecido diante desta condição."
      ]
    },
    {
      "cell_type": "markdown",
      "metadata": {
        "colab_type": "text",
        "id": "qRY_xAYMmrk1"
      },
      "source": [
        "## 4.1 Problema\n",
        "\n",
        "Construir um classificador utilizando _transfer learning_ para identificar as seguintes classes: **controle**, **pneumonia bacteriana** e **pneumonia viral**.\n",
        "\n",
        "Para construir este classificador, utilize o dataset do [Kaggle Chest Ray Pneumonia](https://www.kaggle.com/paultimothymooney/chest-xray-pneumonia) e organize os dados de forma a separar em cada uma das classes que já estão definidas no diretório ```raiox```, sendo ```controle``` para as imagens normais (sem inflamação), ```bacteria``` para as imagens de pneumonia bacteriana e ```viral``` para as imagens de pneumonia viral.\n",
        "\n",
        "Determine a quantidade de imagens a serem treinadas e validadas. Utiliza pelo menos, 100 imagens para cada classe.\n",
        "\n",
        "Compare os resultados com pelo menos 3 classificadores, obtendo os valores de **precisão (precision)**, **sensibilidade (recall)** e **pontuação F1 (F1 Score)**. No guia abaixo, foi indicado os seguintes modelos: ResNet50, VGG16 e VGG19. \n",
        "\n",
        ">Importante: a escolha do número de imagens devem ser o suficiente para alcançar o valor de **precisão** mínima de 70%.\n",
        "Note que as imagens de pneumonia bacteria e viral estão misturadas dentro da pasta ```PNEUMONIA```. É necessário separar as imagens manualmente tendo como base o sufixo. As imagens que terminal com ```_virus``` se referem a pneumoria viral e as que terminam com ```_bacteria``` se referem a pneumonia bacteriana.\n",
        "\n",
        "A construção do modelo será utilizada o framework Keras."
      ]
    },
    {
      "cell_type": "markdown",
      "metadata": {
        "colab_type": "text",
        "id": "JHH2Er3rmrk2"
      },
      "source": [
        "**Pergunta**: Qual o número de imagens que foram selecionadas para cada classe?"
      ]
    },
    {
      "cell_type": "markdown",
      "metadata": {
        "colab_type": "text",
        "id": "iA_ikU56mrk2"
      },
      "source": [
        "**Resposta**:"
      ]
    },
    {
      "cell_type": "markdown",
      "metadata": {
        "colab_type": "text",
        "id": "d5zXROBXmrk3"
      },
      "source": [
        "## 4.2 Componentes obrigatórios\n",
        "\n",
        "Todas as bibliotecas já estão instaladas no Google Colab.\n",
        "\n",
        "* Keras\n",
        "* Tensorflow\n",
        "* Pillow\n",
        "* Matplotlib"
      ]
    },
    {
      "cell_type": "code",
      "metadata": {
        "colab_type": "code",
        "id": "Y68q4LUsmrk5",
        "colab": {}
      },
      "source": [
        "import os\n",
        "\n",
        "import numpy as np\n",
        "import matplotlib.pyplot as plt\n",
        "from PIL import Image\n",
        "\n",
        "%matplotlib inline\n",
        "\n",
        "from tensorflow.keras.models import Sequential, load_model, model_from_json\n",
        "from tensorflow.keras.layers import Dense, Conv2D, Dropout, Flatten, MaxPooling2D, Activation\n",
        "from tensorflow.keras.preprocessing.image import ImageDataGenerator\n",
        "from tensorflow.keras.applications import VGG16, ResNet50, VGG19\n",
        "from tensorflow.keras.applications.vgg16 import preprocess_input\n",
        "from tensorflow.keras import Model, layers\n",
        "from tensorflow.keras import optimizers\n",
        "\n",
        "import tensorflow.keras.backend as K"
      ],
      "execution_count": null,
      "outputs": []
    },
    {
      "cell_type": "markdown",
      "metadata": {
        "colab_type": "text",
        "id": "FgcrAmN2mrk9"
      },
      "source": [
        "## 4.3 Carregando imagens de treinamento e validação\n",
        "\n",
        "Selecione a melhor divisão entre dados de treinamento e validação. O número deverá ser representado em número fracionário, 5% equivale a 0.05, por exemplo."
      ]
    },
    {
      "cell_type": "markdown",
      "metadata": {
        "colab_type": "text",
        "id": "axm59hHymrk9"
      },
      "source": [
        "> Você pode _montar_ o drive do Google Drive se precisar e quiser armazenar as imagens nesta plataforma. Como o Colab é efêmero, se você copiar os arquivos para o ambiente eles serão apagados depois do fim da sessão. Acesse [esta](https://medium.com/@maxwellcsm/colaboratory-acessando-os-arquivos-do-google-drive-d08ef9157dbf) referência para saber mais como o recurso funciona, inclusive recomenda-se essa abordagem de montar o próprio Google Drive.\n",
        "\n",
        "Se não for utilizar o Google Drive, crie as pastas que serão utilizadas para armazenar as imagens."
      ]
    },
    {
      "cell_type": "markdown",
      "metadata": {
        "colab_type": "text",
        "id": "cLb3xIyvmrk-"
      },
      "source": [
        "### 4.3.1 Utilizando Google Drive\n",
        "\n",
        "Se usar o Google Drive para armazenar as imagens utilize o comando abaixo para montar seu drive.\n",
        "Você pode navegar pelas pastas pelo painel ao lado."
      ]
    },
    {
      "cell_type": "code",
      "metadata": {
        "colab_type": "code",
        "id": "Z9k1m2iwmrk_",
        "colab": {}
      },
      "source": [
        "from google.colab import drive\n",
        "drive.mount('/content/drive')"
      ],
      "execution_count": null,
      "outputs": []
    },
    {
      "cell_type": "markdown",
      "metadata": {
        "colab_type": "text",
        "id": "9nlTZc__mrlC"
      },
      "source": [
        "### 4.3.2 Utilizando o armazenamento efêmero\n",
        "\n",
        "Se optar pelo armazenamento efêmero você precisa enviar os arquivos de imagens (arrastar e soltar) para as pastas que deverão ser criadas pelo comando a seguir."
      ]
    },
    {
      "cell_type": "code",
      "metadata": {
        "colab_type": "code",
        "id": "iztyZyYPmrlC",
        "colab": {}
      },
      "source": [
        "!mkdir raiox/\n",
        "!mkdir raiox/normal\n",
        "!mkdir raiox/pneumonia_bacteriana\n",
        "!mkdir raiox/pneumonia_viral"
      ],
      "execution_count": null,
      "outputs": []
    },
    {
      "cell_type": "markdown",
      "metadata": {
        "colab_type": "text",
        "id": "sN8olX2YmrlF"
      },
      "source": [
        "Defina o nome da pasta onde contém as sub-pastas referente aos 3 tipos de classe. Se optar pelo armazenamento efêmero a pasta será ```raiox```. Se optar pelo Goolge Drive, indique o caminho da pasta."
      ]
    },
    {
      "cell_type": "code",
      "metadata": {
        "colab_type": "code",
        "id": "ko_MfAw3mrlG",
        "colab": {}
      },
      "source": [
        "## IMPLEMENTE\n",
        "divisao_treino_validacao = None\n",
        "nome_pasta_raiz_imagens = None"
      ],
      "execution_count": null,
      "outputs": []
    },
    {
      "cell_type": "markdown",
      "metadata": {
        "colab_type": "text",
        "id": "xneIFXHumrlJ"
      },
      "source": [
        "O caminho abaixo da pasta ```raiox``` pode ser alterado caso você opte por utilizar uma pasta específica do seu Google Drive. Neste caso, certifique que dentro delas tem as sub-pastas referentes as imagens normal, pneumonia bacteriana e viral."
      ]
    },
    {
      "cell_type": "code",
      "metadata": {
        "colab_type": "code",
        "id": "SUgR_k41mrlK",
        "colab": {}
      },
      "source": [
        "train_datagen = ImageDataGenerator(validation_split=divisao_treino_validacao)\n",
        "\n",
        "train_generator = train_datagen.flow_from_directory(\n",
        "    nome_pasta_raiz_imagens,\n",
        "    batch_size=32,\n",
        "    class_mode=\"categorical\",\n",
        "    color_mode=\"rgb\",\n",
        "    target_size=(224,224),\n",
        "    subset=\"training\")"
      ],
      "execution_count": null,
      "outputs": []
    },
    {
      "cell_type": "code",
      "metadata": {
        "colab_type": "code",
        "id": "Zys3bUdzmrlN",
        "colab": {}
      },
      "source": [
        "val_generator = train_datagen.flow_from_directory(\n",
        "    nome_pasta_raiz_imagens,\n",
        "    batch_size=32,\n",
        "    class_mode=\"categorical\",\n",
        "    color_mode=\"rgb\",\n",
        "    target_size=(224,224),\n",
        "    subset=\"validation\")"
      ],
      "execution_count": null,
      "outputs": []
    },
    {
      "cell_type": "code",
      "metadata": {
        "colab_type": "code",
        "id": "8Uzh3ECtmrlQ",
        "colab": {}
      },
      "source": [
        "train_generator.class_indices, val_generator.class_indices"
      ],
      "execution_count": null,
      "outputs": []
    },
    {
      "cell_type": "markdown",
      "metadata": {
        "colab_type": "text",
        "id": "R67h3PWumrlS"
      },
      "source": [
        "## 4.4 Modelos de transfer learning\n",
        "\n",
        "O Keras já possui classes especializadas para os seguintes modelos de deep-learning treinados com o conjunto de dados [ImageNet](http://www.image-net.org/):\n",
        "  \n",
        "* Xception\n",
        "* VGG16\n",
        "* VGG19\n",
        "* ResNet50\n",
        "* InceptionV3\n",
        "* InceptionResNetV2\n",
        "* MobileNet\n",
        "* DenseNet\n",
        "* NASNet\n",
        "* MobileNetV2\n",
        "\n",
        "Mais detalhes, veja na [documentação do Keras](https://keras.io/applications/)."
      ]
    },
    {
      "cell_type": "markdown",
      "metadata": {
        "colab_type": "text",
        "id": "x7gl5ODGmrlT"
      },
      "source": [
        "Para este estudo, vamos utilizar para avaliação as seguintes arquiteturas: RestNet50, VGG15 e VGG19."
      ]
    },
    {
      "cell_type": "markdown",
      "metadata": {
        "colab_type": "text",
        "id": "ULeoRMINmrlT"
      },
      "source": [
        "## 4.5 Indicadores de desempenho\n",
        "\n",
        "O Keras não possui os indicadores de desempenho como precisão, sensibilidade e pontuação f1 por padrão, portanto precisamos implementar externamente."
      ]
    },
    {
      "cell_type": "code",
      "metadata": {
        "colab_type": "code",
        "id": "eMQeZ8uQmrlU",
        "colab": {}
      },
      "source": [
        "def recall_score(y_true, y_pred):\n",
        "    true_positives = K.sum(K.round(K.clip(y_true * y_pred, 0, 1)))\n",
        "    possible_positives = K.sum(K.round(K.clip(y_true, 0, 1)))\n",
        "    recall = true_positives / (possible_positives + K.epsilon())\n",
        "    return recall\n",
        "\n",
        "def precision_score(y_true, y_pred):\n",
        "    true_positives = K.sum(K.round(K.clip(y_true * y_pred, 0, 1)))\n",
        "    predicted_positives = K.sum(K.round(K.clip(y_pred, 0, 1)))\n",
        "    precision = true_positives / (predicted_positives + K.epsilon())\n",
        "    return precision\n",
        "\n",
        "def f1_score(y_true, y_pred):\n",
        "    precision = precision_score(y_true, y_pred)\n",
        "    recall = recall_score(y_true, y_pred)\n",
        "    return 2*((precision*recall)/(precision+recall+K.epsilon()))"
      ],
      "execution_count": null,
      "outputs": []
    },
    {
      "cell_type": "markdown",
      "metadata": {
        "colab_type": "text",
        "id": "_5M_mjgFmrlX"
      },
      "source": [
        "### 4.5.1 Arquitetura ResNet50"
      ]
    },
    {
      "cell_type": "markdown",
      "metadata": {
        "colab_type": "text",
        "id": "wECKscCvmrlY"
      },
      "source": [
        "**Pergunta**: Explique como é constituída a arquitetura do ResNet50? *Utilize, se necessário, gráficos, projetos que utilizam essa arquitetura. Detalhe também sua topologia em camadas e mostre quais as situações essa arquitetura pode ter mais êxito e quais cenários não tem.*"
      ]
    },
    {
      "cell_type": "markdown",
      "metadata": {
        "colab_type": "text",
        "id": "4-XMa97RmrlY"
      },
      "source": [
        "**Resposta**:"
      ]
    },
    {
      "cell_type": "markdown",
      "metadata": {
        "colab_type": "text",
        "id": "qMXR0dkAmrlZ"
      },
      "source": [
        "A técnica de transfer learning consiste de utilizar o mesmo modelo e treiná-lo para outas imagens. Por tal motivo, excluímos a última camada para modelar com as classes que definimos, ou seja, **controle**, **bacteriana** e **viral**."
      ]
    },
    {
      "cell_type": "markdown",
      "metadata": {
        "colab_type": "text",
        "id": "irQ8-xZlmrlZ"
      },
      "source": [
        "Informe a quantidade de classes a serem classificadas."
      ]
    },
    {
      "cell_type": "code",
      "metadata": {
        "colab_type": "code",
        "id": "SNFj0onBmrla",
        "colab": {}
      },
      "source": [
        "## IMPLEMENTE\n",
        "\n",
        "qtde_classes = None"
      ],
      "execution_count": null,
      "outputs": []
    },
    {
      "cell_type": "code",
      "metadata": {
        "colab_type": "code",
        "id": "HbSXTgx_mrlc",
        "colab": {}
      },
      "source": [
        "conv_base = ResNet50(include_top=False)\n",
        "\n",
        "for layer in conv_base.layers:\n",
        "    layer.trainable = False"
      ],
      "execution_count": null,
      "outputs": []
    },
    {
      "cell_type": "code",
      "metadata": {
        "colab_type": "code",
        "id": "ayjcFvqVmrlf",
        "colab": {}
      },
      "source": [
        "x = conv_base.output\n",
        "x = layers.GlobalAveragePooling2D()(x)\n",
        "x = layers.Dense(128, activation='relu')(x) \n",
        "\n",
        "predictions = layers.Dense(qtde_classes, activation='softmax')(x)\n",
        "model = Model(conv_base.input, predictions)\n",
        "\n",
        "model.summary()"
      ],
      "execution_count": null,
      "outputs": []
    },
    {
      "cell_type": "code",
      "metadata": {
        "colab_type": "code",
        "id": "NPNbUYGumrlk",
        "colab": {}
      },
      "source": [
        "optimizer = optimizers.Adam()\n",
        "model.compile(loss='categorical_crossentropy', optimizer=optimizer, metrics=[precision_score, recall_score, f1_score])"
      ],
      "execution_count": null,
      "outputs": []
    },
    {
      "cell_type": "markdown",
      "metadata": {
        "colab_type": "text",
        "id": "D1QZGdr_mrln"
      },
      "source": [
        "O número de épocas define quantas vezes o modelo irá treinar e validar o erro, assim ajustando os pesos para melhor convergência.\n",
        "Escolha o número adequado de épocas para alcançarmos pelo menos **70% de precisão de validação**."
      ]
    },
    {
      "cell_type": "code",
      "metadata": {
        "colab_type": "code",
        "id": "qlEddzmumrlo",
        "colab": {}
      },
      "source": [
        "## IMPLEMENTE\n",
        "\n",
        "qtde_epocas = None"
      ],
      "execution_count": null,
      "outputs": []
    },
    {
      "cell_type": "code",
      "metadata": {
        "colab_type": "code",
        "id": "myltM5jtmrls",
        "colab": {}
      },
      "source": [
        "history = model.fit(train_generator, epochs=qtde_epocas, validation_steps=5, steps_per_epoch=5, \n",
        "                    validation_data=val_generator)"
      ],
      "execution_count": null,
      "outputs": []
    },
    {
      "cell_type": "markdown",
      "metadata": {
        "colab_type": "text",
        "id": "hsr_gMwimrlv"
      },
      "source": [
        "Um modelo que converge bem possui o gráfico de perda (*loss*) descendente e os gráfico de precisão (*precision*), sensibilidade (*recall*) e pontuação f1 (*f1 score*) em acendente."
      ]
    },
    {
      "cell_type": "code",
      "metadata": {
        "colab_type": "code",
        "id": "vsNvvgJsmrlw",
        "colab": {}
      },
      "source": [
        "# Exibindo dados de Precisão\n",
        "plt.plot(history.history['precision_score'])\n",
        "plt.plot(history.history['val_precision_score'])\n",
        "plt.title('model precision')\n",
        "plt.ylabel('precision')\n",
        "plt.xlabel('epoch')\n",
        "plt.legend(['train', 'test'], loc='upper left')\n",
        "plt.show()\n",
        "\n",
        "# Exibindo dados de Sensibilidade\n",
        "plt.plot(history.history['recall_score'])\n",
        "plt.plot(history.history['val_recall_score'])\n",
        "plt.title('model recall')\n",
        "plt.ylabel('recall')\n",
        "plt.xlabel('epoch')\n",
        "plt.legend(['train', 'test'], loc='upper left')\n",
        "plt.show()\n",
        "\n",
        "# Exibindo dados de F1 Score\n",
        "plt.plot(history.history['f1_score'])\n",
        "plt.plot(history.history['val_f1_score'])\n",
        "plt.title('model f1_score')\n",
        "plt.ylabel('f1_score')\n",
        "plt.xlabel('epoch')\n",
        "plt.legend(['train', 'test'], loc='upper left')\n",
        "plt.show()\n",
        "\n",
        "# Exibindo dados de Perda\n",
        "plt.plot(history.history['loss'])\n",
        "plt.plot(history.history['val_loss'])\n",
        "plt.title('model loss')\n",
        "plt.ylabel('loss')\n",
        "plt.xlabel('epoch')\n",
        "plt.legend(['train', 'test'], loc='upper left')\n",
        "plt.show()"
      ],
      "execution_count": null,
      "outputs": []
    },
    {
      "cell_type": "markdown",
      "metadata": {
        "colab_type": "text",
        "id": "p6L0pvlzmrly"
      },
      "source": [
        "**Pergunta**: Avalie os gráficos de perda (*loss*), precisão (*precision*), sensibilidade (*recall*) e pontuação f1 (*f1 score*)  e explique o comportamento de ambos no que tange a convergência do modelo."
      ]
    },
    {
      "cell_type": "markdown",
      "metadata": {
        "colab_type": "text",
        "id": "-7JRIv7nmrlz"
      },
      "source": [
        "**Resposta**:"
      ]
    },
    {
      "cell_type": "markdown",
      "metadata": {
        "colab_type": "text",
        "id": "836eLkspmrlz"
      },
      "source": [
        "**Pergunta**: Quais são os valores de **precisão (precision)**, **sensibilidade (recall)** de validação? \n",
        "\n",
        "*Estes valores são exibidos durante o treinamento, utilize a última saída, exemplo:*\n",
        "\n",
        "```\n",
        "Epoch 10/10 [==============================] - 45s 9s/step - loss: 0.1234 - precision_score: 0.9742 - recall_score: 0.9683 - f1_score: 0.9712 - val_loss: 0.8819 - val_precision_score: 0.6912 - val_recall_score: 0.5649 - val_f1_score: 0.6216```\n",
        "\n",
        "No caso acima, o valor de precisão, sensibilidade e pontuação de validação são, respectivamente, 69,12%, 56,49% e 62,16%."
      ]
    },
    {
      "cell_type": "markdown",
      "metadata": {
        "colab_type": "text",
        "id": "sWJ_DdrEmrl0"
      },
      "source": [
        "**Resposta**:"
      ]
    },
    {
      "cell_type": "markdown",
      "metadata": {
        "colab_type": "text",
        "id": "Q2ktwmXJmrl0"
      },
      "source": [
        "### 4.5.2 Arquitetura VGG16"
      ]
    },
    {
      "cell_type": "markdown",
      "metadata": {
        "colab_type": "text",
        "id": "4jkvWTiWmrl1"
      },
      "source": [
        "**Pergunta**: Explique como é constituída a arquitetura do VGG16? *Utilize, se necessário, gráficos, projetos que utilizam essa arquitetura. Detalhe também sua topologia em camadas e mostre quais as situações essa arquitetura pode ter mais êxito e quais cenários não tem.*"
      ]
    },
    {
      "cell_type": "markdown",
      "metadata": {
        "colab_type": "text",
        "id": "NC4WUjpTmrl1"
      },
      "source": [
        "**Resposta**:"
      ]
    },
    {
      "cell_type": "code",
      "metadata": {
        "colab_type": "code",
        "id": "yHiVIBtrmrl2",
        "colab": {}
      },
      "source": [
        "conv_base = VGG16(include_top=False)\n",
        "\n",
        "for layer in conv_base.layers:\n",
        "    layer.trainable = False"
      ],
      "execution_count": null,
      "outputs": []
    },
    {
      "cell_type": "code",
      "metadata": {
        "colab_type": "code",
        "id": "Gtoo5ZMemrl4",
        "colab": {}
      },
      "source": [
        "x = conv_base.output\n",
        "x = layers.GlobalAveragePooling2D()(x)\n",
        "x = layers.Dense(128, activation='relu')(x) \n",
        "\n",
        "predictions = layers.Dense(qtde_classes, activation='softmax')(x)\n",
        "model = Model(conv_base.input, predictions)\n",
        "\n",
        "model.summary()"
      ],
      "execution_count": null,
      "outputs": []
    },
    {
      "cell_type": "code",
      "metadata": {
        "colab_type": "code",
        "id": "b6J-OZMWmrl6",
        "colab": {}
      },
      "source": [
        "optimizer = optimizers.Adam()\n",
        "model.compile(loss='categorical_crossentropy', optimizer=optimizer, metrics=[precision_score, recall_score, f1_score])"
      ],
      "execution_count": null,
      "outputs": []
    },
    {
      "cell_type": "code",
      "metadata": {
        "colab_type": "code",
        "id": "-cvuTjYfmrl-",
        "colab": {}
      },
      "source": [
        "history = model.fit(train_generator, epochs=qtde_epocas, validation_steps=5, steps_per_epoch=5, \n",
        "                    validation_data=val_generator)"
      ],
      "execution_count": null,
      "outputs": []
    },
    {
      "cell_type": "markdown",
      "metadata": {
        "colab_type": "text",
        "id": "yiiLSA2wmrmC"
      },
      "source": [
        "Um modelo que converge bem possui o gráfico de perda (*loss*) descendente e os gráfico de precisão (*precision*), sensibilidade (*recall*) e pontuação f1 (*f1 score*) em acendente."
      ]
    },
    {
      "cell_type": "code",
      "metadata": {
        "colab_type": "code",
        "id": "3YElXPZ0mrmC",
        "colab": {}
      },
      "source": [
        "# Exibindo dados de Precisão\n",
        "plt.plot(history.history['precision_score'])\n",
        "plt.plot(history.history['val_precision_score'])\n",
        "plt.title('model precision')\n",
        "plt.ylabel('precision')\n",
        "plt.xlabel('epoch')\n",
        "plt.legend(['train', 'test'], loc='upper left')\n",
        "plt.show()\n",
        "\n",
        "# Exibindo dados de Sensibilidade\n",
        "plt.plot(history.history['recall_score'])\n",
        "plt.plot(history.history['val_recall_score'])\n",
        "plt.title('model recall')\n",
        "plt.ylabel('recall')\n",
        "plt.xlabel('epoch')\n",
        "plt.legend(['train', 'test'], loc='upper left')\n",
        "plt.show()\n",
        "\n",
        "# Exibindo dados de F1 Score\n",
        "plt.plot(history.history['f1_score'])\n",
        "plt.plot(history.history['val_f1_score'])\n",
        "plt.title('model f1_score')\n",
        "plt.ylabel('f1_score')\n",
        "plt.xlabel('epoch')\n",
        "plt.legend(['train', 'test'], loc='upper left')\n",
        "plt.show()\n",
        "\n",
        "# Exibindo dados de Perda\n",
        "plt.plot(history.history['loss'])\n",
        "plt.plot(history.history['val_loss'])\n",
        "plt.title('model loss')\n",
        "plt.ylabel('loss')\n",
        "plt.xlabel('epoch')\n",
        "plt.legend(['train', 'test'], loc='upper left')\n",
        "plt.show()"
      ],
      "execution_count": null,
      "outputs": []
    },
    {
      "cell_type": "markdown",
      "metadata": {
        "colab_type": "text",
        "id": "-Wocdlm_mrmE"
      },
      "source": [
        "**Pergunta**: Avalie os gráficos de perda (*loss*), precisão (*precision*), sensibilidade (*recall*) e pontuação f1 (*f1 score*)  e explique o comportamento de ambos no que tange a convergência do modelo."
      ]
    },
    {
      "cell_type": "markdown",
      "metadata": {
        "colab_type": "text",
        "id": "fcsFJcpimrmF"
      },
      "source": [
        "**Resposta**:"
      ]
    },
    {
      "cell_type": "markdown",
      "metadata": {
        "colab_type": "text",
        "id": "BX3R-a0jmrmF"
      },
      "source": [
        "**Pergunta**: Quais são os valores de **precisão (precision)**, **sensibilidade (recall)** de validação? \n",
        "\n",
        "*Estes valores são exibidos durante o treinamento, utilize a última saída, exemplo:*\n",
        "\n",
        "```\n",
        "Epoch 10/10 [==============================] - 45s 9s/step - loss: 0.1234 - precision_score: 0.9742 - recall_score: 0.9683 - f1_score: 0.9712 - val_loss: 0.8819 - val_precision_score: 0.6912 - val_recall_score: 0.5649 - val_f1_score: 0.6216```\n",
        "\n",
        "No caso acima, o valor de precisão, sensibilidade e pontuação de validação são, respectivamente, 69,12%, 56,49% e 62,16%."
      ]
    },
    {
      "cell_type": "markdown",
      "metadata": {
        "colab_type": "text",
        "id": "Ss8ot5fPmrmG"
      },
      "source": [
        "**Resposta**:"
      ]
    },
    {
      "cell_type": "markdown",
      "metadata": {
        "colab_type": "text",
        "id": "Sk3tWmWhmrmG"
      },
      "source": [
        "### 4.5.3 Arquitetura VGG19"
      ]
    },
    {
      "cell_type": "markdown",
      "metadata": {
        "colab_type": "text",
        "id": "gwlcSyCJmrmG"
      },
      "source": [
        "**Pergunta**: Explique como é constituída a arquitetura do VGG19? *Utilize, se necessário, gráficos, projetos que utilizam essa arquitetura. Detalhe também sua topologia em camadas e mostre quais as situações essa arquitetura pode ter mais êxito e quais cenários não tem.*"
      ]
    },
    {
      "cell_type": "markdown",
      "metadata": {
        "colab_type": "text",
        "id": "l8fKTz93mrmH"
      },
      "source": [
        "**Resposta**:"
      ]
    },
    {
      "cell_type": "code",
      "metadata": {
        "colab_type": "code",
        "id": "Dhgq-4ZxmrmH",
        "colab": {}
      },
      "source": [
        "conv_base = VGG19(include_top=False)\n",
        "\n",
        "for layer in conv_base.layers:\n",
        "    layer.trainable = False"
      ],
      "execution_count": null,
      "outputs": []
    },
    {
      "cell_type": "code",
      "metadata": {
        "colab_type": "code",
        "id": "PBS26KA8mrmJ",
        "colab": {}
      },
      "source": [
        "x = conv_base.output\n",
        "x = layers.GlobalAveragePooling2D()(x)\n",
        "x = layers.Dense(128, activation='relu')(x) \n",
        "\n",
        "predictions = layers.Dense(qtde_classes, activation='softmax')(x)\n",
        "model = Model(conv_base.input, predictions)\n",
        "\n",
        "model.summary()"
      ],
      "execution_count": null,
      "outputs": []
    },
    {
      "cell_type": "code",
      "metadata": {
        "colab_type": "code",
        "id": "C2IgxPw_mrmL",
        "colab": {}
      },
      "source": [
        "optimizer = optimizers.Adam()\n",
        "model.compile(loss='categorical_crossentropy', optimizer=optimizer, metrics=[precision_score, recall_score, f1_score])"
      ],
      "execution_count": null,
      "outputs": []
    },
    {
      "cell_type": "code",
      "metadata": {
        "colab_type": "code",
        "id": "g2QxvTjKmrmP",
        "colab": {}
      },
      "source": [
        "history = model.fit(train_generator, epochs=qtde_epocas, validation_steps=5, steps_per_epoch=5, \n",
        "                    validation_data=val_generator)"
      ],
      "execution_count": null,
      "outputs": []
    },
    {
      "cell_type": "markdown",
      "metadata": {
        "colab_type": "text",
        "id": "dj7s4rcMmrmR"
      },
      "source": [
        "Um modelo que converge bem possui o gráfico de perda (*loss*) descendente e os gráfico de precisão (*precision*), sensibilidade (*recall*) e pontuação f1 (*f1 score*) em acendente."
      ]
    },
    {
      "cell_type": "code",
      "metadata": {
        "colab_type": "code",
        "id": "hlxSlX8XmrmR",
        "colab": {}
      },
      "source": [
        "# Exibindo dados de Precisão\n",
        "plt.plot(history.history['precision_score'])\n",
        "plt.plot(history.history['val_precision_score'])\n",
        "plt.title('model precision')\n",
        "plt.ylabel('precision')\n",
        "plt.xlabel('epoch')\n",
        "plt.legend(['train', 'test'], loc='upper left')\n",
        "plt.show()\n",
        "\n",
        "# Exibindo dados de Sensibilidade\n",
        "plt.plot(history.history['recall_score'])\n",
        "plt.plot(history.history['val_recall_score'])\n",
        "plt.title('model recall')\n",
        "plt.ylabel('recall')\n",
        "plt.xlabel('epoch')\n",
        "plt.legend(['train', 'test'], loc='upper left')\n",
        "plt.show()\n",
        "\n",
        "# Exibindo dados de F1 Score\n",
        "plt.plot(history.history['f1_score'])\n",
        "plt.plot(history.history['val_f1_score'])\n",
        "plt.title('model f1_score')\n",
        "plt.ylabel('f1_score')\n",
        "plt.xlabel('epoch')\n",
        "plt.legend(['train', 'test'], loc='upper left')\n",
        "plt.show()\n",
        "\n",
        "# Exibindo dados de Perda\n",
        "plt.plot(history.history['loss'])\n",
        "plt.plot(history.history['val_loss'])\n",
        "plt.title('model loss')\n",
        "plt.ylabel('loss')\n",
        "plt.xlabel('epoch')\n",
        "plt.legend(['train', 'test'], loc='upper left')\n",
        "plt.show()"
      ],
      "execution_count": null,
      "outputs": []
    },
    {
      "cell_type": "markdown",
      "metadata": {
        "colab_type": "text",
        "id": "V77OK0aomrmU"
      },
      "source": [
        "**Pergunta**: Avalie os gráficos de perda (*loss*), precisão (*precision*), sensibilidade (*recall*) e pontuação f1 (*f1 score*)  e explique o comportamento de ambos no que tange a convergência do modelo."
      ]
    },
    {
      "cell_type": "markdown",
      "metadata": {
        "colab_type": "text",
        "id": "jCjS-dB1mrmU"
      },
      "source": [
        "**Resposta**:"
      ]
    },
    {
      "cell_type": "markdown",
      "metadata": {
        "colab_type": "text",
        "id": "WwkVVvKomrmU"
      },
      "source": [
        "**Pergunta**: Quais são os valores de **precisão (precision)**, **sensibilidade (recall)** de validação? \n",
        "\n",
        "*Estes valores são exibidos durante o treinamento, utilize a última saída, exemplo:*\n",
        "\n",
        "```\n",
        "Epoch 10/10 [==============================] - 45s 9s/step - loss: 0.1234 - precision_score: 0.9742 - recall_score: 0.9683 - f1_score: 0.9712 - val_loss: 0.8819 - val_precision_score: 0.6912 - val_recall_score: 0.5649 - val_f1_score: 0.6216```\n",
        "\n",
        "No caso acima, o valor de precisão, sensibilidade e pontuação de validação são, respectivamente, 69,12%, 56,49% e 62,16%."
      ]
    },
    {
      "cell_type": "markdown",
      "metadata": {
        "colab_type": "text",
        "id": "QvuGR3sjmrmV"
      },
      "source": [
        "**Resposta**:"
      ]
    },
    {
      "cell_type": "markdown",
      "metadata": {
        "colab_type": "text",
        "id": "8IjiAZPGmrmV"
      },
      "source": [
        "## 4.6 Compartivo de arquiteturas\n",
        "\n",
        "Preencha a tabela abaixo com os valores dos indicadores de performance apresentados.\n",
        "\n",
        "_O cálculo do F1-Score é dado por 2 * (Precisão * Sensibilidade) / (Precisão + Sensibilidade)._"
      ]
    },
    {
      "cell_type": "markdown",
      "metadata": {
        "colab_type": "text",
        "id": "0cSy_Ti5mrmW"
      },
      "source": [
        "| Modelo   | Precisão (*Precision*) | Sensibilidade (*Recall*) | F1-Score |\n",
        "|----------|----------|---------------|----------|\n",
        "| ResNet50 | XX %     | XX %          | XX %     |\n",
        "| VGG16    | XX %     | XX %          | XX %     |\n",
        "| VGG19    | XX %     | XX %          | XX %     |"
      ]
    },
    {
      "cell_type": "markdown",
      "metadata": {
        "colab_type": "text",
        "id": "vr99OFY1mrmW"
      },
      "source": [
        "## 4.7 Conclusões\n",
        "\n",
        "Analise os resultados da tabela de indicadores do comparativo de arquiteturas e explique os principais motivos pelos quais cada modelo obteve cada resultado."
      ]
    },
    {
      "cell_type": "markdown",
      "metadata": {
        "colab_type": "text",
        "id": "jVWHRxZZmrmW"
      },
      "source": [
        "**Respota**:"
      ]
    },
    {
      "cell_type": "markdown",
      "metadata": {
        "colab_type": "text",
        "id": "UfwpHGULmrmX"
      },
      "source": [
        "## 4.8 Abordagem adicional (obrigatório)\n",
        "\n",
        "Considerando os outros classificadores, escolha outro que ainda não foi utilizado, implemente abaixo. Ao final compare os resultados e explique os resultados.\n",
        "\n",
        "_Não se esquece de utilizar as importações adequadas para cada modelo.\n",
        "A forma de implementação deve respeitar as mesmas condições como valor de split e quantidade de imagens para poder comparar os modelos._"
      ]
    },
    {
      "cell_type": "code",
      "metadata": {
        "colab_type": "code",
        "id": "NmPj6KRdmrmX",
        "colab": {}
      },
      "source": [
        "#IMPLEMENTE"
      ],
      "execution_count": null,
      "outputs": []
    },
    {
      "cell_type": "markdown",
      "metadata": {
        "colab_type": "text",
        "id": "p_z6R4D2mrmZ"
      },
      "source": [
        "### 4.8.1 Conclusões sobre a abordagem adicional\n",
        "\n",
        "Como seu modelo performou em comparação com os demais modelos anteriores? Justifique sua resposta levando em consideração a arquitetura respectiva."
      ]
    },
    {
      "cell_type": "markdown",
      "metadata": {
        "colab_type": "text",
        "id": "zhJXR09Umrma"
      },
      "source": [
        "**Resposta**:"
      ]
    },
    {
      "cell_type": "code",
      "metadata": {
        "colab_type": "code",
        "id": "X_JYuFeTmrma",
        "colab": {}
      },
      "source": [
        ""
      ],
      "execution_count": null,
      "outputs": []
    }
  ]
}